{
  "nbformat": 4,
  "nbformat_minor": 0,
  "metadata": {
    "colab": {
      "provenance": [],
      "machine_shape": "hm",
      "gpuType": "A100",
      "include_colab_link": true
    },
    "kernelspec": {
      "name": "python3",
      "display_name": "Python 3"
    },
    "language_info": {
      "name": "python"
    },
    "accelerator": "GPU"
  },
  "cells": [
    {
      "cell_type": "markdown",
      "metadata": {
        "id": "view-in-github",
        "colab_type": "text"
      },
      "source": [
        "<a href=\"https://colab.research.google.com/github/yiw008/nondet-project/blob/main/Go_Through_IPFlakies.ipynb\" target=\"_parent\"><img src=\"https://colab.research.google.com/assets/colab-badge.svg\" alt=\"Open In Colab\"/></a>"
      ]
    },
    {
      "cell_type": "code",
      "source": [
        "import pandas as pd\n",
        "import os\n",
        "import requests\n",
        "import csv\n",
        "import random\n",
        "from copy import deepcopy\n",
        "import json"
      ],
      "metadata": {
        "id": "br6HjLhjXTBh"
      },
      "execution_count": 1,
      "outputs": []
    },
    {
      "cell_type": "code",
      "source": [
        "# URL of the CSV file: iPFlakies\n",
        "url = \"https://zenodo.org/records/6176417/files/Test_Status.csv\""
      ],
      "metadata": {
        "id": "tHKJYrdSXcjv"
      },
      "execution_count": 2,
      "outputs": []
    },
    {
      "cell_type": "code",
      "source": [
        "# Read the CSV file from the URL\n",
        "data = pd.read_csv(url)"
      ],
      "metadata": {
        "id": "HIw2gt8GXl70"
      },
      "execution_count": 3,
      "outputs": []
    },
    {
      "cell_type": "code",
      "source": [
        "# Display the first few rows of the data\n",
        "print(data.head())"
      ],
      "metadata": {
        "colab": {
          "base_uri": "https://localhost:8080/"
        },
        "id": "FNefrgh2XoVZ",
        "outputId": "f8b44f0b-7536-489e-dab2-ea9a38f4c534"
      },
      "execution_count": 4,
      "outputs": [
        {
          "output_type": "stream",
          "name": "stdout",
          "text": [
            "  Project_Name                               Project_URL  \\\n",
            "0   BT-Tracker  https://github.com/nordwind80/BT-Tracker   \n",
            "1      Breathe         https://github.com/mrob95/Breathe   \n",
            "2      Breathe         https://github.com/mrob95/Breathe   \n",
            "3      Breathe         https://github.com/mrob95/Breathe   \n",
            "4      Breathe         https://github.com/mrob95/Breathe   \n",
            "\n",
            "                               Project_Hash  \\\n",
            "0  558c15b399871c1ca11d0c4ae1eb598e3060931e   \n",
            "1  4600818e24f4156cd7bb8cc0f43886b27323968e   \n",
            "2  4600818e24f4156cd7bb8cc0f43886b27323968e   \n",
            "3  4600818e24f4156cd7bb8cc0f43886b27323968e   \n",
            "4  4600818e24f4156cd7bb8cc0f43886b27323968e   \n",
            "\n",
            "                                             Test_id  Detected  Have_Patch  \\\n",
            "0  Tracker/tests/test_event.py::TestEvent::test_o...      True        True   \n",
            "1  tests/test_command_context.py::test_manual_con...      True       False   \n",
            "2                tests/test_loading.py::test_loading      True        True   \n",
            "3        tests/test_loading.py::test_loading_failure      True        True   \n",
            "4              tests/test_loading.py::test_reloading      True        True   \n",
            "\n",
            "   OD_Type  Polluter_or_Setter Cleaner  \n",
            "0  brittle                True     NaN  \n",
            "1  brittle                True     NaN  \n",
            "2  brittle                True     NaN  \n",
            "3   victim                True    True  \n",
            "4  brittle                True     NaN  \n"
          ]
        }
      ]
    },
    {
      "cell_type": "code",
      "source": [
        "def match_class(content, class_name):\n",
        "  start_index = content.find(f\"class {class_name}\")\n",
        "  if start_index == -1:\n",
        "    return None\n",
        "  return content[start_index:]"
      ],
      "metadata": {
        "id": "d1CjBbmkdwG2"
      },
      "execution_count": 5,
      "outputs": []
    },
    {
      "cell_type": "code",
      "source": [
        "def match_method(content, test_name):\n",
        "  start_index = content.find(f\"def {test_name}\")\n",
        "  if start_index == -1:\n",
        "    return None\n",
        "\n",
        "  end_index = -1\n",
        "  next_def_index = content.find(\"def \", start_index + len(test_name))\n",
        "  main_block_index = content.find(\"if __name__ == '__main__':\", start_index)\n",
        "\n",
        "  if next_def_index != -1:\n",
        "    end_index = next_def_index\n",
        "  elif main_block_index != -1:\n",
        "    end_index = main_block_index\n",
        "  else:\n",
        "    end_index = len(content)\n",
        "\n",
        "  return content[start_index:end_index]"
      ],
      "metadata": {
        "id": "t9j0PH9-eAcR"
      },
      "execution_count": 6,
      "outputs": []
    },
    {
      "cell_type": "code",
      "source": [
        "def remove_square_brackets(test_name):\n",
        "  start_index = test_name.find('[')\n",
        "  end_index = test_name.find(']')\n",
        "\n",
        "  if start_index != -1 and end_index != -1:\n",
        "    new_test_name = test_name[:start_index]\n",
        "    return new_test_name\n",
        "  else:\n",
        "    return test_name"
      ],
      "metadata": {
        "id": "B7ECrfO1oYYN"
      },
      "execution_count": 7,
      "outputs": []
    },
    {
      "cell_type": "code",
      "source": [
        "def read_python_file(url):\n",
        "  try:\n",
        "    response = requests.get(url)\n",
        "    response.raise_for_status()  # Check for HTTP errors\n",
        "    # The content of the file is in response.text\n",
        "    python_code = response.text\n",
        "    return python_code\n",
        "  except requests.exceptions.RequestException as e:\n",
        "    print(f\"Error fetching the file: {e}\")\n",
        "    return None"
      ],
      "metadata": {
        "id": "VHFoylAnr5MO"
      },
      "execution_count": 8,
      "outputs": []
    },
    {
      "cell_type": "code",
      "source": [
        "def special_cases(project_name, repo_url, commit_hash, test_file_path, class_name, test_name):\n",
        "  if project_name == 'Butter.MAS.PythonAPI' and commit_hash == 'f86ebe75df3826f62a268645cdbe4400b43fab07' and test_file_path.startswith('butter/mas/tests/clients/'):\n",
        "    test_file_path = 'butter/mas/tests/clients/client_test.py'\n",
        "    class_name = ''\n",
        "\n",
        "  if project_name == 'SNData' and commit_hash == 'e4854f0dc357484b437b15f9dac15f7c589eff58' and (class_name == 'Sako18Parsing' or class_name == 'DR1Parsing'):\n",
        "    test_file_path = 'tests/data_parsing_template_tests.py'\n",
        "    class_name = ''\n",
        "    if test_name == 'test_standard_column_names':\n",
        "      class_name = 'PhotometricDataParsing'\n",
        "\n",
        "  if project_name == 'bootstrap_env' and commit_hash == 'ab68025d8f6b9a17d8feeed83e8aae26e3f28769' and test_file_path.startswith('bootstrap_env/tests/'):\n",
        "    test_file_path = 'bootstrap_env/tests/base.py'\n",
        "\n",
        "  if repo_url.endswith('.git'):\n",
        "    repo_url = repo_url[:-4]\n",
        "\n",
        "  if project_name == 'data-pypes' and test_name == 'pypes.logsetup.get_logconfig':\n",
        "    test_name = 'get_logconfig'\n",
        "\n",
        "  if project_name == 'elife-tools':\n",
        "    end_index = test_name.find('_1_elife_02833_v2_xml')\n",
        "    test_name = test_name[:end_index]\n",
        "\n",
        "  if project_name == 'noipy':\n",
        "    repo_url = 'https://github.com/pv8/noipy'\n",
        "\n",
        "  if project_name == 'pymq' and commit_hash == '101857bca2b705c328d3bda3b26797b51e8ffb70':\n",
        "    if class_name == 'SimplePubSubTest':\n",
        "      test_file_path = 'tests/base/pubsub.py'\n",
        "      class_name = 'AbstractPubSubTest'\n",
        "    if class_name == 'IpcQueueTest':\n",
        "      test_file_path = 'tests/base/queue.py'\n",
        "      class_name = 'AbstractQueueTest'\n",
        "    if class_name == 'IpcRpcTest' or class_name == 'SimpleRpcTest':\n",
        "      test_file_path = 'tests/base/rpc.py'\n",
        "      class_name = 'AbstractRpcTest'\n",
        "\n",
        "  if project_name == 'pyswarms' and commit_hash == '08756526f39699eef28e515cac2ead17cef55710' and class_name == 'TestLocalBestOptimizer' and test_name == 'test_obj_with_kwargs':\n",
        "    test_file_path = 'tests/optimizers/abc_test_optimizer.py'\n",
        "    class_name = 'ABCTestOptimizer'\n",
        "\n",
        "  if project_name == 'python-openflow' and commit_hash == 'a3387a7b28d529a3605aa1506a028e03394e4526' and class_name == 'TestFlowMod' and test_name == 'test_minimum_size':\n",
        "    test_file_path = 'tests/unit/test_struct.py'\n",
        "    class_name = 'TestStruct'\n",
        "\n",
        "  return project_name, repo_url, commit_hash, test_file_path, class_name, test_name"
      ],
      "metadata": {
        "id": "bppHB4Ss5O37"
      },
      "execution_count": 9,
      "outputs": []
    },
    {
      "cell_type": "code",
      "source": [
        "all_test_methods = []\n",
        "project_to_num_tests = dict()\n",
        "print('The indices below corresponds to the row number in the csv file shown on https://sites.google.com/view/ipflakies.')\n",
        "\n",
        "for index, row in data.iterrows():\n",
        "  row_in_csv = index + 2\n",
        "  project_name = row['Project_Name']\n",
        "  repo_url = row['Project_URL']\n",
        "  commit_hash = row['Project_Hash']\n",
        "  if len(row['Test_id'].split('::')) > 2:\n",
        "    test_file_path = row['Test_id'].split('::')[0]\n",
        "    class_name = row['Test_id'].split('::')[1]\n",
        "    test_name = row['Test_id'].split('::')[2]\n",
        "  else:\n",
        "    test_file_path = row['Test_id'].split('::')[0]\n",
        "    class_name = ''\n",
        "    test_name = row['Test_id'].split('::')[1]\n",
        "  test_name = remove_square_brackets(test_name)\n",
        "  detected = row['Detected']\n",
        "\n",
        "  test_file_path_rec = test_file_path\n",
        "  class_name_rec = class_name\n",
        "  test_name_rec = test_name\n",
        "\n",
        "  project_name, repo_url, commit_hash, test_file_path, class_name, test_name = special_cases(project_name, repo_url, commit_hash, test_file_path, class_name, test_name)\n",
        "\n",
        "  new_url = repo_url.replace('github.com', 'raw.githubusercontent.com')\n",
        "  new_url += '/' + commit_hash + '/' + test_file_path\n",
        "\n",
        "  content = read_python_file(new_url)\n",
        "  if content is None:\n",
        "    print(f\"Row {row_in_csv}: {repo_url}/blob/{commit_hash}/{test_file_path}, Error fetching the file\\n\")\n",
        "    continue\n",
        "\n",
        "  # Class content\n",
        "  if class_name != '':\n",
        "    content = match_class(content, class_name)\n",
        "    if content is None:\n",
        "      print(f\"Row {row_in_csv}: In {repo_url}/blob/{commit_hash}/{test_file_path}, Class '{class_name}' not found.\")\n",
        "      continue\n",
        "\n",
        "  # Test method content\n",
        "  content = match_method(content, test_name)\n",
        "  if content is None:\n",
        "    print(f\"Row {row_in_csv}: In {repo_url}/blob/{commit_hash}/{test_file_path}, Class '{class_name}' , Test function '{test_name}' not found.\")\n",
        "    continue\n",
        "\n",
        "  test_method = {}\n",
        "  test_method['Row'] = row_in_csv\n",
        "  test_method['Project_Name'] = project_name\n",
        "  test_method['URL'] = repo_url + '/blob/' + commit_hash + '/' + test_file_path_rec\n",
        "  test_method['Class'] = class_name_rec\n",
        "  test_method['Test'] = test_name_rec\n",
        "  test_method['Content'] = content\n",
        "  test_method['Detected'] = detected\n",
        "  all_test_methods.append(test_method)\n",
        "  project_to_num_tests[project_name] = project_to_num_tests.get(project_name, 0) + 1"
      ],
      "metadata": {
        "colab": {
          "base_uri": "https://localhost:8080/"
        },
        "id": "gi9YCcA7Xru4",
        "outputId": "bf6adc68-2efe-4451-dbef-227569d2f2d5",
        "collapsed": true
      },
      "execution_count": 10,
      "outputs": [
        {
          "output_type": "stream",
          "name": "stdout",
          "text": [
            "The indices below corresponds to the row number in the csv file shown on https://sites.google.com/view/ipflakies.\n",
            "Error fetching the file: 404 Client Error: Not Found for url: https://raw.githubusercontent.com/AshtonUPS/Py-MI-PS/2d22327c75bac1b58a4804a61e7a703ecc5ba978/src/PyMIPS/tests/register_test.py\n",
            "Row 135: https://github.com/AshtonUPS/Py-MI-PS/blob/2d22327c75bac1b58a4804a61e7a703ecc5ba978/src/PyMIPS/tests/register_test.py, Error fetching the file\n",
            "\n",
            "Error fetching the file: 404 Client Error: Not Found for url: https://raw.githubusercontent.com/cryptowatch/cw-sdk-python/92bd90db16dfc116c0708d19d27208d9bfc990c1/tests/test_api.py\n",
            "Row 516: https://github.com/cryptowatch/cw-sdk-python/blob/92bd90db16dfc116c0708d19d27208d9bfc990c1/tests/test_api.py, Error fetching the file\n",
            "\n",
            "Error fetching the file: 404 Client Error: Not Found for url: https://raw.githubusercontent.com/cryptowatch/cw-sdk-python/92bd90db16dfc116c0708d19d27208d9bfc990c1/tests/test_api.py\n",
            "Row 517: https://github.com/cryptowatch/cw-sdk-python/blob/92bd90db16dfc116c0708d19d27208d9bfc990c1/tests/test_api.py, Error fetching the file\n",
            "\n",
            "Error fetching the file: 404 Client Error: Not Found for url: https://raw.githubusercontent.com/cryptowatch/cw-sdk-python/92bd90db16dfc116c0708d19d27208d9bfc990c1/tests/test_api.py\n",
            "Row 518: https://github.com/cryptowatch/cw-sdk-python/blob/92bd90db16dfc116c0708d19d27208d9bfc990c1/tests/test_api.py, Error fetching the file\n",
            "\n",
            "Error fetching the file: 404 Client Error: Not Found for url: https://raw.githubusercontent.com/cryptowatch/cw-sdk-python/92bd90db16dfc116c0708d19d27208d9bfc990c1/tests/test_api.py\n",
            "Row 519: https://github.com/cryptowatch/cw-sdk-python/blob/92bd90db16dfc116c0708d19d27208d9bfc990c1/tests/test_api.py, Error fetching the file\n",
            "\n",
            "Error fetching the file: 404 Client Error: Not Found for url: https://raw.githubusercontent.com/ElementAI/greensim/f160e8b57d69f6ef469f2e991cc07b7721e08a91/tests/test_logging.py\n",
            "Row 884: https://github.com/ElementAI/greensim/blob/f160e8b57d69f6ef469f2e991cc07b7721e08a91/tests/test_logging.py, Error fetching the file\n",
            "\n",
            "Error fetching the file: 404 Client Error: Not Found for url: https://raw.githubusercontent.com/ElementAI/greensim/f160e8b57d69f6ef469f2e991cc07b7721e08a91/tests/test_logging.py\n",
            "Row 885: https://github.com/ElementAI/greensim/blob/f160e8b57d69f6ef469f2e991cc07b7721e08a91/tests/test_logging.py, Error fetching the file\n",
            "\n",
            "Error fetching the file: 404 Client Error: Not Found for url: https://raw.githubusercontent.com/ElementAI/greensim/f160e8b57d69f6ef469f2e991cc07b7721e08a91/tests/test_logging.py\n",
            "Row 886: https://github.com/ElementAI/greensim/blob/f160e8b57d69f6ef469f2e991cc07b7721e08a91/tests/test_logging.py, Error fetching the file\n",
            "\n",
            "Error fetching the file: 404 Client Error: Not Found for url: https://raw.githubusercontent.com/ElementAI/greensim/f160e8b57d69f6ef469f2e991cc07b7721e08a91/tests/test_logging.py\n",
            "Row 887: https://github.com/ElementAI/greensim/blob/f160e8b57d69f6ef469f2e991cc07b7721e08a91/tests/test_logging.py, Error fetching the file\n",
            "\n",
            "Error fetching the file: 404 Client Error: Not Found for url: https://raw.githubusercontent.com/ElementAI/greensim/f160e8b57d69f6ef469f2e991cc07b7721e08a91/tests/test_logging.py\n",
            "Row 888: https://github.com/ElementAI/greensim/blob/f160e8b57d69f6ef469f2e991cc07b7721e08a91/tests/test_logging.py, Error fetching the file\n",
            "\n",
            "Error fetching the file: 404 Client Error: Not Found for url: https://raw.githubusercontent.com/ElementAI/greensim/f160e8b57d69f6ef469f2e991cc07b7721e08a91/tests/test_sim.py\n",
            "Row 889: https://github.com/ElementAI/greensim/blob/f160e8b57d69f6ef469f2e991cc07b7721e08a91/tests/test_sim.py, Error fetching the file\n",
            "\n",
            "Error fetching the file: 404 Client Error: Not Found for url: https://raw.githubusercontent.com/jerodg/jgutils/6c8ed6aca37d509af8ce1b57635fad62f1c846b4/jgutils/tests/test_persistentdict.py\n",
            "Row 991: https://github.com/jerodg/jgutils/blob/6c8ed6aca37d509af8ce1b57635fad62f1c846b4/jgutils/tests/test_persistentdict.py, Error fetching the file\n",
            "\n",
            "Error fetching the file: 404 Client Error: Not Found for url: https://raw.githubusercontent.com/gmggroup/omf/bf0cfaa4d05c438606d7b4561166bf12d2c1be74/tests/test_base.py\n",
            "Row 1156: https://github.com/gmggroup/omf/blob/bf0cfaa4d05c438606d7b4561166bf12d2c1be74/tests/test_base.py, Error fetching the file\n",
            "\n",
            "Error fetching the file: 404 Client Error: Not Found for url: https://raw.githubusercontent.com/optiflows/tukio/116b35dbceae899d7996b1788449a6e31e3f4512/tests/test_task.py\n",
            "Row 1838: https://github.com/optiflows/tukio/blob/116b35dbceae899d7996b1788449a6e31e3f4512/tests/test_task.py, Error fetching the file\n",
            "\n",
            "Error fetching the file: 404 Client Error: Not Found for url: https://raw.githubusercontent.com/optiflows/tukio/116b35dbceae899d7996b1788449a6e31e3f4512/tests/test_task.py\n",
            "Row 1839: https://github.com/optiflows/tukio/blob/116b35dbceae899d7996b1788449a6e31e3f4512/tests/test_task.py, Error fetching the file\n",
            "\n",
            "Error fetching the file: 404 Client Error: Not Found for url: https://raw.githubusercontent.com/optiflows/tukio/116b35dbceae899d7996b1788449a6e31e3f4512/tests/test_task.py\n",
            "Row 1840: https://github.com/optiflows/tukio/blob/116b35dbceae899d7996b1788449a6e31e3f4512/tests/test_task.py, Error fetching the file\n",
            "\n",
            "Error fetching the file: 404 Client Error: Not Found for url: https://raw.githubusercontent.com/optiflows/tukio/116b35dbceae899d7996b1788449a6e31e3f4512/tests/test_task.py\n",
            "Row 1841: https://github.com/optiflows/tukio/blob/116b35dbceae899d7996b1788449a6e31e3f4512/tests/test_task.py, Error fetching the file\n",
            "\n",
            "Error fetching the file: 404 Client Error: Not Found for url: https://raw.githubusercontent.com/optiflows/tukio/116b35dbceae899d7996b1788449a6e31e3f4512/tests/test_task.py\n",
            "Row 1842: https://github.com/optiflows/tukio/blob/116b35dbceae899d7996b1788449a6e31e3f4512/tests/test_task.py, Error fetching the file\n",
            "\n",
            "Error fetching the file: 404 Client Error: Not Found for url: https://raw.githubusercontent.com/optiflows/tukio/116b35dbceae899d7996b1788449a6e31e3f4512/tests/test_task.py\n",
            "Row 1843: https://github.com/optiflows/tukio/blob/116b35dbceae899d7996b1788449a6e31e3f4512/tests/test_task.py, Error fetching the file\n",
            "\n",
            "Error fetching the file: 404 Client Error: Not Found for url: https://raw.githubusercontent.com/optiflows/tukio/116b35dbceae899d7996b1788449a6e31e3f4512/tests/test_task.py\n",
            "Row 1844: https://github.com/optiflows/tukio/blob/116b35dbceae899d7996b1788449a6e31e3f4512/tests/test_task.py, Error fetching the file\n",
            "\n",
            "Error fetching the file: 404 Client Error: Not Found for url: https://raw.githubusercontent.com/optiflows/tukio/116b35dbceae899d7996b1788449a6e31e3f4512/tests/test_task.py\n",
            "Row 1845: https://github.com/optiflows/tukio/blob/116b35dbceae899d7996b1788449a6e31e3f4512/tests/test_task.py, Error fetching the file\n",
            "\n",
            "Error fetching the file: 404 Client Error: Not Found for url: https://raw.githubusercontent.com/optiflows/tukio/116b35dbceae899d7996b1788449a6e31e3f4512/tests/test_task.py\n",
            "Row 1846: https://github.com/optiflows/tukio/blob/116b35dbceae899d7996b1788449a6e31e3f4512/tests/test_task.py, Error fetching the file\n",
            "\n",
            "Error fetching the file: 404 Client Error: Not Found for url: https://raw.githubusercontent.com/optiflows/tukio/116b35dbceae899d7996b1788449a6e31e3f4512/tests/test_task.py\n",
            "Row 1847: https://github.com/optiflows/tukio/blob/116b35dbceae899d7996b1788449a6e31e3f4512/tests/test_task.py, Error fetching the file\n",
            "\n",
            "Error fetching the file: 404 Client Error: Not Found for url: https://raw.githubusercontent.com/optiflows/tukio/116b35dbceae899d7996b1788449a6e31e3f4512/tests/test_task.py\n",
            "Row 1848: https://github.com/optiflows/tukio/blob/116b35dbceae899d7996b1788449a6e31e3f4512/tests/test_task.py, Error fetching the file\n",
            "\n",
            "Error fetching the file: 404 Client Error: Not Found for url: https://raw.githubusercontent.com/optiflows/tukio/116b35dbceae899d7996b1788449a6e31e3f4512/tests/test_task.py\n",
            "Row 1849: https://github.com/optiflows/tukio/blob/116b35dbceae899d7996b1788449a6e31e3f4512/tests/test_task.py, Error fetching the file\n",
            "\n",
            "Error fetching the file: 404 Client Error: Not Found for url: https://raw.githubusercontent.com/optiflows/tukio/116b35dbceae899d7996b1788449a6e31e3f4512/tests/test_task.py\n",
            "Row 1850: https://github.com/optiflows/tukio/blob/116b35dbceae899d7996b1788449a6e31e3f4512/tests/test_task.py, Error fetching the file\n",
            "\n",
            "Error fetching the file: 404 Client Error: Not Found for url: https://raw.githubusercontent.com/optiflows/tukio/116b35dbceae899d7996b1788449a6e31e3f4512/tests/test_task.py\n",
            "Row 1851: https://github.com/optiflows/tukio/blob/116b35dbceae899d7996b1788449a6e31e3f4512/tests/test_task.py, Error fetching the file\n",
            "\n",
            "Error fetching the file: 404 Client Error: Not Found for url: https://raw.githubusercontent.com/optiflows/tukio/116b35dbceae899d7996b1788449a6e31e3f4512/tests/test_task.py\n",
            "Row 1852: https://github.com/optiflows/tukio/blob/116b35dbceae899d7996b1788449a6e31e3f4512/tests/test_task.py, Error fetching the file\n",
            "\n",
            "Error fetching the file: 404 Client Error: Not Found for url: https://raw.githubusercontent.com/optiflows/tukio/116b35dbceae899d7996b1788449a6e31e3f4512/tests/test_task.py\n",
            "Row 1853: https://github.com/optiflows/tukio/blob/116b35dbceae899d7996b1788449a6e31e3f4512/tests/test_task.py, Error fetching the file\n",
            "\n",
            "Error fetching the file: 404 Client Error: Not Found for url: https://raw.githubusercontent.com/surycat/tukio/116b35dbceae899d7996b1788449a6e31e3f4512/tests/test_task.py\n",
            "Row 1854: https://github.com/surycat/tukio/blob/116b35dbceae899d7996b1788449a6e31e3f4512/tests/test_task.py, Error fetching the file\n",
            "\n",
            "Error fetching the file: 404 Client Error: Not Found for url: https://raw.githubusercontent.com/surycat/tukio/116b35dbceae899d7996b1788449a6e31e3f4512/tests/test_task.py\n",
            "Row 1855: https://github.com/surycat/tukio/blob/116b35dbceae899d7996b1788449a6e31e3f4512/tests/test_task.py, Error fetching the file\n",
            "\n",
            "Error fetching the file: 404 Client Error: Not Found for url: https://raw.githubusercontent.com/surycat/tukio/116b35dbceae899d7996b1788449a6e31e3f4512/tests/test_task.py\n",
            "Row 1856: https://github.com/surycat/tukio/blob/116b35dbceae899d7996b1788449a6e31e3f4512/tests/test_task.py, Error fetching the file\n",
            "\n",
            "Error fetching the file: 404 Client Error: Not Found for url: https://raw.githubusercontent.com/surycat/tukio/116b35dbceae899d7996b1788449a6e31e3f4512/tests/test_task.py\n",
            "Row 1857: https://github.com/surycat/tukio/blob/116b35dbceae899d7996b1788449a6e31e3f4512/tests/test_task.py, Error fetching the file\n",
            "\n",
            "Error fetching the file: 404 Client Error: Not Found for url: https://raw.githubusercontent.com/surycat/tukio/116b35dbceae899d7996b1788449a6e31e3f4512/tests/test_task.py\n",
            "Row 1858: https://github.com/surycat/tukio/blob/116b35dbceae899d7996b1788449a6e31e3f4512/tests/test_task.py, Error fetching the file\n",
            "\n",
            "Error fetching the file: 404 Client Error: Not Found for url: https://raw.githubusercontent.com/surycat/tukio/116b35dbceae899d7996b1788449a6e31e3f4512/tests/test_task.py\n",
            "Row 1859: https://github.com/surycat/tukio/blob/116b35dbceae899d7996b1788449a6e31e3f4512/tests/test_task.py, Error fetching the file\n",
            "\n",
            "Error fetching the file: 404 Client Error: Not Found for url: https://raw.githubusercontent.com/surycat/tukio/116b35dbceae899d7996b1788449a6e31e3f4512/tests/test_task.py\n",
            "Row 1860: https://github.com/surycat/tukio/blob/116b35dbceae899d7996b1788449a6e31e3f4512/tests/test_task.py, Error fetching the file\n",
            "\n",
            "Error fetching the file: 404 Client Error: Not Found for url: https://raw.githubusercontent.com/surycat/tukio/116b35dbceae899d7996b1788449a6e31e3f4512/tests/test_task.py\n",
            "Row 1861: https://github.com/surycat/tukio/blob/116b35dbceae899d7996b1788449a6e31e3f4512/tests/test_task.py, Error fetching the file\n",
            "\n",
            "Error fetching the file: 404 Client Error: Not Found for url: https://raw.githubusercontent.com/surycat/tukio/116b35dbceae899d7996b1788449a6e31e3f4512/tests/test_task.py\n",
            "Row 1862: https://github.com/surycat/tukio/blob/116b35dbceae899d7996b1788449a6e31e3f4512/tests/test_task.py, Error fetching the file\n",
            "\n",
            "Error fetching the file: 404 Client Error: Not Found for url: https://raw.githubusercontent.com/surycat/tukio/116b35dbceae899d7996b1788449a6e31e3f4512/tests/test_task.py\n",
            "Row 1863: https://github.com/surycat/tukio/blob/116b35dbceae899d7996b1788449a6e31e3f4512/tests/test_task.py, Error fetching the file\n",
            "\n",
            "Error fetching the file: 404 Client Error: Not Found for url: https://raw.githubusercontent.com/surycat/tukio/116b35dbceae899d7996b1788449a6e31e3f4512/tests/test_task.py\n",
            "Row 1864: https://github.com/surycat/tukio/blob/116b35dbceae899d7996b1788449a6e31e3f4512/tests/test_task.py, Error fetching the file\n",
            "\n",
            "Error fetching the file: 404 Client Error: Not Found for url: https://raw.githubusercontent.com/surycat/tukio/116b35dbceae899d7996b1788449a6e31e3f4512/tests/test_task.py\n",
            "Row 1865: https://github.com/surycat/tukio/blob/116b35dbceae899d7996b1788449a6e31e3f4512/tests/test_task.py, Error fetching the file\n",
            "\n",
            "Error fetching the file: 404 Client Error: Not Found for url: https://raw.githubusercontent.com/surycat/tukio/116b35dbceae899d7996b1788449a6e31e3f4512/tests/test_task.py\n",
            "Row 1866: https://github.com/surycat/tukio/blob/116b35dbceae899d7996b1788449a6e31e3f4512/tests/test_task.py, Error fetching the file\n",
            "\n",
            "Error fetching the file: 404 Client Error: Not Found for url: https://raw.githubusercontent.com/surycat/tukio/116b35dbceae899d7996b1788449a6e31e3f4512/tests/test_task.py\n",
            "Row 1867: https://github.com/surycat/tukio/blob/116b35dbceae899d7996b1788449a6e31e3f4512/tests/test_task.py, Error fetching the file\n",
            "\n",
            "Error fetching the file: 404 Client Error: Not Found for url: https://raw.githubusercontent.com/surycat/tukio/116b35dbceae899d7996b1788449a6e31e3f4512/tests/test_task.py\n",
            "Row 1868: https://github.com/surycat/tukio/blob/116b35dbceae899d7996b1788449a6e31e3f4512/tests/test_task.py, Error fetching the file\n",
            "\n",
            "Error fetching the file: 404 Client Error: Not Found for url: https://raw.githubusercontent.com/surycat/tukio/116b35dbceae899d7996b1788449a6e31e3f4512/tests/test_task.py\n",
            "Row 1869: https://github.com/surycat/tukio/blob/116b35dbceae899d7996b1788449a6e31e3f4512/tests/test_task.py, Error fetching the file\n",
            "\n",
            "Error fetching the file: 404 Client Error: Not Found for url: https://raw.githubusercontent.com/upday7/web_dict/c7be8a69028b1fa8be61417b25e322083e2dd2a7/web_dict/tests/test_ub.py\n",
            "Row 1895: https://github.com/upday7/web_dict/blob/c7be8a69028b1fa8be61417b25e322083e2dd2a7/web_dict/tests/test_ub.py, Error fetching the file\n",
            "\n",
            "Error fetching the file: 404 Client Error: Not Found for url: https://raw.githubusercontent.com/efe/zula/6328eb9c0e18debaaa769b7ac0d05a4a472f4746/neurodsp/tests/aperiodic/test_dfa.py\n",
            "Row 1980: https://github.com/efe/zula/blob/6328eb9c0e18debaaa769b7ac0d05a4a472f4746/neurodsp/tests/aperiodic/test_dfa.py, Error fetching the file\n",
            "\n",
            "Error fetching the file: 404 Client Error: Not Found for url: https://raw.githubusercontent.com/efe/zula/6328eb9c0e18debaaa769b7ac0d05a4a472f4746/neurodsp/tests/aperiodic/test_irasa.py\n",
            "Row 1981: https://github.com/efe/zula/blob/6328eb9c0e18debaaa769b7ac0d05a4a472f4746/neurodsp/tests/aperiodic/test_irasa.py, Error fetching the file\n",
            "\n",
            "Error fetching the file: 404 Client Error: Not Found for url: https://raw.githubusercontent.com/efe/zula/6328eb9c0e18debaaa769b7ac0d05a4a472f4746/tests/test_report.py\n",
            "Row 1982: https://github.com/efe/zula/blob/6328eb9c0e18debaaa769b7ac0d05a4a472f4746/tests/test_report.py, Error fetching the file\n",
            "\n",
            "Error fetching the file: 404 Client Error: Not Found for url: https://raw.githubusercontent.com/efe/zula/6328eb9c0e18debaaa769b7ac0d05a4a472f4746/tests/test_posts.py\n",
            "Row 1983: https://github.com/efe/zula/blob/6328eb9c0e18debaaa769b7ac0d05a4a472f4746/tests/test_posts.py, Error fetching the file\n",
            "\n",
            "Error fetching the file: 404 Client Error: Not Found for url: https://raw.githubusercontent.com/efe/zula/6328eb9c0e18debaaa769b7ac0d05a4a472f4746/tests/test_posts.py\n",
            "Row 1984: https://github.com/efe/zula/blob/6328eb9c0e18debaaa769b7ac0d05a4a472f4746/tests/test_posts.py, Error fetching the file\n",
            "\n",
            "Error fetching the file: 404 Client Error: Not Found for url: https://raw.githubusercontent.com/efe/zula/6328eb9c0e18debaaa769b7ac0d05a4a472f4746/plcx/tests/comm/test_server.py\n",
            "Row 1985: https://github.com/efe/zula/blob/6328eb9c0e18debaaa769b7ac0d05a4a472f4746/plcx/tests/comm/test_server.py, Error fetching the file\n",
            "\n",
            "Error fetching the file: 404 Client Error: Not Found for url: https://raw.githubusercontent.com/efe/zula/6328eb9c0e18debaaa769b7ac0d05a4a472f4746/plcx/tests/comm/test_server.py\n",
            "Row 1986: https://github.com/efe/zula/blob/6328eb9c0e18debaaa769b7ac0d05a4a472f4746/plcx/tests/comm/test_server.py, Error fetching the file\n",
            "\n",
            "Error fetching the file: 404 Client Error: Not Found for url: https://raw.githubusercontent.com/efe/zula/6328eb9c0e18debaaa769b7ac0d05a4a472f4746/tests/test_provider_ipc.py\n",
            "Row 1987: https://github.com/efe/zula/blob/6328eb9c0e18debaaa769b7ac0d05a4a472f4746/tests/test_provider_ipc.py, Error fetching the file\n",
            "\n",
            "Error fetching the file: 404 Client Error: Not Found for url: https://raw.githubusercontent.com/efe/zula/6328eb9c0e18debaaa769b7ac0d05a4a472f4746/tests/test_provider_ipc.py\n",
            "Row 1988: https://github.com/efe/zula/blob/6328eb9c0e18debaaa769b7ac0d05a4a472f4746/tests/test_provider_ipc.py, Error fetching the file\n",
            "\n",
            "Error fetching the file: 404 Client Error: Not Found for url: https://raw.githubusercontent.com/efe/zula/6328eb9c0e18debaaa769b7ac0d05a4a472f4746/authnzerver/tests/test_auth_permissions.py\n",
            "Row 1989: https://github.com/efe/zula/blob/6328eb9c0e18debaaa769b7ac0d05a4a472f4746/authnzerver/tests/test_auth_permissions.py, Error fetching the file\n",
            "\n",
            "Error fetching the file: 404 Client Error: Not Found for url: https://raw.githubusercontent.com/efe/zula/6328eb9c0e18debaaa769b7ac0d05a4a472f4746/tests/test_real_conditions.py\n",
            "Row 1990: https://github.com/efe/zula/blob/6328eb9c0e18debaaa769b7ac0d05a4a472f4746/tests/test_real_conditions.py, Error fetching the file\n",
            "\n",
            "Error fetching the file: 404 Client Error: Not Found for url: https://raw.githubusercontent.com/efe/zula/6328eb9c0e18debaaa769b7ac0d05a4a472f4746/tests/test_real_conditions.py\n",
            "Row 1991: https://github.com/efe/zula/blob/6328eb9c0e18debaaa769b7ac0d05a4a472f4746/tests/test_real_conditions.py, Error fetching the file\n",
            "\n",
            "Error fetching the file: 404 Client Error: Not Found for url: https://raw.githubusercontent.com/efe/zula/6328eb9c0e18debaaa769b7ac0d05a4a472f4746/pynoorm/tests/test_pynoorm.py\n",
            "Row 1992: https://github.com/efe/zula/blob/6328eb9c0e18debaaa769b7ac0d05a4a472f4746/pynoorm/tests/test_pynoorm.py, Error fetching the file\n",
            "\n",
            "Error fetching the file: 404 Client Error: Not Found for url: https://raw.githubusercontent.com/efe/zula/6328eb9c0e18debaaa769b7ac0d05a4a472f4746/pynoorm/tests/test_pynoorm.py\n",
            "Row 1993: https://github.com/efe/zula/blob/6328eb9c0e18debaaa769b7ac0d05a4a472f4746/pynoorm/tests/test_pynoorm.py, Error fetching the file\n",
            "\n",
            "Error fetching the file: 404 Client Error: Not Found for url: https://raw.githubusercontent.com/efe/zula/6328eb9c0e18debaaa769b7ac0d05a4a472f4746/test/pyiosxr/test_iosxr.py\n",
            "Row 1994: https://github.com/efe/zula/blob/6328eb9c0e18debaaa769b7ac0d05a4a472f4746/test/pyiosxr/test_iosxr.py, Error fetching the file\n",
            "\n",
            "Error fetching the file: 404 Client Error: Not Found for url: https://raw.githubusercontent.com/efe/zula/6328eb9c0e18debaaa769b7ac0d05a4a472f4746/test/pyiosxr/test_iosxr.py\n",
            "Row 1995: https://github.com/efe/zula/blob/6328eb9c0e18debaaa769b7ac0d05a4a472f4746/test/pyiosxr/test_iosxr.py, Error fetching the file\n",
            "\n",
            "Error fetching the file: 404 Client Error: Not Found for url: https://raw.githubusercontent.com/efe/zula/6328eb9c0e18debaaa769b7ac0d05a4a472f4746/test/pyiosxr/test_iosxr.py\n",
            "Row 1996: https://github.com/efe/zula/blob/6328eb9c0e18debaaa769b7ac0d05a4a472f4746/test/pyiosxr/test_iosxr.py, Error fetching the file\n",
            "\n",
            "Error fetching the file: 404 Client Error: Not Found for url: https://raw.githubusercontent.com/efe/zula/6328eb9c0e18debaaa769b7ac0d05a4a472f4746/test/pyiosxr/test_iosxr.py\n",
            "Row 1997: https://github.com/efe/zula/blob/6328eb9c0e18debaaa769b7ac0d05a4a472f4746/test/pyiosxr/test_iosxr.py, Error fetching the file\n",
            "\n",
            "Error fetching the file: 404 Client Error: Not Found for url: https://raw.githubusercontent.com/efe/zula/6328eb9c0e18debaaa769b7ac0d05a4a472f4746/tests/test_ticking.py\n",
            "Row 1998: https://github.com/efe/zula/blob/6328eb9c0e18debaaa769b7ac0d05a4a472f4746/tests/test_ticking.py, Error fetching the file\n",
            "\n",
            "Error fetching the file: 404 Client Error: Not Found for url: https://raw.githubusercontent.com/efe/zula/6328eb9c0e18debaaa769b7ac0d05a4a472f4746/tests/test_ticking.py\n",
            "Row 1999: https://github.com/efe/zula/blob/6328eb9c0e18debaaa769b7ac0d05a4a472f4746/tests/test_ticking.py, Error fetching the file\n",
            "\n",
            "Error fetching the file: 404 Client Error: Not Found for url: https://raw.githubusercontent.com/efe/zula/6328eb9c0e18debaaa769b7ac0d05a4a472f4746/tests/test_ticking.py\n",
            "Row 2000: https://github.com/efe/zula/blob/6328eb9c0e18debaaa769b7ac0d05a4a472f4746/tests/test_ticking.py, Error fetching the file\n",
            "\n",
            "Error fetching the file: 404 Client Error: Not Found for url: https://raw.githubusercontent.com/efe/zula/6328eb9c0e18debaaa769b7ac0d05a4a472f4746/tests/test_uuid.py\n",
            "Row 2001: https://github.com/efe/zula/blob/6328eb9c0e18debaaa769b7ac0d05a4a472f4746/tests/test_uuid.py, Error fetching the file\n",
            "\n",
            "Error fetching the file: 404 Client Error: Not Found for url: https://raw.githubusercontent.com/efe/zula/6328eb9c0e18debaaa769b7ac0d05a4a472f4746/tests/test_xml.py\n",
            "Row 2002: https://github.com/efe/zula/blob/6328eb9c0e18debaaa769b7ac0d05a4a472f4746/tests/test_xml.py, Error fetching the file\n",
            "\n",
            "Error fetching the file: 404 Client Error: Not Found for url: https://raw.githubusercontent.com/efe/zula/6328eb9c0e18debaaa769b7ac0d05a4a472f4746/torchpwl/pwl_test.py\n",
            "Row 2003: https://github.com/efe/zula/blob/6328eb9c0e18debaaa769b7ac0d05a4a472f4746/torchpwl/pwl_test.py, Error fetching the file\n",
            "\n",
            "Error fetching the file: 404 Client Error: Not Found for url: https://raw.githubusercontent.com/efe/zula/6328eb9c0e18debaaa769b7ac0d05a4a472f4746/torchpwl/pwl_test.py\n",
            "Row 2004: https://github.com/efe/zula/blob/6328eb9c0e18debaaa769b7ac0d05a4a472f4746/torchpwl/pwl_test.py, Error fetching the file\n",
            "\n",
            "Error fetching the file: 404 Client Error: Not Found for url: https://raw.githubusercontent.com/efe/zula/6328eb9c0e18debaaa769b7ac0d05a4a472f4746/torchpwl/pwl_test.py\n",
            "Row 2005: https://github.com/efe/zula/blob/6328eb9c0e18debaaa769b7ac0d05a4a472f4746/torchpwl/pwl_test.py, Error fetching the file\n",
            "\n",
            "Error fetching the file: 404 Client Error: Not Found for url: https://raw.githubusercontent.com/efe/zula/6328eb9c0e18debaaa769b7ac0d05a4a472f4746/tests/test_database/test_memory_database_hypothesis.py\n",
            "Row 2006: https://github.com/efe/zula/blob/6328eb9c0e18debaaa769b7ac0d05a4a472f4746/tests/test_database/test_memory_database_hypothesis.py, Error fetching the file\n",
            "\n",
            "Error fetching the file: 404 Client Error: Not Found for url: https://raw.githubusercontent.com/efe/zula/6328eb9c0e18debaaa769b7ac0d05a4a472f4746/tests/unit/v0x04/test_controller2switch/test_flow_mod.py\n",
            "Row 2007: https://github.com/efe/zula/blob/6328eb9c0e18debaaa769b7ac0d05a4a472f4746/tests/unit/v0x04/test_controller2switch/test_flow_mod.py, Error fetching the file\n",
            "\n",
            "Error fetching the file: 404 Client Error: Not Found for url: https://raw.githubusercontent.com/efe/zula/6328eb9c0e18debaaa769b7ac0d05a4a472f4746/tests/test_missing_data_imputer.py\n",
            "Row 2008: https://github.com/efe/zula/blob/6328eb9c0e18debaaa769b7ac0d05a4a472f4746/tests/test_missing_data_imputer.py, Error fetching the file\n",
            "\n",
            "Error fetching the file: 404 Client Error: Not Found for url: https://raw.githubusercontent.com/efe/zula/6328eb9c0e18debaaa769b7ac0d05a4a472f4746/tests/test_mudobjects.py\n",
            "Row 2009: https://github.com/efe/zula/blob/6328eb9c0e18debaaa769b7ac0d05a4a472f4746/tests/test_mudobjects.py, Error fetching the file\n",
            "\n"
          ]
        }
      ]
    },
    {
      "cell_type": "code",
      "source": [
        "selected_projects = []\n",
        "for project_name, num_tests in project_to_num_tests.items():\n",
        "  if num_tests > 30:\n",
        "    selected_projects.append(project_name)"
      ],
      "metadata": {
        "id": "nULErbPyU0mT"
      },
      "execution_count": 11,
      "outputs": []
    },
    {
      "cell_type": "code",
      "source": [
        "selected_methods = dict()\n",
        "for test_method in all_test_methods:\n",
        "  if test_method['Project_Name'] in selected_projects:\n",
        "    selected_methods[test_method['Project_Name']] = selected_methods.get(test_method['Project_Name'], []) + [test_method]"
      ],
      "metadata": {
        "id": "CLTiGh5LcHw8"
      },
      "execution_count": 12,
      "outputs": []
    },
    {
      "cell_type": "code",
      "source": [
        "filename = \"selected_methods.csv\"\n",
        "header_written = False\n",
        "with open(filename, mode=\"w\", newline=\"\") as file:\n",
        "  for project in selected_methods:\n",
        "    writer = csv.DictWriter(file, fieldnames=selected_methods[project][0].keys())\n",
        "    if not header_written:\n",
        "      writer.writeheader()\n",
        "      header_written = True\n",
        "    writer.writerows(selected_methods[project])"
      ],
      "metadata": {
        "id": "ody7Rbh8Msgq"
      },
      "execution_count": 13,
      "outputs": []
    },
    {
      "cell_type": "code",
      "source": [
        "# Only use this code block if you are using Google Colab.\n",
        "# If you are using Jupyter Notebook, please ignore this code block. You can directly upload the file to your Jupyter Notebook file systems.\n",
        "from google.colab import files\n",
        "import pandas as pd\n",
        "import os\n",
        "import requests\n",
        "import csv\n",
        "import random\n",
        "from copy import deepcopy\n",
        "import json\n",
        "\n",
        "if not os.path.exists('selected_methods.csv'):\n",
        "  ## It will prompt you to select a local file. Click on “Choose Files” then select and upload the file.\n",
        "  ## Wait for the file to be 100% uploaded. You should see the name of the file once Colab has uploaded it.\n",
        "  uploaded = files.upload()\n",
        "  selected_methods = dict()\n",
        "  with open('selected_methods.csv', 'r') as f:\n",
        "    reader = csv.DictReader(f)\n",
        "    for row in reader:\n",
        "      project_name = row['Project_Name']\n",
        "      selected_methods[project_name] = selected_methods.get(project_name, []) + [row]"
      ],
      "metadata": {
        "id": "oXsoY3vOtRoN"
      },
      "execution_count": 14,
      "outputs": []
    },
    {
      "cell_type": "code",
      "source": [
        "for project in selected_methods:\n",
        "  print(project)"
      ],
      "metadata": {
        "colab": {
          "base_uri": "https://localhost:8080/"
        },
        "id": "A3m-g4jErSx6",
        "outputId": "9ede2940-7e7f-4e8b-f0f2-a96b9ffe9af3"
      },
      "execution_count": 15,
      "outputs": [
        {
          "output_type": "stream",
          "name": "stdout",
          "text": [
            "Butter.MAS.PythonAPI\n",
            "centreon-sdk-python\n",
            "cloudnetpy\n",
            "crom\n",
            "easypy\n",
            "eppy\n",
            "reframe\n",
            "region_cache\n",
            "taxi\n",
            "wkr.py\n"
          ]
        }
      ]
    },
    {
      "cell_type": "code",
      "source": [
        "example = None\n",
        "for project in selected_methods:\n",
        "  example = selected_methods[project][0]\n",
        "  break"
      ],
      "metadata": {
        "id": "AUYFBhTTjUsz"
      },
      "execution_count": 16,
      "outputs": []
    },
    {
      "cell_type": "code",
      "source": [
        "example"
      ],
      "metadata": {
        "colab": {
          "base_uri": "https://localhost:8080/"
        },
        "id": "ceWV8ivvtXMO",
        "outputId": "f4457420-ed94-4438-b258-ffde2137edf5"
      },
      "execution_count": 17,
      "outputs": [
        {
          "output_type": "execute_result",
          "data": {
            "text/plain": [
              "{'Row': 14,\n",
              " 'Project_Name': 'Butter.MAS.PythonAPI',\n",
              " 'URL': 'https://github.com/bennymeg/Butter.MAS.PythonAPI/blob/f86ebe75df3826f62a268645cdbe4400b43fab07/butter/mas/tests/clients/client_http_test.py',\n",
              " 'Class': 'TestHttpClientApiMethods',\n",
              " 'Test': 'testGetAvailableAnimations',\n",
              " 'Content': 'def testGetAvailableAnimations(self):\\n        self.assertIsNotNone(self.client.getAvailableAnimations())\\n\\n    ',\n",
              " 'Detected': True}"
            ]
          },
          "metadata": {},
          "execution_count": 17
        }
      ]
    },
    {
      "cell_type": "code",
      "source": [
        "total_true_size = 0\n",
        "total_false_size = 0\n",
        "\n",
        "for project in selected_methods:\n",
        "  true_size = 0\n",
        "  false_size = 0\n",
        "  for test_method in selected_methods[project]:\n",
        "    if test_method['Detected'] == True or test_method['Detected'] == 'True':\n",
        "      true_size += 1\n",
        "    else:\n",
        "      false_size += 1\n",
        "  total_true_size += true_size\n",
        "  total_false_size += false_size\n",
        "  print(f\"{project}: True size: {true_size}, False size: {false_size}\")\n",
        "\n",
        "print(f\"Total True size: {total_true_size}, Total False size: {total_false_size}, Total: {total_true_size + total_false_size}\")"
      ],
      "metadata": {
        "id": "QUwsAl5aszXf",
        "colab": {
          "base_uri": "https://localhost:8080/"
        },
        "outputId": "f882a905-f65d-449c-8277-3df348cdf433"
      },
      "execution_count": 18,
      "outputs": [
        {
          "output_type": "stream",
          "name": "stdout",
          "text": [
            "Butter.MAS.PythonAPI: True size: 53, False size: 0\n",
            "centreon-sdk-python: True size: 41, False size: 0\n",
            "cloudnetpy: True size: 51, False size: 0\n",
            "crom: True size: 38, False size: 0\n",
            "easypy: True size: 44, False size: 0\n",
            "eppy: True size: 84, False size: 0\n",
            "reframe: True size: 136, False size: 53\n",
            "region_cache: True size: 0, False size: 37\n",
            "taxi: True size: 0, False size: 77\n",
            "wkr.py: True size: 0, False size: 34\n",
            "Total True size: 447, Total False size: 201, Total: 648\n"
          ]
        }
      ]
    },
    {
      "cell_type": "code",
      "source": [
        "os.makedirs(\"data\")\n",
        "for project in selected_methods:\n",
        "  os.makedirs(f\"data/{project}\")"
      ],
      "metadata": {
        "id": "FMqHnD3Bl_t7"
      },
      "execution_count": 19,
      "outputs": []
    },
    {
      "cell_type": "code",
      "source": [
        "for test_project in selected_methods:\n",
        "  training_and_validation_set = []\n",
        "  test_set = []\n",
        "  for project in selected_methods:\n",
        "    if project == test_project:\n",
        "      test_set = deepcopy(selected_methods[project])\n",
        "    else:\n",
        "      training_and_validation_set += deepcopy(selected_methods[project])\n",
        "\n",
        "  random.shuffle(training_and_validation_set)\n",
        "  training_set = training_and_validation_set[:int(len(training_and_validation_set) * 0.8)]\n",
        "  validation_set = training_and_validation_set[int(len(training_and_validation_set) * 0.8):]\n",
        "\n",
        "  training_set_true = []\n",
        "  training_set_false = []\n",
        "  for test_method in training_set:\n",
        "    if test_method['Detected'] == True or test_method['Detected'] == 'True':\n",
        "      training_set_true.append(test_method)\n",
        "    else:\n",
        "      training_set_false.append(test_method)\n",
        "\n",
        "  training_set_true_size = len(training_set_true)\n",
        "  training_set_false_size = len(training_set_false)\n",
        "\n",
        "  print(f\"Test Project - {test_project}: Training set size: {len(training_set)}, Validation set size: {len(validation_set)}, Test set size: {len(test_set)}\")\n",
        "  print(f\"Training set true size: {training_set_true_size}, Training set false size: {training_set_false_size}\")\n",
        "\n",
        "  balanced_training_set = []\n",
        "  if training_set_true_size > training_set_false_size:\n",
        "    training_set_false_new = deepcopy(training_set_false)\n",
        "    while training_set_true_size - len(training_set_false_new) > training_set_false_size:\n",
        "      training_set_false_new += deepcopy(training_set_false)\n",
        "    training_set_false_new += random.sample(deepcopy(training_set_false), training_set_true_size - len(training_set_false_new))\n",
        "    balanced_training_set = training_set_true + training_set_false_new\n",
        "    random.shuffle(balanced_training_set)\n",
        "    print(f\"Balanced training set size: {len(balanced_training_set)}\")\n",
        "    print(f\"Balanced training set true size: {len(training_set_true)}, Balanced training set false size: {len(training_set_false_new)}\")\n",
        "  elif training_set_true_size < training_set_false_size:\n",
        "    training_set_true_new = deepcopy(training_set_true)\n",
        "    while training_set_false_size - len(training_set_true_new) > training_set_true_size:\n",
        "      training_set_true_new += deepcopy(training_set_true)\n",
        "    training_set_true_new += random.sample(deepcopy(training_set_true), training_set_false_size - len(training_set_true_new))\n",
        "    balanced_training_set = training_set_true_new + training_set_false\n",
        "    random.shuffle(balanced_training_set)\n",
        "    print(f\"Balanced training set size: {len(balanced_training_set)}\")\n",
        "    print(f\"Balanced training set true size: {len(training_set_true_new)}, Balanced training set false size: {len(training_set_false)}\")\n",
        "  else:\n",
        "    balanced_training_set = training_set\n",
        "\n",
        "  training_messages_list = []\n",
        "  for test_method in balanced_training_set:\n",
        "    messages = [\n",
        "        {\"role\": \"system\", \"content\": \"You need to identify flaky tests.\"},\n",
        "        {\"role\": \"user\", \"content\": f\"Is this a flaky test? Only answer True or False.\\n{test_method['Content']}\"},\n",
        "        {\"role\": \"assistant\", \"content\": str(test_method['Detected'])}\n",
        "    ]\n",
        "    training_messages_list.append({\"messages\": messages})\n",
        "\n",
        "  with open(f\"data/{test_project}/training_set.jsonl\", 'w') as jsonl_file:\n",
        "    for entry in training_messages_list:\n",
        "      jsonl_file.write(json.dumps(entry) + \"\\n\")\n",
        "\n",
        "  validation_messages_list = []\n",
        "  for test_method in validation_set:\n",
        "    messages = [\n",
        "        {\"role\": \"system\", \"content\": \"You need to identify flaky tests.\"},\n",
        "        {\"role\": \"user\", \"content\": f\"Is this a flaky test? Only answer True or False.\\n{test_method['Content']}\"},\n",
        "        {\"role\": \"assistant\", \"content\": str(test_method['Detected'])}\n",
        "    ]\n",
        "    validation_messages_list.append({\"messages\": messages})\n",
        "\n",
        "  with open(f\"data/{test_project}/validation_set.jsonl\", 'w') as jsonl_file:\n",
        "    for entry in validation_messages_list:\n",
        "      jsonl_file.write(json.dumps(entry) + \"\\n\")\n",
        "\n",
        "  test_messages_list = []\n",
        "  for test_method in test_set:\n",
        "    messages = [\n",
        "        {\"role\": \"system\", \"content\": \"You need to identify flaky tests.\"},\n",
        "        {\"role\": \"user\", \"content\": f\"Is this a flaky test? Only answer True or False.\\n{test_method['Content']}\"},\n",
        "        {\"role\": \"assistant\", \"content\": str(test_method['Detected'])}\n",
        "    ]\n",
        "    test_messages_list.append({\"messages\": messages})\n",
        "\n",
        "  with open(f\"data/{test_project}/test_set.jsonl\", 'w') as jsonl_file:\n",
        "    for entry in test_messages_list:\n",
        "      jsonl_file.write(json.dumps(entry) + \"\\n\")\n",
        "\n",
        "  print(\"------------------------\")"
      ],
      "metadata": {
        "colab": {
          "base_uri": "https://localhost:8080/"
        },
        "id": "9DmNqpTtmZtY",
        "outputId": "eb6b6c2a-ee63-49b8-aac2-18b1477a2189"
      },
      "execution_count": 20,
      "outputs": [
        {
          "output_type": "stream",
          "name": "stdout",
          "text": [
            "Test Project - Butter.MAS.PythonAPI: Training set size: 476, Validation set size: 119, Test set size: 53\n",
            "Training set true size: 322, Training set false size: 154\n",
            "Balanced training set size: 644\n",
            "Balanced training set true size: 322, Balanced training set false size: 322\n",
            "------------------------\n",
            "Test Project - centreon-sdk-python: Training set size: 485, Validation set size: 122, Test set size: 41\n",
            "Training set true size: 331, Training set false size: 154\n",
            "Balanced training set size: 662\n",
            "Balanced training set true size: 331, Balanced training set false size: 331\n",
            "------------------------\n",
            "Test Project - cloudnetpy: Training set size: 477, Validation set size: 120, Test set size: 51\n",
            "Training set true size: 314, Training set false size: 163\n",
            "Balanced training set size: 628\n",
            "Balanced training set true size: 314, Balanced training set false size: 314\n",
            "------------------------\n",
            "Test Project - crom: Training set size: 488, Validation set size: 122, Test set size: 38\n",
            "Training set true size: 330, Training set false size: 158\n",
            "Balanced training set size: 660\n",
            "Balanced training set true size: 330, Balanced training set false size: 330\n",
            "------------------------\n",
            "Test Project - easypy: Training set size: 483, Validation set size: 121, Test set size: 44\n",
            "Training set true size: 328, Training set false size: 155\n",
            "Balanced training set size: 656\n",
            "Balanced training set true size: 328, Balanced training set false size: 328\n",
            "------------------------\n",
            "Test Project - eppy: Training set size: 451, Validation set size: 113, Test set size: 84\n",
            "Training set true size: 290, Training set false size: 161\n",
            "Balanced training set size: 580\n",
            "Balanced training set true size: 290, Balanced training set false size: 290\n",
            "------------------------\n",
            "Test Project - reframe: Training set size: 367, Validation set size: 92, Test set size: 189\n",
            "Training set true size: 251, Training set false size: 116\n",
            "Balanced training set size: 502\n",
            "Balanced training set true size: 251, Balanced training set false size: 251\n",
            "------------------------\n",
            "Test Project - region_cache: Training set size: 488, Validation set size: 123, Test set size: 37\n",
            "Training set true size: 359, Training set false size: 129\n",
            "Balanced training set size: 718\n",
            "Balanced training set true size: 359, Balanced training set false size: 359\n",
            "------------------------\n",
            "Test Project - taxi: Training set size: 456, Validation set size: 115, Test set size: 77\n",
            "Training set true size: 356, Training set false size: 100\n",
            "Balanced training set size: 712\n",
            "Balanced training set true size: 356, Balanced training set false size: 356\n",
            "------------------------\n",
            "Test Project - wkr.py: Training set size: 491, Validation set size: 123, Test set size: 34\n",
            "Training set true size: 360, Training set false size: 131\n",
            "Balanced training set size: 720\n",
            "Balanced training set true size: 360, Balanced training set false size: 360\n",
            "------------------------\n"
          ]
        }
      ]
    },
    {
      "cell_type": "code",
      "source": [
        "!zip -r /content/data.zip /content/data"
      ],
      "metadata": {
        "colab": {
          "base_uri": "https://localhost:8080/"
        },
        "id": "7vbMPjDjt13O",
        "outputId": "57ce8f05-3213-4b53-86b4-470aa1ab8bb9"
      },
      "execution_count": 21,
      "outputs": [
        {
          "output_type": "stream",
          "name": "stdout",
          "text": [
            "  adding: content/data/ (stored 0%)\n",
            "  adding: content/data/cloudnetpy/ (stored 0%)\n",
            "  adding: content/data/cloudnetpy/validation_set.jsonl (deflated 83%)\n",
            "  adding: content/data/cloudnetpy/test_set.jsonl (deflated 93%)\n",
            "  adding: content/data/cloudnetpy/training_set.jsonl (deflated 85%)\n",
            "  adding: content/data/crom/ (stored 0%)\n",
            "  adding: content/data/crom/validation_set.jsonl (deflated 82%)\n",
            "  adding: content/data/crom/test_set.jsonl (deflated 82%)\n",
            "  adding: content/data/crom/training_set.jsonl (deflated 85%)\n",
            "  adding: content/data/Butter.MAS.PythonAPI/ (stored 0%)\n",
            "  adding: content/data/Butter.MAS.PythonAPI/validation_set.jsonl (deflated 83%)\n",
            "  adding: content/data/Butter.MAS.PythonAPI/test_set.jsonl (deflated 97%)\n",
            "  adding: content/data/Butter.MAS.PythonAPI/training_set.jsonl (deflated 85%)\n",
            "  adding: content/data/reframe/ (stored 0%)\n",
            "  adding: content/data/reframe/validation_set.jsonl (deflated 83%)\n",
            "  adding: content/data/reframe/test_set.jsonl (deflated 90%)\n",
            "  adding: content/data/reframe/training_set.jsonl (deflated 87%)\n",
            "  adding: content/data/eppy/ (stored 0%)\n",
            "  adding: content/data/eppy/validation_set.jsonl (deflated 84%)\n",
            "  adding: content/data/eppy/test_set.jsonl (deflated 87%)\n",
            "  adding: content/data/eppy/training_set.jsonl (deflated 86%)\n",
            "  adding: content/data/centreon-sdk-python/ (stored 0%)\n",
            "  adding: content/data/centreon-sdk-python/validation_set.jsonl (deflated 82%)\n",
            "  adding: content/data/centreon-sdk-python/test_set.jsonl (deflated 93%)\n",
            "  adding: content/data/centreon-sdk-python/training_set.jsonl (deflated 85%)\n",
            "  adding: content/data/easypy/ (stored 0%)\n",
            "  adding: content/data/easypy/validation_set.jsonl (deflated 83%)\n",
            "  adding: content/data/easypy/test_set.jsonl (deflated 89%)\n",
            "  adding: content/data/easypy/training_set.jsonl (deflated 85%)\n",
            "  adding: content/data/taxi/ (stored 0%)\n",
            "  adding: content/data/taxi/validation_set.jsonl (deflated 85%)\n",
            "  adding: content/data/taxi/test_set.jsonl (deflated 89%)\n",
            "  adding: content/data/taxi/training_set.jsonl (deflated 86%)\n",
            "  adding: content/data/region_cache/ (stored 0%)\n",
            "  adding: content/data/region_cache/validation_set.jsonl (deflated 83%)\n",
            "  adding: content/data/region_cache/test_set.jsonl (deflated 94%)\n",
            "  adding: content/data/region_cache/training_set.jsonl (deflated 85%)\n",
            "  adding: content/data/wkr.py/ (stored 0%)\n",
            "  adding: content/data/wkr.py/validation_set.jsonl (deflated 83%)\n",
            "  adding: content/data/wkr.py/test_set.jsonl (deflated 88%)\n",
            "  adding: content/data/wkr.py/training_set.jsonl (deflated 85%)\n"
          ]
        }
      ]
    }
  ]
}