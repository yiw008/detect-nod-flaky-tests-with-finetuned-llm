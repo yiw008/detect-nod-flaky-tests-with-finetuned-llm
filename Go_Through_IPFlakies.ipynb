{
  "cells": [
    {
      "cell_type": "markdown",
      "metadata": {
        "id": "view-in-github",
        "colab_type": "text"
      },
      "source": [
        "<a href=\"https://colab.research.google.com/github/yiw008/nondet-project/blob/main/Go_Through_IPFlakies.ipynb\" target=\"_parent\"><img src=\"https://colab.research.google.com/assets/colab-badge.svg\" alt=\"Open In Colab\"/></a>"
      ]
    },
    {
      "cell_type": "markdown",
      "metadata": {
        "id": "wtHN6eEgZ7KP"
      },
      "source": [
        "# Go Through IPFlakies"
      ]
    },
    {
      "cell_type": "markdown",
      "metadata": {
        "id": "lIapiWIUqOOK"
      },
      "source": [
        "## Preparation (Must Run At All Times)"
      ]
    },
    {
      "cell_type": "code",
      "execution_count": null,
      "metadata": {
        "id": "br6HjLhjXTBh"
      },
      "outputs": [],
      "source": [
        "import pandas as pd\n",
        "import os\n",
        "import requests\n",
        "import csv\n",
        "import random\n",
        "from copy import deepcopy\n",
        "import json\n",
        "from google.colab import files"
      ]
    },
    {
      "cell_type": "code",
      "execution_count": null,
      "metadata": {
        "id": "tHKJYrdSXcjv"
      },
      "outputs": [],
      "source": [
        "# URL of the CSV file: iPFlakies\n",
        "url = \"https://zenodo.org/records/6176417/files/Test_Status.csv\""
      ]
    },
    {
      "cell_type": "code",
      "execution_count": null,
      "metadata": {
        "id": "HIw2gt8GXl70"
      },
      "outputs": [],
      "source": [
        "# Read the CSV file from the URL\n",
        "data = pd.read_csv(url)"
      ]
    },
    {
      "cell_type": "code",
      "execution_count": null,
      "metadata": {
        "colab": {
          "base_uri": "https://localhost:8080/"
        },
        "id": "FNefrgh2XoVZ",
        "outputId": "378c450a-7f36-424d-8b2f-197a2065fc92"
      },
      "outputs": [
        {
          "output_type": "stream",
          "name": "stdout",
          "text": [
            "  Project_Name                               Project_URL  \\\n",
            "0   BT-Tracker  https://github.com/nordwind80/BT-Tracker   \n",
            "1      Breathe         https://github.com/mrob95/Breathe   \n",
            "2      Breathe         https://github.com/mrob95/Breathe   \n",
            "3      Breathe         https://github.com/mrob95/Breathe   \n",
            "4      Breathe         https://github.com/mrob95/Breathe   \n",
            "\n",
            "                               Project_Hash  \\\n",
            "0  558c15b399871c1ca11d0c4ae1eb598e3060931e   \n",
            "1  4600818e24f4156cd7bb8cc0f43886b27323968e   \n",
            "2  4600818e24f4156cd7bb8cc0f43886b27323968e   \n",
            "3  4600818e24f4156cd7bb8cc0f43886b27323968e   \n",
            "4  4600818e24f4156cd7bb8cc0f43886b27323968e   \n",
            "\n",
            "                                             Test_id  Detected  Have_Patch  \\\n",
            "0  Tracker/tests/test_event.py::TestEvent::test_o...      True        True   \n",
            "1  tests/test_command_context.py::test_manual_con...      True       False   \n",
            "2                tests/test_loading.py::test_loading      True        True   \n",
            "3        tests/test_loading.py::test_loading_failure      True        True   \n",
            "4              tests/test_loading.py::test_reloading      True        True   \n",
            "\n",
            "   OD_Type  Polluter_or_Setter Cleaner  \n",
            "0  brittle                True     NaN  \n",
            "1  brittle                True     NaN  \n",
            "2  brittle                True     NaN  \n",
            "3   victim                True    True  \n",
            "4  brittle                True     NaN  \n"
          ]
        }
      ],
      "source": [
        "# Display the first few rows of the data\n",
        "print(data.head())"
      ]
    },
    {
      "cell_type": "code",
      "execution_count": null,
      "metadata": {
        "id": "d1CjBbmkdwG2"
      },
      "outputs": [],
      "source": [
        "def match_class(content, class_name):\n",
        "  start_index = content.find(f\"class {class_name}\")\n",
        "  if start_index == -1:\n",
        "    return None\n",
        "  return content[start_index:]"
      ]
    },
    {
      "cell_type": "code",
      "execution_count": null,
      "metadata": {
        "id": "t9j0PH9-eAcR"
      },
      "outputs": [],
      "source": [
        "def match_method(content, test_name):\n",
        "  start_index = content.find(f\"def {test_name}\")\n",
        "  if start_index == -1:\n",
        "    return None\n",
        "\n",
        "  end_index = -1\n",
        "  next_def_index = content.find(\"def \", start_index + len(test_name))\n",
        "  next_decorator_index = content.find(\"@pytest\", start_index + len(test_name))\n",
        "  next_class_index = content.find(\"class \", start_index + len(test_name))\n",
        "  main_block_index = content.find(\"if __name__ == '__main__':\", start_index)\n",
        "\n",
        "  if next_def_index == -1:\n",
        "    next_def_index = len(content)\n",
        "  if next_decorator_index == -1:\n",
        "    next_decorator_index = len(content)\n",
        "  if next_class_index == -1:\n",
        "    next_class_index = len(content)\n",
        "  if main_block_index == -1:\n",
        "    main_block_index = len(content)\n",
        "\n",
        "  end_index = min(next_def_index, next_decorator_index, next_class_index, main_block_index)\n",
        "\n",
        "  last_decorator_index = content.rfind(\"@pytest\", 0, start_index)\n",
        "  if last_decorator_index != -1 and content.find(\"def \", last_decorator_index, start_index) == -1:\n",
        "    start_index = last_decorator_index\n",
        "\n",
        "  return content[start_index:end_index]"
      ]
    },
    {
      "cell_type": "code",
      "execution_count": null,
      "metadata": {
        "id": "t-CqcIQlrOeJ"
      },
      "outputs": [],
      "source": [
        "def get_every_test_method(content, starter=\"def test\"):\n",
        "  methods = []\n",
        "  start_index = 0\n",
        "  while True:\n",
        "    start_index = content.find(starter, start_index)\n",
        "    if start_index == -1:\n",
        "      break\n",
        "\n",
        "    end_index = -1\n",
        "    next_def_index = content.find(\"def \", start_index + len(starter))\n",
        "    next_decorator_index = content.find(\"@pytest\", start_index + len(starter))\n",
        "    next_class_index = content.find(\"class \", start_index + len(starter))\n",
        "    main_block_index = content.find(\"if __name__ == '__main__':\", start_index)\n",
        "\n",
        "    if next_def_index == -1:\n",
        "      next_def_index = len(content)\n",
        "    if next_decorator_index == -1:\n",
        "      next_decorator_index = len(content)\n",
        "    if next_class_index == -1:\n",
        "      next_class_index = len(content)\n",
        "    if main_block_index == -1:\n",
        "      main_block_index = len(content)\n",
        "\n",
        "    end_index = min(next_def_index, next_decorator_index, next_class_index, main_block_index)\n",
        "\n",
        "    last_decorator_index = content.rfind(\"@pytest\", 0, start_index)\n",
        "    if last_decorator_index != -1 and content.find(\"def \", last_decorator_index, start_index) == -1:\n",
        "      start_index = last_decorator_index\n",
        "\n",
        "    method_content = content[start_index:end_index]\n",
        "    methods.append(method_content)\n",
        "    start_index = end_index\n",
        "\n",
        "  return methods"
      ]
    },
    {
      "cell_type": "code",
      "execution_count": null,
      "metadata": {
        "id": "B7ECrfO1oYYN"
      },
      "outputs": [],
      "source": [
        "def remove_square_brackets(test_name):\n",
        "  start_index = test_name.find('[')\n",
        "  end_index = test_name.find(']')\n",
        "\n",
        "  if start_index != -1 and end_index != -1:\n",
        "    new_test_name = test_name[:start_index]\n",
        "    return new_test_name\n",
        "  else:\n",
        "    return test_name"
      ]
    },
    {
      "cell_type": "code",
      "execution_count": null,
      "metadata": {
        "id": "VHFoylAnr5MO"
      },
      "outputs": [],
      "source": [
        "def read_python_file(url):\n",
        "  try:\n",
        "    response = requests.get(url)\n",
        "    response.raise_for_status()  # Check for HTTP errors\n",
        "    # The content of the file is in response.text\n",
        "    python_code = response.text\n",
        "    return python_code\n",
        "  except requests.exceptions.RequestException as e:\n",
        "    print(f\"Error fetching the file: {e}\")\n",
        "    return None"
      ]
    },
    {
      "cell_type": "code",
      "execution_count": null,
      "metadata": {
        "id": "bppHB4Ss5O37"
      },
      "outputs": [],
      "source": [
        "def special_cases(project_name, repo_url, commit_hash, test_file_path, class_name, test_name):\n",
        "  if project_name == 'Butter.MAS.PythonAPI' and commit_hash == 'f86ebe75df3826f62a268645cdbe4400b43fab07' and test_file_path.startswith('butter/mas/tests/clients/'):\n",
        "    test_file_path = 'butter/mas/tests/clients/client_test.py'\n",
        "    class_name = ''\n",
        "\n",
        "  if project_name == 'SNData' and commit_hash == 'e4854f0dc357484b437b15f9dac15f7c589eff58' and (class_name == 'Sako18Parsing' or class_name == 'DR1Parsing'):\n",
        "    test_file_path = 'tests/data_parsing_template_tests.py'\n",
        "    class_name = ''\n",
        "    if test_name == 'test_standard_column_names':\n",
        "      class_name = 'PhotometricDataParsing'\n",
        "\n",
        "  if project_name == 'bootstrap_env' and commit_hash == 'ab68025d8f6b9a17d8feeed83e8aae26e3f28769' and test_file_path.startswith('bootstrap_env/tests/'):\n",
        "    test_file_path = 'bootstrap_env/tests/base.py'\n",
        "\n",
        "  if repo_url.endswith('.git'):\n",
        "    repo_url = repo_url[:-4]\n",
        "\n",
        "  if project_name == 'data-pypes' and test_name == 'pypes.logsetup.get_logconfig':\n",
        "    test_name = 'get_logconfig'\n",
        "\n",
        "  if project_name == 'elife-tools':\n",
        "    end_index = test_name.find('_1_elife_02833_v2_xml')\n",
        "    test_name = test_name[:end_index]\n",
        "\n",
        "  if project_name == 'noipy':\n",
        "    repo_url = 'https://github.com/pv8/noipy'\n",
        "\n",
        "  if project_name == 'pymq' and commit_hash == '101857bca2b705c328d3bda3b26797b51e8ffb70':\n",
        "    if class_name == 'SimplePubSubTest':\n",
        "      test_file_path = 'tests/base/pubsub.py'\n",
        "      class_name = 'AbstractPubSubTest'\n",
        "    if class_name == 'IpcQueueTest':\n",
        "      test_file_path = 'tests/base/queue.py'\n",
        "      class_name = 'AbstractQueueTest'\n",
        "    if class_name == 'IpcRpcTest' or class_name == 'SimpleRpcTest':\n",
        "      test_file_path = 'tests/base/rpc.py'\n",
        "      class_name = 'AbstractRpcTest'\n",
        "\n",
        "  if project_name == 'pyswarms' and commit_hash == '08756526f39699eef28e515cac2ead17cef55710' and class_name == 'TestLocalBestOptimizer' and test_name == 'test_obj_with_kwargs':\n",
        "    test_file_path = 'tests/optimizers/abc_test_optimizer.py'\n",
        "    class_name = 'ABCTestOptimizer'\n",
        "\n",
        "  if project_name == 'python-openflow' and commit_hash == 'a3387a7b28d529a3605aa1506a028e03394e4526' and class_name == 'TestFlowMod' and test_name == 'test_minimum_size':\n",
        "    test_file_path = 'tests/unit/test_struct.py'\n",
        "    class_name = 'TestStruct'\n",
        "\n",
        "  return project_name, repo_url, commit_hash, test_file_path, class_name, test_name"
      ]
    },
    {
      "cell_type": "markdown",
      "metadata": {
        "id": "caRHs9lgqJGC"
      },
      "source": [
        "## Get all the test methods"
      ]
    },
    {
      "cell_type": "code",
      "execution_count": null,
      "metadata": {
        "colab": {
          "base_uri": "https://localhost:8080/"
        },
        "collapsed": true,
        "id": "gi9YCcA7Xru4",
        "outputId": "924fdab5-a6d3-463e-bf10-2126edbe350a"
      },
      "outputs": [
        {
          "output_type": "stream",
          "name": "stdout",
          "text": [
            "The indices below corresponds to the row number in the csv file shown on https://sites.google.com/view/ipflakies.\n",
            "Error fetching the file: 404 Client Error: Not Found for url: https://raw.githubusercontent.com/AshtonUPS/Py-MI-PS/2d22327c75bac1b58a4804a61e7a703ecc5ba978/src/PyMIPS/tests/register_test.py\n",
            "Row 135: https://github.com/AshtonUPS/Py-MI-PS/blob/2d22327c75bac1b58a4804a61e7a703ecc5ba978/src/PyMIPS/tests/register_test.py, Error fetching the file\n",
            "\n",
            "Error fetching the file: 404 Client Error: Not Found for url: https://raw.githubusercontent.com/cryptowatch/cw-sdk-python/92bd90db16dfc116c0708d19d27208d9bfc990c1/tests/test_api.py\n",
            "Row 516: https://github.com/cryptowatch/cw-sdk-python/blob/92bd90db16dfc116c0708d19d27208d9bfc990c1/tests/test_api.py, Error fetching the file\n",
            "\n",
            "Error fetching the file: 404 Client Error: Not Found for url: https://raw.githubusercontent.com/cryptowatch/cw-sdk-python/92bd90db16dfc116c0708d19d27208d9bfc990c1/tests/test_api.py\n",
            "Row 517: https://github.com/cryptowatch/cw-sdk-python/blob/92bd90db16dfc116c0708d19d27208d9bfc990c1/tests/test_api.py, Error fetching the file\n",
            "\n",
            "Error fetching the file: 404 Client Error: Not Found for url: https://raw.githubusercontent.com/cryptowatch/cw-sdk-python/92bd90db16dfc116c0708d19d27208d9bfc990c1/tests/test_api.py\n",
            "Row 518: https://github.com/cryptowatch/cw-sdk-python/blob/92bd90db16dfc116c0708d19d27208d9bfc990c1/tests/test_api.py, Error fetching the file\n",
            "\n",
            "Error fetching the file: 404 Client Error: Not Found for url: https://raw.githubusercontent.com/cryptowatch/cw-sdk-python/92bd90db16dfc116c0708d19d27208d9bfc990c1/tests/test_api.py\n",
            "Row 519: https://github.com/cryptowatch/cw-sdk-python/blob/92bd90db16dfc116c0708d19d27208d9bfc990c1/tests/test_api.py, Error fetching the file\n",
            "\n",
            "Error fetching the file: 404 Client Error: Not Found for url: https://raw.githubusercontent.com/ElementAI/greensim/f160e8b57d69f6ef469f2e991cc07b7721e08a91/tests/test_logging.py\n",
            "Row 884: https://github.com/ElementAI/greensim/blob/f160e8b57d69f6ef469f2e991cc07b7721e08a91/tests/test_logging.py, Error fetching the file\n",
            "\n",
            "Error fetching the file: 404 Client Error: Not Found for url: https://raw.githubusercontent.com/ElementAI/greensim/f160e8b57d69f6ef469f2e991cc07b7721e08a91/tests/test_logging.py\n",
            "Row 885: https://github.com/ElementAI/greensim/blob/f160e8b57d69f6ef469f2e991cc07b7721e08a91/tests/test_logging.py, Error fetching the file\n",
            "\n",
            "Error fetching the file: 404 Client Error: Not Found for url: https://raw.githubusercontent.com/ElementAI/greensim/f160e8b57d69f6ef469f2e991cc07b7721e08a91/tests/test_logging.py\n",
            "Row 886: https://github.com/ElementAI/greensim/blob/f160e8b57d69f6ef469f2e991cc07b7721e08a91/tests/test_logging.py, Error fetching the file\n",
            "\n",
            "Error fetching the file: 404 Client Error: Not Found for url: https://raw.githubusercontent.com/ElementAI/greensim/f160e8b57d69f6ef469f2e991cc07b7721e08a91/tests/test_logging.py\n",
            "Row 887: https://github.com/ElementAI/greensim/blob/f160e8b57d69f6ef469f2e991cc07b7721e08a91/tests/test_logging.py, Error fetching the file\n",
            "\n",
            "Error fetching the file: 404 Client Error: Not Found for url: https://raw.githubusercontent.com/ElementAI/greensim/f160e8b57d69f6ef469f2e991cc07b7721e08a91/tests/test_logging.py\n",
            "Row 888: https://github.com/ElementAI/greensim/blob/f160e8b57d69f6ef469f2e991cc07b7721e08a91/tests/test_logging.py, Error fetching the file\n",
            "\n",
            "Error fetching the file: 404 Client Error: Not Found for url: https://raw.githubusercontent.com/ElementAI/greensim/f160e8b57d69f6ef469f2e991cc07b7721e08a91/tests/test_sim.py\n",
            "Row 889: https://github.com/ElementAI/greensim/blob/f160e8b57d69f6ef469f2e991cc07b7721e08a91/tests/test_sim.py, Error fetching the file\n",
            "\n",
            "Error fetching the file: 404 Client Error: Not Found for url: https://raw.githubusercontent.com/jerodg/jgutils/6c8ed6aca37d509af8ce1b57635fad62f1c846b4/jgutils/tests/test_persistentdict.py\n",
            "Row 991: https://github.com/jerodg/jgutils/blob/6c8ed6aca37d509af8ce1b57635fad62f1c846b4/jgutils/tests/test_persistentdict.py, Error fetching the file\n",
            "\n",
            "Error fetching the file: 404 Client Error: Not Found for url: https://raw.githubusercontent.com/gmggroup/omf/bf0cfaa4d05c438606d7b4561166bf12d2c1be74/tests/test_base.py\n",
            "Row 1156: https://github.com/gmggroup/omf/blob/bf0cfaa4d05c438606d7b4561166bf12d2c1be74/tests/test_base.py, Error fetching the file\n",
            "\n",
            "Error fetching the file: 404 Client Error: Not Found for url: https://raw.githubusercontent.com/optiflows/tukio/116b35dbceae899d7996b1788449a6e31e3f4512/tests/test_task.py\n",
            "Row 1838: https://github.com/optiflows/tukio/blob/116b35dbceae899d7996b1788449a6e31e3f4512/tests/test_task.py, Error fetching the file\n",
            "\n",
            "Error fetching the file: 404 Client Error: Not Found for url: https://raw.githubusercontent.com/optiflows/tukio/116b35dbceae899d7996b1788449a6e31e3f4512/tests/test_task.py\n",
            "Row 1839: https://github.com/optiflows/tukio/blob/116b35dbceae899d7996b1788449a6e31e3f4512/tests/test_task.py, Error fetching the file\n",
            "\n",
            "Error fetching the file: 404 Client Error: Not Found for url: https://raw.githubusercontent.com/optiflows/tukio/116b35dbceae899d7996b1788449a6e31e3f4512/tests/test_task.py\n",
            "Row 1840: https://github.com/optiflows/tukio/blob/116b35dbceae899d7996b1788449a6e31e3f4512/tests/test_task.py, Error fetching the file\n",
            "\n",
            "Error fetching the file: 404 Client Error: Not Found for url: https://raw.githubusercontent.com/optiflows/tukio/116b35dbceae899d7996b1788449a6e31e3f4512/tests/test_task.py\n",
            "Row 1841: https://github.com/optiflows/tukio/blob/116b35dbceae899d7996b1788449a6e31e3f4512/tests/test_task.py, Error fetching the file\n",
            "\n",
            "Error fetching the file: 404 Client Error: Not Found for url: https://raw.githubusercontent.com/optiflows/tukio/116b35dbceae899d7996b1788449a6e31e3f4512/tests/test_task.py\n",
            "Row 1842: https://github.com/optiflows/tukio/blob/116b35dbceae899d7996b1788449a6e31e3f4512/tests/test_task.py, Error fetching the file\n",
            "\n",
            "Error fetching the file: 404 Client Error: Not Found for url: https://raw.githubusercontent.com/optiflows/tukio/116b35dbceae899d7996b1788449a6e31e3f4512/tests/test_task.py\n",
            "Row 1843: https://github.com/optiflows/tukio/blob/116b35dbceae899d7996b1788449a6e31e3f4512/tests/test_task.py, Error fetching the file\n",
            "\n",
            "Error fetching the file: 404 Client Error: Not Found for url: https://raw.githubusercontent.com/optiflows/tukio/116b35dbceae899d7996b1788449a6e31e3f4512/tests/test_task.py\n",
            "Row 1844: https://github.com/optiflows/tukio/blob/116b35dbceae899d7996b1788449a6e31e3f4512/tests/test_task.py, Error fetching the file\n",
            "\n",
            "Error fetching the file: 404 Client Error: Not Found for url: https://raw.githubusercontent.com/optiflows/tukio/116b35dbceae899d7996b1788449a6e31e3f4512/tests/test_task.py\n",
            "Row 1845: https://github.com/optiflows/tukio/blob/116b35dbceae899d7996b1788449a6e31e3f4512/tests/test_task.py, Error fetching the file\n",
            "\n",
            "Error fetching the file: 404 Client Error: Not Found for url: https://raw.githubusercontent.com/optiflows/tukio/116b35dbceae899d7996b1788449a6e31e3f4512/tests/test_task.py\n",
            "Row 1846: https://github.com/optiflows/tukio/blob/116b35dbceae899d7996b1788449a6e31e3f4512/tests/test_task.py, Error fetching the file\n",
            "\n",
            "Error fetching the file: 404 Client Error: Not Found for url: https://raw.githubusercontent.com/optiflows/tukio/116b35dbceae899d7996b1788449a6e31e3f4512/tests/test_task.py\n",
            "Row 1847: https://github.com/optiflows/tukio/blob/116b35dbceae899d7996b1788449a6e31e3f4512/tests/test_task.py, Error fetching the file\n",
            "\n",
            "Error fetching the file: 404 Client Error: Not Found for url: https://raw.githubusercontent.com/optiflows/tukio/116b35dbceae899d7996b1788449a6e31e3f4512/tests/test_task.py\n",
            "Row 1848: https://github.com/optiflows/tukio/blob/116b35dbceae899d7996b1788449a6e31e3f4512/tests/test_task.py, Error fetching the file\n",
            "\n",
            "Error fetching the file: 404 Client Error: Not Found for url: https://raw.githubusercontent.com/optiflows/tukio/116b35dbceae899d7996b1788449a6e31e3f4512/tests/test_task.py\n",
            "Row 1849: https://github.com/optiflows/tukio/blob/116b35dbceae899d7996b1788449a6e31e3f4512/tests/test_task.py, Error fetching the file\n",
            "\n",
            "Error fetching the file: 404 Client Error: Not Found for url: https://raw.githubusercontent.com/optiflows/tukio/116b35dbceae899d7996b1788449a6e31e3f4512/tests/test_task.py\n",
            "Row 1850: https://github.com/optiflows/tukio/blob/116b35dbceae899d7996b1788449a6e31e3f4512/tests/test_task.py, Error fetching the file\n",
            "\n",
            "Error fetching the file: 404 Client Error: Not Found for url: https://raw.githubusercontent.com/optiflows/tukio/116b35dbceae899d7996b1788449a6e31e3f4512/tests/test_task.py\n",
            "Row 1851: https://github.com/optiflows/tukio/blob/116b35dbceae899d7996b1788449a6e31e3f4512/tests/test_task.py, Error fetching the file\n",
            "\n",
            "Error fetching the file: 404 Client Error: Not Found for url: https://raw.githubusercontent.com/optiflows/tukio/116b35dbceae899d7996b1788449a6e31e3f4512/tests/test_task.py\n",
            "Row 1852: https://github.com/optiflows/tukio/blob/116b35dbceae899d7996b1788449a6e31e3f4512/tests/test_task.py, Error fetching the file\n",
            "\n",
            "Error fetching the file: 404 Client Error: Not Found for url: https://raw.githubusercontent.com/optiflows/tukio/116b35dbceae899d7996b1788449a6e31e3f4512/tests/test_task.py\n",
            "Row 1853: https://github.com/optiflows/tukio/blob/116b35dbceae899d7996b1788449a6e31e3f4512/tests/test_task.py, Error fetching the file\n",
            "\n",
            "Error fetching the file: 404 Client Error: Not Found for url: https://raw.githubusercontent.com/surycat/tukio/116b35dbceae899d7996b1788449a6e31e3f4512/tests/test_task.py\n",
            "Row 1854: https://github.com/surycat/tukio/blob/116b35dbceae899d7996b1788449a6e31e3f4512/tests/test_task.py, Error fetching the file\n",
            "\n",
            "Error fetching the file: 404 Client Error: Not Found for url: https://raw.githubusercontent.com/surycat/tukio/116b35dbceae899d7996b1788449a6e31e3f4512/tests/test_task.py\n",
            "Row 1855: https://github.com/surycat/tukio/blob/116b35dbceae899d7996b1788449a6e31e3f4512/tests/test_task.py, Error fetching the file\n",
            "\n",
            "Error fetching the file: 404 Client Error: Not Found for url: https://raw.githubusercontent.com/surycat/tukio/116b35dbceae899d7996b1788449a6e31e3f4512/tests/test_task.py\n",
            "Row 1856: https://github.com/surycat/tukio/blob/116b35dbceae899d7996b1788449a6e31e3f4512/tests/test_task.py, Error fetching the file\n",
            "\n",
            "Error fetching the file: 404 Client Error: Not Found for url: https://raw.githubusercontent.com/surycat/tukio/116b35dbceae899d7996b1788449a6e31e3f4512/tests/test_task.py\n",
            "Row 1857: https://github.com/surycat/tukio/blob/116b35dbceae899d7996b1788449a6e31e3f4512/tests/test_task.py, Error fetching the file\n",
            "\n",
            "Error fetching the file: 404 Client Error: Not Found for url: https://raw.githubusercontent.com/surycat/tukio/116b35dbceae899d7996b1788449a6e31e3f4512/tests/test_task.py\n",
            "Row 1858: https://github.com/surycat/tukio/blob/116b35dbceae899d7996b1788449a6e31e3f4512/tests/test_task.py, Error fetching the file\n",
            "\n",
            "Error fetching the file: 404 Client Error: Not Found for url: https://raw.githubusercontent.com/surycat/tukio/116b35dbceae899d7996b1788449a6e31e3f4512/tests/test_task.py\n",
            "Row 1859: https://github.com/surycat/tukio/blob/116b35dbceae899d7996b1788449a6e31e3f4512/tests/test_task.py, Error fetching the file\n",
            "\n",
            "Error fetching the file: 404 Client Error: Not Found for url: https://raw.githubusercontent.com/surycat/tukio/116b35dbceae899d7996b1788449a6e31e3f4512/tests/test_task.py\n",
            "Row 1860: https://github.com/surycat/tukio/blob/116b35dbceae899d7996b1788449a6e31e3f4512/tests/test_task.py, Error fetching the file\n",
            "\n",
            "Error fetching the file: 404 Client Error: Not Found for url: https://raw.githubusercontent.com/surycat/tukio/116b35dbceae899d7996b1788449a6e31e3f4512/tests/test_task.py\n",
            "Row 1861: https://github.com/surycat/tukio/blob/116b35dbceae899d7996b1788449a6e31e3f4512/tests/test_task.py, Error fetching the file\n",
            "\n",
            "Error fetching the file: 404 Client Error: Not Found for url: https://raw.githubusercontent.com/surycat/tukio/116b35dbceae899d7996b1788449a6e31e3f4512/tests/test_task.py\n",
            "Row 1862: https://github.com/surycat/tukio/blob/116b35dbceae899d7996b1788449a6e31e3f4512/tests/test_task.py, Error fetching the file\n",
            "\n",
            "Error fetching the file: 404 Client Error: Not Found for url: https://raw.githubusercontent.com/surycat/tukio/116b35dbceae899d7996b1788449a6e31e3f4512/tests/test_task.py\n",
            "Row 1863: https://github.com/surycat/tukio/blob/116b35dbceae899d7996b1788449a6e31e3f4512/tests/test_task.py, Error fetching the file\n",
            "\n",
            "Error fetching the file: 404 Client Error: Not Found for url: https://raw.githubusercontent.com/surycat/tukio/116b35dbceae899d7996b1788449a6e31e3f4512/tests/test_task.py\n",
            "Row 1864: https://github.com/surycat/tukio/blob/116b35dbceae899d7996b1788449a6e31e3f4512/tests/test_task.py, Error fetching the file\n",
            "\n",
            "Error fetching the file: 404 Client Error: Not Found for url: https://raw.githubusercontent.com/surycat/tukio/116b35dbceae899d7996b1788449a6e31e3f4512/tests/test_task.py\n",
            "Row 1865: https://github.com/surycat/tukio/blob/116b35dbceae899d7996b1788449a6e31e3f4512/tests/test_task.py, Error fetching the file\n",
            "\n",
            "Error fetching the file: 404 Client Error: Not Found for url: https://raw.githubusercontent.com/surycat/tukio/116b35dbceae899d7996b1788449a6e31e3f4512/tests/test_task.py\n",
            "Row 1866: https://github.com/surycat/tukio/blob/116b35dbceae899d7996b1788449a6e31e3f4512/tests/test_task.py, Error fetching the file\n",
            "\n",
            "Error fetching the file: 404 Client Error: Not Found for url: https://raw.githubusercontent.com/surycat/tukio/116b35dbceae899d7996b1788449a6e31e3f4512/tests/test_task.py\n",
            "Row 1867: https://github.com/surycat/tukio/blob/116b35dbceae899d7996b1788449a6e31e3f4512/tests/test_task.py, Error fetching the file\n",
            "\n",
            "Error fetching the file: 404 Client Error: Not Found for url: https://raw.githubusercontent.com/surycat/tukio/116b35dbceae899d7996b1788449a6e31e3f4512/tests/test_task.py\n",
            "Row 1868: https://github.com/surycat/tukio/blob/116b35dbceae899d7996b1788449a6e31e3f4512/tests/test_task.py, Error fetching the file\n",
            "\n",
            "Error fetching the file: 404 Client Error: Not Found for url: https://raw.githubusercontent.com/surycat/tukio/116b35dbceae899d7996b1788449a6e31e3f4512/tests/test_task.py\n",
            "Row 1869: https://github.com/surycat/tukio/blob/116b35dbceae899d7996b1788449a6e31e3f4512/tests/test_task.py, Error fetching the file\n",
            "\n",
            "Error fetching the file: 404 Client Error: Not Found for url: https://raw.githubusercontent.com/upday7/web_dict/c7be8a69028b1fa8be61417b25e322083e2dd2a7/web_dict/tests/test_ub.py\n",
            "Row 1895: https://github.com/upday7/web_dict/blob/c7be8a69028b1fa8be61417b25e322083e2dd2a7/web_dict/tests/test_ub.py, Error fetching the file\n",
            "\n",
            "Error fetching the file: 404 Client Error: Not Found for url: https://raw.githubusercontent.com/efe/zula/6328eb9c0e18debaaa769b7ac0d05a4a472f4746/neurodsp/tests/aperiodic/test_dfa.py\n",
            "Row 1980: https://github.com/efe/zula/blob/6328eb9c0e18debaaa769b7ac0d05a4a472f4746/neurodsp/tests/aperiodic/test_dfa.py, Error fetching the file\n",
            "\n",
            "Error fetching the file: 404 Client Error: Not Found for url: https://raw.githubusercontent.com/efe/zula/6328eb9c0e18debaaa769b7ac0d05a4a472f4746/neurodsp/tests/aperiodic/test_irasa.py\n",
            "Row 1981: https://github.com/efe/zula/blob/6328eb9c0e18debaaa769b7ac0d05a4a472f4746/neurodsp/tests/aperiodic/test_irasa.py, Error fetching the file\n",
            "\n",
            "Error fetching the file: 404 Client Error: Not Found for url: https://raw.githubusercontent.com/efe/zula/6328eb9c0e18debaaa769b7ac0d05a4a472f4746/tests/test_report.py\n",
            "Row 1982: https://github.com/efe/zula/blob/6328eb9c0e18debaaa769b7ac0d05a4a472f4746/tests/test_report.py, Error fetching the file\n",
            "\n",
            "Error fetching the file: 404 Client Error: Not Found for url: https://raw.githubusercontent.com/efe/zula/6328eb9c0e18debaaa769b7ac0d05a4a472f4746/tests/test_posts.py\n",
            "Row 1983: https://github.com/efe/zula/blob/6328eb9c0e18debaaa769b7ac0d05a4a472f4746/tests/test_posts.py, Error fetching the file\n",
            "\n",
            "Error fetching the file: 404 Client Error: Not Found for url: https://raw.githubusercontent.com/efe/zula/6328eb9c0e18debaaa769b7ac0d05a4a472f4746/tests/test_posts.py\n",
            "Row 1984: https://github.com/efe/zula/blob/6328eb9c0e18debaaa769b7ac0d05a4a472f4746/tests/test_posts.py, Error fetching the file\n",
            "\n",
            "Error fetching the file: 404 Client Error: Not Found for url: https://raw.githubusercontent.com/efe/zula/6328eb9c0e18debaaa769b7ac0d05a4a472f4746/plcx/tests/comm/test_server.py\n",
            "Row 1985: https://github.com/efe/zula/blob/6328eb9c0e18debaaa769b7ac0d05a4a472f4746/plcx/tests/comm/test_server.py, Error fetching the file\n",
            "\n",
            "Error fetching the file: 404 Client Error: Not Found for url: https://raw.githubusercontent.com/efe/zula/6328eb9c0e18debaaa769b7ac0d05a4a472f4746/plcx/tests/comm/test_server.py\n",
            "Row 1986: https://github.com/efe/zula/blob/6328eb9c0e18debaaa769b7ac0d05a4a472f4746/plcx/tests/comm/test_server.py, Error fetching the file\n",
            "\n",
            "Error fetching the file: 404 Client Error: Not Found for url: https://raw.githubusercontent.com/efe/zula/6328eb9c0e18debaaa769b7ac0d05a4a472f4746/tests/test_provider_ipc.py\n",
            "Row 1987: https://github.com/efe/zula/blob/6328eb9c0e18debaaa769b7ac0d05a4a472f4746/tests/test_provider_ipc.py, Error fetching the file\n",
            "\n",
            "Error fetching the file: 404 Client Error: Not Found for url: https://raw.githubusercontent.com/efe/zula/6328eb9c0e18debaaa769b7ac0d05a4a472f4746/tests/test_provider_ipc.py\n",
            "Row 1988: https://github.com/efe/zula/blob/6328eb9c0e18debaaa769b7ac0d05a4a472f4746/tests/test_provider_ipc.py, Error fetching the file\n",
            "\n",
            "Error fetching the file: 404 Client Error: Not Found for url: https://raw.githubusercontent.com/efe/zula/6328eb9c0e18debaaa769b7ac0d05a4a472f4746/authnzerver/tests/test_auth_permissions.py\n",
            "Row 1989: https://github.com/efe/zula/blob/6328eb9c0e18debaaa769b7ac0d05a4a472f4746/authnzerver/tests/test_auth_permissions.py, Error fetching the file\n",
            "\n",
            "Error fetching the file: 404 Client Error: Not Found for url: https://raw.githubusercontent.com/efe/zula/6328eb9c0e18debaaa769b7ac0d05a4a472f4746/tests/test_real_conditions.py\n",
            "Row 1990: https://github.com/efe/zula/blob/6328eb9c0e18debaaa769b7ac0d05a4a472f4746/tests/test_real_conditions.py, Error fetching the file\n",
            "\n",
            "Error fetching the file: 404 Client Error: Not Found for url: https://raw.githubusercontent.com/efe/zula/6328eb9c0e18debaaa769b7ac0d05a4a472f4746/tests/test_real_conditions.py\n",
            "Row 1991: https://github.com/efe/zula/blob/6328eb9c0e18debaaa769b7ac0d05a4a472f4746/tests/test_real_conditions.py, Error fetching the file\n",
            "\n",
            "Error fetching the file: 404 Client Error: Not Found for url: https://raw.githubusercontent.com/efe/zula/6328eb9c0e18debaaa769b7ac0d05a4a472f4746/pynoorm/tests/test_pynoorm.py\n",
            "Row 1992: https://github.com/efe/zula/blob/6328eb9c0e18debaaa769b7ac0d05a4a472f4746/pynoorm/tests/test_pynoorm.py, Error fetching the file\n",
            "\n",
            "Error fetching the file: 404 Client Error: Not Found for url: https://raw.githubusercontent.com/efe/zula/6328eb9c0e18debaaa769b7ac0d05a4a472f4746/pynoorm/tests/test_pynoorm.py\n",
            "Row 1993: https://github.com/efe/zula/blob/6328eb9c0e18debaaa769b7ac0d05a4a472f4746/pynoorm/tests/test_pynoorm.py, Error fetching the file\n",
            "\n",
            "Error fetching the file: 404 Client Error: Not Found for url: https://raw.githubusercontent.com/efe/zula/6328eb9c0e18debaaa769b7ac0d05a4a472f4746/test/pyiosxr/test_iosxr.py\n",
            "Row 1994: https://github.com/efe/zula/blob/6328eb9c0e18debaaa769b7ac0d05a4a472f4746/test/pyiosxr/test_iosxr.py, Error fetching the file\n",
            "\n",
            "Error fetching the file: 404 Client Error: Not Found for url: https://raw.githubusercontent.com/efe/zula/6328eb9c0e18debaaa769b7ac0d05a4a472f4746/test/pyiosxr/test_iosxr.py\n",
            "Row 1995: https://github.com/efe/zula/blob/6328eb9c0e18debaaa769b7ac0d05a4a472f4746/test/pyiosxr/test_iosxr.py, Error fetching the file\n",
            "\n",
            "Error fetching the file: 404 Client Error: Not Found for url: https://raw.githubusercontent.com/efe/zula/6328eb9c0e18debaaa769b7ac0d05a4a472f4746/test/pyiosxr/test_iosxr.py\n",
            "Row 1996: https://github.com/efe/zula/blob/6328eb9c0e18debaaa769b7ac0d05a4a472f4746/test/pyiosxr/test_iosxr.py, Error fetching the file\n",
            "\n",
            "Error fetching the file: 404 Client Error: Not Found for url: https://raw.githubusercontent.com/efe/zula/6328eb9c0e18debaaa769b7ac0d05a4a472f4746/test/pyiosxr/test_iosxr.py\n",
            "Row 1997: https://github.com/efe/zula/blob/6328eb9c0e18debaaa769b7ac0d05a4a472f4746/test/pyiosxr/test_iosxr.py, Error fetching the file\n",
            "\n",
            "Error fetching the file: 404 Client Error: Not Found for url: https://raw.githubusercontent.com/efe/zula/6328eb9c0e18debaaa769b7ac0d05a4a472f4746/tests/test_ticking.py\n",
            "Row 1998: https://github.com/efe/zula/blob/6328eb9c0e18debaaa769b7ac0d05a4a472f4746/tests/test_ticking.py, Error fetching the file\n",
            "\n",
            "Error fetching the file: 404 Client Error: Not Found for url: https://raw.githubusercontent.com/efe/zula/6328eb9c0e18debaaa769b7ac0d05a4a472f4746/tests/test_ticking.py\n",
            "Row 1999: https://github.com/efe/zula/blob/6328eb9c0e18debaaa769b7ac0d05a4a472f4746/tests/test_ticking.py, Error fetching the file\n",
            "\n",
            "Error fetching the file: 404 Client Error: Not Found for url: https://raw.githubusercontent.com/efe/zula/6328eb9c0e18debaaa769b7ac0d05a4a472f4746/tests/test_ticking.py\n",
            "Row 2000: https://github.com/efe/zula/blob/6328eb9c0e18debaaa769b7ac0d05a4a472f4746/tests/test_ticking.py, Error fetching the file\n",
            "\n",
            "Error fetching the file: 404 Client Error: Not Found for url: https://raw.githubusercontent.com/efe/zula/6328eb9c0e18debaaa769b7ac0d05a4a472f4746/tests/test_uuid.py\n",
            "Row 2001: https://github.com/efe/zula/blob/6328eb9c0e18debaaa769b7ac0d05a4a472f4746/tests/test_uuid.py, Error fetching the file\n",
            "\n",
            "Error fetching the file: 404 Client Error: Not Found for url: https://raw.githubusercontent.com/efe/zula/6328eb9c0e18debaaa769b7ac0d05a4a472f4746/tests/test_xml.py\n",
            "Row 2002: https://github.com/efe/zula/blob/6328eb9c0e18debaaa769b7ac0d05a4a472f4746/tests/test_xml.py, Error fetching the file\n",
            "\n",
            "Error fetching the file: 404 Client Error: Not Found for url: https://raw.githubusercontent.com/efe/zula/6328eb9c0e18debaaa769b7ac0d05a4a472f4746/torchpwl/pwl_test.py\n",
            "Row 2003: https://github.com/efe/zula/blob/6328eb9c0e18debaaa769b7ac0d05a4a472f4746/torchpwl/pwl_test.py, Error fetching the file\n",
            "\n",
            "Error fetching the file: 404 Client Error: Not Found for url: https://raw.githubusercontent.com/efe/zula/6328eb9c0e18debaaa769b7ac0d05a4a472f4746/torchpwl/pwl_test.py\n",
            "Row 2004: https://github.com/efe/zula/blob/6328eb9c0e18debaaa769b7ac0d05a4a472f4746/torchpwl/pwl_test.py, Error fetching the file\n",
            "\n",
            "Error fetching the file: 404 Client Error: Not Found for url: https://raw.githubusercontent.com/efe/zula/6328eb9c0e18debaaa769b7ac0d05a4a472f4746/torchpwl/pwl_test.py\n",
            "Row 2005: https://github.com/efe/zula/blob/6328eb9c0e18debaaa769b7ac0d05a4a472f4746/torchpwl/pwl_test.py, Error fetching the file\n",
            "\n",
            "Error fetching the file: 404 Client Error: Not Found for url: https://raw.githubusercontent.com/efe/zula/6328eb9c0e18debaaa769b7ac0d05a4a472f4746/tests/test_database/test_memory_database_hypothesis.py\n",
            "Row 2006: https://github.com/efe/zula/blob/6328eb9c0e18debaaa769b7ac0d05a4a472f4746/tests/test_database/test_memory_database_hypothesis.py, Error fetching the file\n",
            "\n",
            "Error fetching the file: 404 Client Error: Not Found for url: https://raw.githubusercontent.com/efe/zula/6328eb9c0e18debaaa769b7ac0d05a4a472f4746/tests/unit/v0x04/test_controller2switch/test_flow_mod.py\n",
            "Row 2007: https://github.com/efe/zula/blob/6328eb9c0e18debaaa769b7ac0d05a4a472f4746/tests/unit/v0x04/test_controller2switch/test_flow_mod.py, Error fetching the file\n",
            "\n",
            "Error fetching the file: 404 Client Error: Not Found for url: https://raw.githubusercontent.com/efe/zula/6328eb9c0e18debaaa769b7ac0d05a4a472f4746/tests/test_missing_data_imputer.py\n",
            "Row 2008: https://github.com/efe/zula/blob/6328eb9c0e18debaaa769b7ac0d05a4a472f4746/tests/test_missing_data_imputer.py, Error fetching the file\n",
            "\n",
            "Error fetching the file: 404 Client Error: Not Found for url: https://raw.githubusercontent.com/efe/zula/6328eb9c0e18debaaa769b7ac0d05a4a472f4746/tests/test_mudobjects.py\n",
            "Row 2009: https://github.com/efe/zula/blob/6328eb9c0e18debaaa769b7ac0d05a4a472f4746/tests/test_mudobjects.py, Error fetching the file\n",
            "\n"
          ]
        }
      ],
      "source": [
        "all_test_methods = []\n",
        "print('The indices below corresponds to the row number in the csv file shown on https://sites.google.com/view/ipflakies.')\n",
        "\n",
        "for index, row in data.iterrows():\n",
        "  row_in_csv = index + 2\n",
        "  project_name = row['Project_Name']\n",
        "  repo_url = row['Project_URL']\n",
        "  commit_hash = row['Project_Hash']\n",
        "  if len(row['Test_id'].split('::')) > 2:\n",
        "    test_file_path = row['Test_id'].split('::')[0]\n",
        "    class_name = row['Test_id'].split('::')[1]\n",
        "    test_name = row['Test_id'].split('::')[2]\n",
        "  else:\n",
        "    test_file_path = row['Test_id'].split('::')[0]\n",
        "    class_name = ''\n",
        "    test_name = row['Test_id'].split('::')[1]\n",
        "  test_name = remove_square_brackets(test_name)\n",
        "  detected = row['Detected']\n",
        "\n",
        "  test_file_path_rec = test_file_path\n",
        "  class_name_rec = class_name\n",
        "  test_name_rec = test_name\n",
        "\n",
        "  project_name, repo_url, commit_hash, test_file_path, class_name, test_name = special_cases(project_name, repo_url, commit_hash, test_file_path, class_name, test_name)\n",
        "\n",
        "  new_url = repo_url.replace('github.com', 'raw.githubusercontent.com')\n",
        "  new_url += '/' + commit_hash + '/' + test_file_path\n",
        "\n",
        "  content = read_python_file(new_url)\n",
        "  if content is None:\n",
        "    print(f\"Row {row_in_csv}: {repo_url}/blob/{commit_hash}/{test_file_path}, Error fetching the file\\n\")\n",
        "    continue\n",
        "\n",
        "  # Class content\n",
        "  if class_name != '':\n",
        "    content = match_class(content, class_name)\n",
        "    if content is None:\n",
        "      print(f\"Row {row_in_csv}: In {repo_url}/blob/{commit_hash}/{test_file_path}, Class '{class_name}' not found.\")\n",
        "      continue\n",
        "\n",
        "  # Test method content\n",
        "  content = match_method(content, test_name)\n",
        "  if content is None:\n",
        "    print(f\"Row {row_in_csv}: In {repo_url}/blob/{commit_hash}/{test_file_path}, Class '{class_name}' , Test function '{test_name}' not found.\")\n",
        "    continue\n",
        "\n",
        "  test_method = {}\n",
        "  test_method['Row'] = row_in_csv\n",
        "  test_method['Project_Name'] = project_name\n",
        "  test_method['URL'] = repo_url + '/blob/' + commit_hash + '/' + test_file_path_rec\n",
        "  test_method['New URL'] = new_url\n",
        "  test_method['Class'] = class_name_rec\n",
        "  test_method['Test'] = test_name_rec\n",
        "  test_method['Content'] = content\n",
        "  test_method['Detected'] = detected\n",
        "  all_test_methods.append(test_method)"
      ]
    },
    {
      "cell_type": "code",
      "execution_count": null,
      "metadata": {
        "id": "5e1GEuWFt3MT"
      },
      "outputs": [],
      "source": [
        "filename = \"all_test_methods.csv\"\n",
        "with open(filename, mode=\"w\", newline=\"\") as file:\n",
        "  writer = csv.DictWriter(file, fieldnames=all_test_methods[0].keys())\n",
        "  writer.writeheader()\n",
        "  writer.writerows(all_test_methods)"
      ]
    },
    {
      "cell_type": "code",
      "execution_count": null,
      "metadata": {
        "id": "TgtncLsAt7OK"
      },
      "outputs": [],
      "source": [
        "# Only use this code block if you are using Google Colab.\n",
        "# If you are using Jupyter Notebook, please ignore this code block. You can directly upload the file to your Jupyter Notebook file systems.\n",
        "\n",
        "if not os.path.exists('all_test_methods.csv'):\n",
        "  ## It will prompt you to select a local file. Click on “Choose Files” then select and upload the file.\n",
        "  ## Wait for the file to be 100% uploaded. You should see the name of the file once Colab has uploaded it.\n",
        "  uploaded = files.upload()\n",
        "  all_test_methods = []\n",
        "  with open('all_test_methods.csv', 'r') as f:\n",
        "    reader = csv.DictReader(f)\n",
        "    for row in reader:\n",
        "      all_test_methods.append(row)"
      ]
    },
    {
      "cell_type": "markdown",
      "metadata": {
        "id": "Sd9c7_eXqYBV"
      },
      "source": [
        "## Select Projects"
      ]
    },
    {
      "cell_type": "code",
      "execution_count": null,
      "metadata": {
        "id": "VH83AEa4xTXT"
      },
      "outputs": [],
      "source": [
        "project_to_num_true_tests = dict()\n",
        "for test_method in all_test_methods:\n",
        "  project_name = test_method['Project_Name']\n",
        "  if test_method['Detected'] == True or test_method['Detected'] == 'True':\n",
        "    project_to_num_true_tests[project_name] = project_to_num_true_tests.get(project_name, 0) + 1"
      ]
    },
    {
      "cell_type": "code",
      "execution_count": null,
      "metadata": {
        "id": "0GBMXXy92IA5"
      },
      "outputs": [],
      "source": [
        "selected_projects = []\n",
        "for project_name, num_true_tests in project_to_num_true_tests.items():\n",
        "  if num_true_tests > 20:\n",
        "    selected_projects.append(project_name)"
      ]
    },
    {
      "cell_type": "code",
      "execution_count": null,
      "metadata": {
        "id": "CLTiGh5LcHw8"
      },
      "outputs": [],
      "source": [
        "selected_methods = dict()\n",
        "for test_method in all_test_methods:\n",
        "  if test_method['Project_Name'] in selected_projects:\n",
        "    selected_methods[test_method['Project_Name']] = selected_methods.get(test_method['Project_Name'], []) + [test_method]"
      ]
    },
    {
      "cell_type": "code",
      "execution_count": null,
      "metadata": {
        "id": "ody7Rbh8Msgq"
      },
      "outputs": [],
      "source": [
        "filename = \"selected_methods.csv\"\n",
        "header_written = False\n",
        "with open(filename, mode=\"w\", newline=\"\") as file:\n",
        "  for project in selected_methods:\n",
        "    writer = csv.DictWriter(file, fieldnames=selected_methods[project][0].keys())\n",
        "    if not header_written:\n",
        "      writer.writeheader()\n",
        "      header_written = True\n",
        "    writer.writerows(selected_methods[project])"
      ]
    },
    {
      "cell_type": "code",
      "execution_count": null,
      "metadata": {
        "id": "oXsoY3vOtRoN"
      },
      "outputs": [],
      "source": [
        "# Only use this code block if you are using Google Colab.\n",
        "# If you are using Jupyter Notebook, please ignore this code block. You can directly upload the file to your Jupyter Notebook file systems.\n",
        "\n",
        "if not os.path.exists('selected_methods.csv'):\n",
        "  ## It will prompt you to select a local file. Click on “Choose Files” then select and upload the file.\n",
        "  ## Wait for the file to be 100% uploaded. You should see the name of the file once Colab has uploaded it.\n",
        "  uploaded = files.upload()\n",
        "  selected_methods = dict()\n",
        "  with open('selected_methods.csv', 'r') as f:\n",
        "    reader = csv.DictReader(f)\n",
        "    for row in reader:\n",
        "      project_name = row['Project_Name']\n",
        "      selected_methods[project_name] = selected_methods.get(project_name, []) + [row]"
      ]
    },
    {
      "cell_type": "markdown",
      "metadata": {
        "id": "AEcGC3Bxzzak"
      },
      "source": [
        "## Refined Selected Methods"
      ]
    },
    {
      "cell_type": "code",
      "execution_count": null,
      "metadata": {
        "id": "UTYTgf05zmcr",
        "colab": {
          "base_uri": "https://localhost:8080/"
        },
        "outputId": "cb640602-5cb9-43c8-d395-4722e49db70f"
      },
      "outputs": [
        {
          "output_type": "stream",
          "name": "stdout",
          "text": [
            "Butter.MAS.PythonAPI\n",
            "flask-multi-redis\n",
            "centreon-sdk-python\n",
            "cloudnetpy\n",
            "crom\n",
            "easypy\n",
            "eppy\n",
            "pykicad\n",
            "reframe\n",
            "webssh\n"
          ]
        }
      ],
      "source": [
        "for project in selected_methods:\n",
        "  print(project)"
      ]
    },
    {
      "cell_type": "code",
      "execution_count": null,
      "metadata": {
        "id": "YvtfJMNS2OKp"
      },
      "outputs": [],
      "source": [
        "refined_selected_methods = dict()"
      ]
    },
    {
      "cell_type": "code",
      "execution_count": null,
      "metadata": {
        "id": "MKmlim-vNokJ"
      },
      "outputs": [],
      "source": [
        "def add_multiple_methods(project_name, project_methods, text_files, url_starter, new_url_starter):\n",
        "  project_methods_dict = dict()\n",
        "  res = []\n",
        "  for method in project_methods:\n",
        "    method_file = method['New URL'].split('/')[-1]\n",
        "    project_methods_dict[method_file] = project_methods_dict.get(method_file, []) + [method]\n",
        "\n",
        "  for test_file in test_files:\n",
        "    existed_methods = set()\n",
        "    if test_file in project_methods_dict:\n",
        "      for method in project_methods_dict[test_file]:\n",
        "        existed_methods.add(method['Test'])\n",
        "\n",
        "    new_url = new_url_starter + test_file\n",
        "    content = read_python_file(new_url)\n",
        "    methods = get_every_test_method(content)\n",
        "\n",
        "    for method in methods:\n",
        "      method_split = method.split('\\n')\n",
        "      method_name = ''\n",
        "      for split in method_split:\n",
        "        if 'def ' in split:\n",
        "          method_name = split\n",
        "          break\n",
        "      method_name = method_name[method_name.find('def ') + len('def '): method_name.find('(')]\n",
        "\n",
        "      if method_name not in existed_methods:\n",
        "        new_method = {}\n",
        "        new_method['Row'] = -1\n",
        "        new_method['Project_Name'] = project_name\n",
        "        new_method['URL'] = url_starter + test_file\n",
        "        new_method['New URL'] = new_url\n",
        "        new_method['Class'] = ''\n",
        "        new_method['Test'] = method_name\n",
        "        new_method['Content'] = method\n",
        "        new_method['Detected'] = 'False'\n",
        "        res.append(new_method)\n",
        "\n",
        "  return res"
      ]
    },
    {
      "cell_type": "markdown",
      "metadata": {
        "id": "byS1r4CZz1gI"
      },
      "source": [
        "### 1. Butter.MAS.PythonAPI"
      ]
    },
    {
      "cell_type": "code",
      "execution_count": null,
      "metadata": {
        "id": "4rLyQ-BOzxYT"
      },
      "outputs": [],
      "source": [
        "project_1 = 'Butter.MAS.PythonAPI'\n",
        "project_1_methods = deepcopy(selected_methods[project_1])"
      ]
    },
    {
      "cell_type": "code",
      "execution_count": null,
      "metadata": {
        "id": "gI3MJWPc3wBT"
      },
      "outputs": [],
      "source": [
        "for method in project_1_methods:\n",
        "  content = method['Content']\n",
        "  if method['Class'] == 'TestHttpClientApiMethods':\n",
        "    lines = content.splitlines()\n",
        "    new_lines = [lines[0]] + [\"        self.client = HttpClient('localhost')\"] + lines[1:]\n",
        "    content = \"\\n\".join(new_lines)\n",
        "    method['Content'] = content\n",
        "  if method['Class'] == 'TestTcpClientApiMethods':\n",
        "    lines = content.splitlines()\n",
        "    new_lines = [lines[0]] + [\"        self.client = TcpClient('localhost')\"] + lines[1:]\n",
        "    content = \"\\n\".join(new_lines)\n",
        "    method['Content'] = content\n",
        "  if method['Class'] == 'TestUdpClientApiMethods':\n",
        "    lines = content.splitlines()\n",
        "    new_lines = [lines[0]] + [\"        self.client = UdpClient('localhost')\"] + lines[1:]\n",
        "    content = \"\\n\".join(new_lines)\n",
        "    method['Content'] = content"
      ]
    },
    {
      "cell_type": "code",
      "execution_count": null,
      "metadata": {
        "id": "gkYZSyEz2WUF"
      },
      "outputs": [],
      "source": [
        "new_method = ''\n",
        "for method in project_1_methods:\n",
        "  if method['Test'] == 'testGetMotorRegisterRange':\n",
        "    new_method = deepcopy(method)\n",
        "    new_method['Row'] = -1\n",
        "    new_method['Class'] = 'TestUdpClientApiMethods'\n",
        "    new_method['Content'].replace('HttpClient', 'UdpClient')\n",
        "    new_method['Detected'] = 'False'\n",
        "    break\n",
        "\n",
        "project_1_methods.append(new_method)"
      ]
    },
    {
      "cell_type": "code",
      "execution_count": null,
      "metadata": {
        "id": "NTQwOSxSOf3v"
      },
      "outputs": [],
      "source": [
        "test_files = ['packet_builder_test.py', 'packet_http_test.py', 'packet_tcp_test.py', 'packet_udp_test.py']"
      ]
    },
    {
      "cell_type": "code",
      "execution_count": null,
      "metadata": {
        "id": "413Ad_8uON8h"
      },
      "outputs": [],
      "source": [
        "multiple_added_methods = add_multiple_methods(project_1, project_1_methods, test_files,\n",
        "                                              'https://github.com/butter-robotics/Butter.MAS.PythonAPI/blob/f86ebe75df3826f62a268645cdbe4400b43fab07/butter/mas/tests/packets/',\n",
        "                                              'https://raw.githubusercontent.com/butter-robotics/Butter.MAS.PythonAPI/f86ebe75df3826f62a268645cdbe4400b43fab07/butter/mas/tests/packets/')"
      ]
    },
    {
      "cell_type": "code",
      "execution_count": null,
      "metadata": {
        "id": "E1q1kegG3hTT"
      },
      "outputs": [],
      "source": [
        "project_1_methods += multiple_added_methods\n",
        "refined_selected_methods[project_1] = project_1_methods"
      ]
    },
    {
      "cell_type": "markdown",
      "metadata": {
        "id": "wb7r1zvg3jch"
      },
      "source": [
        "### 2. flask-multi-redis"
      ]
    },
    {
      "cell_type": "code",
      "execution_count": null,
      "metadata": {
        "id": "V68ExViU3raR"
      },
      "outputs": [],
      "source": [
        "project_2 = 'flask-multi-redis'\n",
        "project_2_methods = deepcopy(selected_methods[project_2])\n",
        "new_url = project_2_methods[0]['New URL']\n",
        "content = read_python_file(new_url)\n",
        "methods = get_every_test_method(content)"
      ]
    },
    {
      "cell_type": "code",
      "execution_count": null,
      "metadata": {
        "id": "7H7JzlpJ4SyU"
      },
      "outputs": [],
      "source": [
        "all_in_project_2 = dict()\n",
        "flaky_method_names = set()\n",
        "\n",
        "for method in methods:\n",
        "  method_split = method.split('\\n')\n",
        "  method_name = ''\n",
        "  for split in method_split:\n",
        "    if 'def ' in split:\n",
        "      method_name = split\n",
        "      break\n",
        "  method_name = method_name[method_name.find('def ') + len('def '): method_name.find('(')]\n",
        "  all_in_project_2[method_name] = method\n",
        "\n",
        "for method in project_2_methods:\n",
        "  method_name = method['Test']\n",
        "  if method['Detected'] == True or method['Detected'] == 'True':\n",
        "    flaky_method_names.add(method_name)\n",
        "\n",
        "for method in all_in_project_2:\n",
        "  if method not in flaky_method_names:\n",
        "    new_method = {}\n",
        "    new_method['Row'] = -1\n",
        "    new_method['Project_Name'] = project_2\n",
        "    new_method['URL'] = project_2_methods[0]['URL']\n",
        "    new_method['New URL'] = new_url\n",
        "    new_method['Class'] = ''\n",
        "    new_method['Test'] = method\n",
        "    new_method['Content'] = all_in_project_2[method]\n",
        "    new_method['Detected'] = 'False'\n",
        "    project_2_methods.append(new_method)"
      ]
    },
    {
      "cell_type": "code",
      "execution_count": null,
      "metadata": {
        "id": "pMdCmNh-QOC2"
      },
      "outputs": [],
      "source": [
        "test_files = [\"test_flask_multi_redis.py\"]"
      ]
    },
    {
      "cell_type": "code",
      "execution_count": null,
      "metadata": {
        "id": "j0WHQFwxPvEf"
      },
      "outputs": [],
      "source": [
        "multiple_added_methods = add_multiple_methods(project_2, project_2_methods, test_files,\n",
        "                                              'https://github.com/max-k/flask-multi-redis/blob/fa781d3598448a6429309a686de9a8adb53f9f34/test/unit/',\n",
        "                                              'https://raw.githubusercontent.com/max-k/flask-multi-redis/fa781d3598448a6429309a686de9a8adb53f9f34/test/unit/')"
      ]
    },
    {
      "cell_type": "code",
      "execution_count": null,
      "metadata": {
        "id": "dnj0m5pqQVIX"
      },
      "outputs": [],
      "source": [
        "project_2_methods += multiple_added_methods\n",
        "refined_selected_methods[project_2] = project_2_methods"
      ]
    },
    {
      "cell_type": "markdown",
      "metadata": {
        "id": "jHfGEG3w5rQc"
      },
      "source": [
        "### 3. centreon-sdk-python"
      ]
    },
    {
      "cell_type": "code",
      "execution_count": null,
      "metadata": {
        "id": "cH_TZ_2Z6jdH"
      },
      "outputs": [],
      "source": [
        "project_3 = 'centreon-sdk-python'\n",
        "project_3_methods = deepcopy(selected_methods[project_3])"
      ]
    },
    {
      "cell_type": "code",
      "execution_count": null,
      "metadata": {
        "id": "T7G-aY669tky"
      },
      "outputs": [],
      "source": [
        "new_method = ''\n",
        "for method in project_3_methods:\n",
        "  if method['Class'] == 'TestResourceCFG':\n",
        "    new_method = deepcopy(method)\n",
        "    new_method['Row'] = -1\n",
        "    new_method['Class'] = 'TestConnect'\n",
        "    new_method['Test'] = 'test_connection'\n",
        "    new_method['Content'] = match_method(read_python_file(new_method['New URL']), 'test_connection')\n",
        "    new_method['Detected'] = 'False'\n",
        "    break\n",
        "\n",
        "project_3_methods.append(new_method)\n",
        "refined_selected_methods[project_3] = project_3_methods"
      ]
    },
    {
      "cell_type": "markdown",
      "metadata": {
        "id": "PnuY4ok-_k5P"
      },
      "source": [
        "### 4. cloudnetpy"
      ]
    },
    {
      "cell_type": "code",
      "execution_count": null,
      "metadata": {
        "id": "_Veb8hDX_kkH"
      },
      "outputs": [],
      "source": [
        "test_files = [\n",
        "    \"test_atmos.py\",\n",
        "    \"test_ceilo.py\",\n",
        "    \"test_ceilometer.py\",\n",
        "    \"test_classify.py\",\n",
        "    \"test_cloudnetarray.py\",\n",
        "    \"test_datasource.py\",\n",
        "    \"test_drizzle.py\",\n",
        "    \"test_drizzle_error.py\",\n",
        "    \"test_droplet.py\",\n",
        "    \"test_falling.py\",\n",
        "    \"test_freezing.py\",\n",
        "    \"test_insects.py\",\n",
        "    \"test_iwc.py\",\n",
        "    \"test_jenoptik.py\",\n",
        "    \"test_lidar.py\",\n",
        "    \"test_lwc.py\",\n",
        "    \"test_melting.py\",\n",
        "    \"test_meta_for_old_files.py\",\n",
        "    \"test_mira.py\",\n",
        "    \"test_model.py\",\n",
        "    \"test_mwr.py\",\n",
        "    \"test_output.py\",\n",
        "    \"test_plotting.py\",\n",
        "    \"test_product_tools.py\",\n",
        "    \"test_radar.py\",\n",
        "    \"test_rpg.py\",\n",
        "    \"test_utils.py\",\n",
        "    \"test_vaisala.py\",\n",
        "]"
      ]
    },
    {
      "cell_type": "code",
      "execution_count": null,
      "metadata": {
        "id": "lkRtJGWdHWhC"
      },
      "outputs": [],
      "source": [
        "project_4 = 'cloudnetpy'\n",
        "project_4_methods = deepcopy(selected_methods[project_4])"
      ]
    },
    {
      "cell_type": "code",
      "execution_count": null,
      "metadata": {
        "id": "HZYuJ8YQQjHt"
      },
      "outputs": [],
      "source": [
        "multiple_added_methods = add_multiple_methods(project_4, project_4_methods, test_files,\n",
        "                                              'https://github.com/tukiains/cloudnetpy/blob/26f2607b890630146469cfa410fce99438ceee3f/tests/unit/',\n",
        "                                              'https://raw.githubusercontent.com/tukiains/cloudnetpy/26f2607b890630146469cfa410fce99438ceee3f/tests/unit/')"
      ]
    },
    {
      "cell_type": "code",
      "execution_count": null,
      "metadata": {
        "id": "rB-f5uQ9QtIP"
      },
      "outputs": [],
      "source": [
        "project_4_methods += multiple_added_methods\n",
        "refined_selected_methods[project_4] = project_4_methods"
      ]
    },
    {
      "cell_type": "markdown",
      "metadata": {
        "id": "VRonVfHTMaY-"
      },
      "source": [
        "### 5. crom"
      ]
    },
    {
      "cell_type": "code",
      "execution_count": null,
      "metadata": {
        "id": "1sgNw6gFMZtR"
      },
      "outputs": [],
      "source": [
        "test_files = [\n",
        "    \"test_add_classification.py\",\n",
        "    \"test_context.json\",\n",
        "    \"test_currency.py\",\n",
        "    \"test_dimensions.py\",\n",
        "    \"test_model.py\",\n",
        "    \"test_multiple_instantiation.py\",\n",
        "    \"test_reader.py\",\n",
        "    \"test_vocab.py\",\n",
        "]"
      ]
    },
    {
      "cell_type": "code",
      "execution_count": null,
      "metadata": {
        "id": "vlMVlKMQMu0E"
      },
      "outputs": [],
      "source": [
        "project_5 = 'crom'\n",
        "project_5_methods = deepcopy(selected_methods[project_5])"
      ]
    },
    {
      "cell_type": "code",
      "execution_count": null,
      "metadata": {
        "id": "JK02dF30Q0fd"
      },
      "outputs": [],
      "source": [
        "multiple_added_methods = add_multiple_methods(project_5, project_5_methods, test_files,\n",
        "                                              'https://github.com/thegetty/crom/blob/98bb6be4e32b4c81eb7e0b5e841a915b015abaf0/tests/',\n",
        "                                              'https://raw.githubusercontent.com/thegetty/crom/98bb6be4e32b4c81eb7e0b5e841a915b015abaf0/tests/')"
      ]
    },
    {
      "cell_type": "code",
      "execution_count": null,
      "metadata": {
        "id": "sPWtPN0cQ8wX"
      },
      "outputs": [],
      "source": [
        "project_5_methods += multiple_added_methods\n",
        "refined_selected_methods[project_5] = project_5_methods"
      ]
    },
    {
      "cell_type": "markdown",
      "metadata": {
        "id": "YP42ONelQ-2l"
      },
      "source": [
        "### 6. easypy"
      ]
    },
    {
      "cell_type": "code",
      "execution_count": null,
      "metadata": {
        "id": "bBQCkd74RCFL"
      },
      "outputs": [],
      "source": [
        "test_files = [\n",
        "    \"test_aliasing.py\",\n",
        "    \"test_bunch.py\",\n",
        "    \"test_caching.py\",\n",
        "    \"test_collections.py\",\n",
        "    \"test_colors.py\",\n",
        "    \"test_concurrency.py\",\n",
        "    \"test_contexts.py\",\n",
        "    \"test_decorations.py\",\n",
        "    \"test_deprecation.py\",\n",
        "    \"test_exceptions.py\",\n",
        "    \"test_humanize.py\",\n",
        "    \"test_lockstep.py\",\n",
        "    \"test_logging.py\",\n",
        "    \"test_meta.py\",\n",
        "    \"test_misc.py\",\n",
        "    \"test_randutils.py\",\n",
        "    \"test_rwlock.py\",\n",
        "    \"test_semver.py\",\n",
        "    \"test_signals.py\",\n",
        "    \"test_sync.py\",\n",
        "    \"test_timing.py\",\n",
        "    \"test_typed_struct.py\",\n",
        "    \"test_units.py\",\n",
        "    \"test_ziplog.py\",\n",
        "]"
      ]
    },
    {
      "cell_type": "code",
      "execution_count": null,
      "metadata": {
        "id": "RdQjx6-tRYnJ"
      },
      "outputs": [],
      "source": [
        "project_6 = 'easypy'\n",
        "project_6_methods = deepcopy(selected_methods[project_6])"
      ]
    },
    {
      "cell_type": "code",
      "execution_count": null,
      "metadata": {
        "id": "1rYqTem3RcU2"
      },
      "outputs": [],
      "source": [
        "multiple_added_methods = add_multiple_methods(project_6, project_6_methods, test_files,\n",
        "                                              'https://github.com/weka/easypy/blob/9501c3ee03dcb1630e58cbb73b1647056907bcea/tests/',\n",
        "                                              'https://raw.githubusercontent.com/weka/easypy/9501c3ee03dcb1630e58cbb73b1647056907bcea/tests/')"
      ]
    },
    {
      "cell_type": "code",
      "execution_count": null,
      "metadata": {
        "id": "woT2x_1VRnT-"
      },
      "outputs": [],
      "source": [
        "project_6_methods += multiple_added_methods\n",
        "refined_selected_methods[project_6] = project_6_methods"
      ]
    },
    {
      "cell_type": "markdown",
      "metadata": {
        "id": "T2Guw9GvRwOh"
      },
      "source": [
        "### 7. eppy"
      ]
    },
    {
      "cell_type": "code",
      "execution_count": null,
      "metadata": {
        "id": "3AxRFx98R_4e"
      },
      "outputs": [],
      "source": [
        "test_files = [\n",
        "    \"test_IDF.py\",\n",
        "    \"test_bunch_subclass.py\",\n",
        "    \"test_bunchhelpers.py\",\n",
        "    \"test_case_insensitive.py\",\n",
        "    \"test_easyopen.py\",\n",
        "    \"test_eppy.py\",\n",
        "    \"test_examples.py\",\n",
        "    \"test_fanpower.py\",\n",
        "    \"test_function_helpers.py\",\n",
        "    \"test_hvacbuilder.py\",\n",
        "    \"test_idd_helpers.py\",\n",
        "    \"test_iddgaps.py\",\n",
        "    \"test_idf_helpers.py\",\n",
        "    \"test_idfreader.py\",\n",
        "    \"test_json_functions.py\",\n",
        "    \"test_loopdiagram.py\",\n",
        "    \"test_modeleditor.py\",\n",
        "    \"test_modeleditor1.py\",\n",
        "    \"test_parse_error.py\",\n",
        "    \"test_readhtml.py\",\n",
        "    \"test_reproduce_bugs.py\",\n",
        "    \"test_runner.py\",\n",
        "    \"test_simpleread.py\",\n",
        "    \"test_thermal_properties.py\",\n",
        "    \"test_walk_hvac.py\",\n",
        "]"
      ]
    },
    {
      "cell_type": "code",
      "execution_count": null,
      "metadata": {
        "id": "pGw_y5BXR0Tk"
      },
      "outputs": [],
      "source": [
        "project_7 = 'eppy'\n",
        "project_7_methods = deepcopy(selected_methods[project_7])"
      ]
    },
    {
      "cell_type": "code",
      "execution_count": null,
      "metadata": {
        "id": "cXLzmBFESqWZ"
      },
      "outputs": [],
      "source": [
        "multiple_added_methods = add_multiple_methods(project_7, project_7_methods, test_files,\n",
        "                                              'https://github.com/santoshphilip/eppy/blob/98e58583dce6c0fcec9c7b1ff1142bae0a67ddc7/eppy/tests/',\n",
        "                                              'https://raw.githubusercontent.com/santoshphilip/eppy/98e58583dce6c0fcec9c7b1ff1142bae0a67ddc7/eppy/tests/')"
      ]
    },
    {
      "cell_type": "code",
      "execution_count": null,
      "metadata": {
        "id": "IojOy--tSzUF"
      },
      "outputs": [],
      "source": [
        "project_7_methods += multiple_added_methods\n",
        "refined_selected_methods[project_7] = project_7_methods"
      ]
    },
    {
      "cell_type": "markdown",
      "metadata": {
        "id": "nWAy8l7lS72Y"
      },
      "source": [
        "### 8. pykicad"
      ]
    },
    {
      "cell_type": "code",
      "execution_count": null,
      "metadata": {
        "id": "ZHsVpQpkS7pA"
      },
      "outputs": [],
      "source": [
        "test_files = [\n",
        "    \"test_module.py\",\n",
        "    \"test_pcb.py\",\n",
        "    \"test_sexpr.py\",\n",
        "]"
      ]
    },
    {
      "cell_type": "code",
      "execution_count": null,
      "metadata": {
        "id": "5ruzvqkfTLVy"
      },
      "outputs": [],
      "source": [
        "project_8 = 'pykicad'\n",
        "project_8_methods = deepcopy(selected_methods[project_8])"
      ]
    },
    {
      "cell_type": "code",
      "execution_count": null,
      "metadata": {
        "id": "P2m50cxMTNQE"
      },
      "outputs": [],
      "source": [
        "multiple_added_methods = add_multiple_methods(project_8, project_8_methods, test_files,\n",
        "                                              'https://github.com/dvc94ch/pykicad/blob/cdebcaeb4ab6c8903ebecfd0748f826ea406923f/tests/',\n",
        "                                              'https://raw.githubusercontent.com/dvc94ch/pykicad/cdebcaeb4ab6c8903ebecfd0748f826ea406923f/tests/')"
      ]
    },
    {
      "cell_type": "code",
      "execution_count": null,
      "metadata": {
        "id": "Mac5Frg3TWHY"
      },
      "outputs": [],
      "source": [
        "project_8_methods += multiple_added_methods\n",
        "refined_selected_methods[project_8] = project_8_methods"
      ]
    },
    {
      "cell_type": "markdown",
      "metadata": {
        "id": "ujk5GtvhT0Lr"
      },
      "source": [
        "### 9. reframe"
      ]
    },
    {
      "cell_type": "code",
      "execution_count": null,
      "metadata": {
        "id": "w9CkIOV3T3n1"
      },
      "outputs": [],
      "source": [
        "test_files = [\n",
        "    \"test_argparser.py\",\n",
        "    \"test_buildsystems.py\",\n",
        "    \"test_check_filters.py\",\n",
        "    \"test_cli.py\",\n",
        "    \"test_color.py\",\n",
        "    \"test_config.py\",\n",
        "    \"test_containers.py\",\n",
        "    \"test_deferrable.py\",\n",
        "    \"test_dependencies.py\",\n",
        "    \"test_environments.py\",\n",
        "    \"test_exceptions.py\",\n",
        "    \"test_fields.py\",\n",
        "    \"test_launchers.py\",\n",
        "    \"test_loader.py\",\n",
        "    \"test_logging.py\",\n",
        "    \"test_modules.py\",\n",
        "    \"test_pipeline.py\",\n",
        "    \"test_policies.py\",\n",
        "    \"test_sanity_functions.py\",\n",
        "    \"test_schedulers.py\",\n",
        "    \"test_shell.py\",\n",
        "    \"test_typecheck.py\",\n",
        "    \"test_utility.py\",\n",
        "    \"test_versioning.py\",\n",
        "]"
      ]
    },
    {
      "cell_type": "code",
      "execution_count": null,
      "metadata": {
        "id": "M4ZPk2cWUE9I"
      },
      "outputs": [],
      "source": [
        "project_9 = 'reframe'\n",
        "project_9_methods = deepcopy(selected_methods[project_9])\n",
        "multiple_added_methods = add_multiple_methods(project_9, project_9_methods, test_files,\n",
        "                                              'https://github.com/reframe-hpc/reframe/blob/576eb3f1dcc015d1e6d7a10602c748d4f810da68/unittests/',\n",
        "                                              'https://raw.githubusercontent.com/reframe-hpc/reframe/576eb3f1dcc015d1e6d7a10602c748d4f810da68/unittests/')"
      ]
    },
    {
      "cell_type": "code",
      "execution_count": null,
      "metadata": {
        "id": "HSlEl8CCUQag"
      },
      "outputs": [],
      "source": [
        "project_9_methods += multiple_added_methods\n",
        "refined_selected_methods[project_9] = project_9_methods"
      ]
    },
    {
      "cell_type": "markdown",
      "metadata": {
        "id": "IhcVAEVrUSo2"
      },
      "source": [
        "### 10. webssh"
      ]
    },
    {
      "cell_type": "code",
      "execution_count": null,
      "metadata": {
        "id": "z48c9dFkUWrC"
      },
      "outputs": [],
      "source": [
        "test_files = [\n",
        "    \"test_app.py\",\n",
        "    \"test_handler.py\",\n",
        "    \"test_main.py\",\n",
        "    \"test_policy.py\",\n",
        "    \"test_settings.py\",\n",
        "    \"test_utils.py\",\n",
        "]"
      ]
    },
    {
      "cell_type": "code",
      "execution_count": null,
      "metadata": {
        "id": "PwJaI1J_Uo-J"
      },
      "outputs": [],
      "source": [
        "project_10 = 'webssh'\n",
        "project_10_methods = deepcopy(selected_methods[project_10])\n",
        "multiple_added_methods = add_multiple_methods(project_10, project_10_methods, test_files,\n",
        "                                              'https://github.com/huashengdun/webssh/blob/51d527fe75a62aed239126a6697749a30baecb30/tests/',\n",
        "                                              'https://raw.githubusercontent.com/huashengdun/webssh/51d527fe75a62aed239126a6697749a30baecb30/tests/')"
      ]
    },
    {
      "cell_type": "code",
      "execution_count": null,
      "metadata": {
        "id": "46Pwqi8ZUpvE"
      },
      "outputs": [],
      "source": [
        "project_10_methods += multiple_added_methods\n",
        "refined_selected_methods[project_10] = project_10_methods"
      ]
    },
    {
      "cell_type": "markdown",
      "metadata": {
        "id": "TdV4IVzzUxnQ"
      },
      "source": [
        "## Store Refined Selected Methods"
      ]
    },
    {
      "cell_type": "code",
      "execution_count": null,
      "metadata": {
        "id": "hKXs1RjuU3gW"
      },
      "outputs": [],
      "source": [
        "filename = \"refined_selected_methods.csv\"\n",
        "header_written = False\n",
        "with open(filename, mode=\"w\", newline=\"\") as file:\n",
        "  for project in refined_selected_methods:\n",
        "    writer = csv.DictWriter(file, fieldnames=refined_selected_methods[project][0].keys())\n",
        "    if not header_written:\n",
        "      writer.writeheader()\n",
        "      header_written = True\n",
        "    writer.writerows(refined_selected_methods[project])"
      ]
    },
    {
      "cell_type": "code",
      "execution_count": null,
      "metadata": {
        "id": "uUa2qfOiVDdw"
      },
      "outputs": [],
      "source": [
        "# Only use this code block if you are using Google Colab.\n",
        "# If you are using Jupyter Notebook, please ignore this code block. You can directly upload the file to your Jupyter Notebook file systems.\n",
        "\n",
        "if not os.path.exists('refined_selected_methods.csv'):\n",
        "  ## It will prompt you to select a local file. Click on “Choose Files” then select and upload the file.\n",
        "  ## Wait for the file to be 100% uploaded. You should see the name of the file once Colab has uploaded it.\n",
        "  uploaded = files.upload()\n",
        "  refined_selected_methods = dict()\n",
        "  with open('selected_methods.csv', 'r') as f:\n",
        "    reader = csv.DictReader(f)\n",
        "    for row in reader:\n",
        "      project_name = row['Project_Name']\n",
        "      refined_selected_methods[project_name] = refined_selected_methods.get(project_name, []) + [row]"
      ]
    },
    {
      "cell_type": "markdown",
      "metadata": {
        "id": "TjcFbTnAVRFm"
      },
      "source": [
        "## Statistics"
      ]
    },
    {
      "cell_type": "code",
      "execution_count": null,
      "metadata": {
        "id": "AUYFBhTTjUsz"
      },
      "outputs": [],
      "source": [
        "example = None\n",
        "for project in refined_selected_methods:\n",
        "  example = refined_selected_methods[project][0]\n",
        "  break"
      ]
    },
    {
      "cell_type": "code",
      "execution_count": null,
      "metadata": {
        "id": "ceWV8ivvtXMO",
        "colab": {
          "base_uri": "https://localhost:8080/"
        },
        "outputId": "adfe1fd9-19d5-4471-e2c8-3c0e2ebe951a"
      },
      "outputs": [
        {
          "output_type": "execute_result",
          "data": {
            "text/plain": [
              "{'Row': 14,\n",
              " 'Project_Name': 'Butter.MAS.PythonAPI',\n",
              " 'URL': 'https://github.com/bennymeg/Butter.MAS.PythonAPI/blob/f86ebe75df3826f62a268645cdbe4400b43fab07/butter/mas/tests/clients/client_http_test.py',\n",
              " 'New URL': 'https://raw.githubusercontent.com/bennymeg/Butter.MAS.PythonAPI/f86ebe75df3826f62a268645cdbe4400b43fab07/butter/mas/tests/clients/client_test.py',\n",
              " 'Class': 'TestHttpClientApiMethods',\n",
              " 'Test': 'testGetAvailableAnimations',\n",
              " 'Content': \"def testGetAvailableAnimations(self):\\n        self.client = HttpClient('localhost')\\n        self.assertIsNotNone(self.client.getAvailableAnimations())\\n\\n    \",\n",
              " 'Detected': True}"
            ]
          },
          "metadata": {},
          "execution_count": 64
        }
      ],
      "source": [
        "example"
      ]
    },
    {
      "cell_type": "code",
      "execution_count": null,
      "metadata": {
        "id": "p2K8VMvdX1tk",
        "colab": {
          "base_uri": "https://localhost:8080/"
        },
        "outputId": "a0f23cb9-d410-4c87-cdc7-af0c73faf6c5"
      },
      "outputs": [
        {
          "output_type": "stream",
          "name": "stdout",
          "text": [
            "Statistics Before Refinement\n",
            "Butter.MAS.PythonAPI: True size: 53, False size: 0\n",
            "flask-multi-redis: True size: 26, False size: 0\n",
            "centreon-sdk-python: True size: 41, False size: 0\n",
            "cloudnetpy: True size: 51, False size: 0\n",
            "crom: True size: 38, False size: 0\n",
            "easypy: True size: 44, False size: 0\n",
            "eppy: True size: 84, False size: 0\n",
            "pykicad: True size: 28, False size: 0\n",
            "reframe: True size: 136, False size: 53\n",
            "webssh: True size: 29, False size: 0\n",
            "Total True size: 530, Total False size: 53, Total: 583\n"
          ]
        }
      ],
      "source": [
        "total_true_size = 0\n",
        "total_false_size = 0\n",
        "\n",
        "print('Statistics Before Refinement')\n",
        "\n",
        "for project in selected_methods:\n",
        "  true_size = 0\n",
        "  false_size = 0\n",
        "  for test_method in selected_methods[project]:\n",
        "    if test_method['Detected'] == True or test_method['Detected'] == 'True':\n",
        "      true_size += 1\n",
        "    else:\n",
        "      false_size += 1\n",
        "  total_true_size += true_size\n",
        "  total_false_size += false_size\n",
        "  print(f\"{project}: True size: {true_size}, False size: {false_size}\")\n",
        "\n",
        "print(f\"Total True size: {total_true_size}, Total False size: {total_false_size}, Total: {total_true_size + total_false_size}\")"
      ]
    },
    {
      "cell_type": "code",
      "execution_count": null,
      "metadata": {
        "id": "QUwsAl5aszXf",
        "colab": {
          "base_uri": "https://localhost:8080/"
        },
        "outputId": "e5a4c7cc-fc22-4e0e-d67a-dca0c408d001"
      },
      "outputs": [
        {
          "output_type": "stream",
          "name": "stdout",
          "text": [
            "Statistics After Refinement\n",
            "Butter.MAS.PythonAPI: True size: 53, False size: 11\n",
            "flask-multi-redis: True size: 26, False size: 7\n",
            "centreon-sdk-python: True size: 41, False size: 1\n",
            "cloudnetpy: True size: 51, False size: 246\n",
            "crom: True size: 38, False size: 46\n",
            "easypy: True size: 44, False size: 130\n",
            "eppy: True size: 84, False size: 110\n",
            "pykicad: True size: 28, False size: 20\n",
            "reframe: True size: 136, False size: 465\n",
            "webssh: True size: 29, False size: 60\n",
            "Total True size: 530, Total False size: 1096, Total: 1626\n"
          ]
        }
      ],
      "source": [
        "total_true_size = 0\n",
        "total_false_size = 0\n",
        "\n",
        "print('Statistics After Refinement')\n",
        "\n",
        "for project in refined_selected_methods:\n",
        "  true_size = 0\n",
        "  false_size = 0\n",
        "  for test_method in refined_selected_methods[project]:\n",
        "    if test_method['Detected'] == True or test_method['Detected'] == 'True':\n",
        "      true_size += 1\n",
        "    else:\n",
        "      false_size += 1\n",
        "  total_true_size += true_size\n",
        "  total_false_size += false_size\n",
        "  print(f\"{project}: True size: {true_size}, False size: {false_size}\")\n",
        "\n",
        "print(f\"Total True size: {total_true_size}, Total False size: {total_false_size}, Total: {total_true_size + total_false_size}\")"
      ]
    },
    {
      "cell_type": "markdown",
      "metadata": {
        "id": "lcR8zP72VVop"
      },
      "source": [
        "## Create Training/Test Sets"
      ]
    },
    {
      "cell_type": "code",
      "execution_count": null,
      "metadata": {
        "id": "FMqHnD3Bl_t7"
      },
      "outputs": [],
      "source": [
        "os.makedirs(\"data\")\n",
        "for project in refined_selected_methods:\n",
        "  os.makedirs(f\"data/{project}\")"
      ]
    },
    {
      "cell_type": "code",
      "execution_count": null,
      "metadata": {
        "id": "9DmNqpTtmZtY",
        "colab": {
          "base_uri": "https://localhost:8080/"
        },
        "outputId": "1d78a458-7f58-4f01-f825-620b8b28bac1"
      },
      "outputs": [
        {
          "output_type": "stream",
          "name": "stdout",
          "text": [
            "Test Project - Butter.MAS.PythonAPI: Training set size: 1562, Test set size: 64\n",
            "Training set true size: 477, Training set false size: 1085\n",
            "Balanced training set size: 2170\n",
            "Balanced training set true size: 1085, Balanced training set false size: 1085\n",
            "------------------------\n",
            "Test Project - flask-multi-redis: Training set size: 1593, Test set size: 33\n",
            "Training set true size: 504, Training set false size: 1089\n",
            "Balanced training set size: 2178\n",
            "Balanced training set true size: 1089, Balanced training set false size: 1089\n",
            "------------------------\n",
            "Test Project - centreon-sdk-python: Training set size: 1584, Test set size: 42\n",
            "Training set true size: 489, Training set false size: 1095\n",
            "Balanced training set size: 2190\n",
            "Balanced training set true size: 1095, Balanced training set false size: 1095\n",
            "------------------------\n",
            "Test Project - cloudnetpy: Training set size: 1329, Test set size: 297\n",
            "Training set true size: 479, Training set false size: 850\n",
            "Balanced training set size: 1700\n",
            "Balanced training set true size: 850, Balanced training set false size: 850\n",
            "------------------------\n",
            "Test Project - crom: Training set size: 1542, Test set size: 84\n",
            "Training set true size: 492, Training set false size: 1050\n",
            "Balanced training set size: 2100\n",
            "Balanced training set true size: 1050, Balanced training set false size: 1050\n",
            "------------------------\n",
            "Test Project - easypy: Training set size: 1452, Test set size: 174\n",
            "Training set true size: 486, Training set false size: 966\n",
            "Balanced training set size: 1932\n",
            "Balanced training set true size: 966, Balanced training set false size: 966\n",
            "------------------------\n",
            "Test Project - eppy: Training set size: 1432, Test set size: 194\n",
            "Training set true size: 446, Training set false size: 986\n",
            "Balanced training set size: 1972\n",
            "Balanced training set true size: 986, Balanced training set false size: 986\n",
            "------------------------\n",
            "Test Project - pykicad: Training set size: 1578, Test set size: 48\n",
            "Training set true size: 502, Training set false size: 1076\n",
            "Balanced training set size: 2152\n",
            "Balanced training set true size: 1076, Balanced training set false size: 1076\n",
            "------------------------\n",
            "Test Project - reframe: Training set size: 1025, Test set size: 601\n",
            "Training set true size: 394, Training set false size: 631\n",
            "Balanced training set size: 1262\n",
            "Balanced training set true size: 631, Balanced training set false size: 631\n",
            "------------------------\n",
            "Test Project - webssh: Training set size: 1537, Test set size: 89\n",
            "Training set true size: 501, Training set false size: 1036\n",
            "Balanced training set size: 2072\n",
            "Balanced training set true size: 1036, Balanced training set false size: 1036\n",
            "------------------------\n"
          ]
        }
      ],
      "source": [
        "for test_project in refined_selected_methods:\n",
        "  training_set = []\n",
        "  test_set = []\n",
        "  for project in refined_selected_methods:\n",
        "    if project == test_project:\n",
        "      test_set = deepcopy(refined_selected_methods[project])\n",
        "    else:\n",
        "      training_set += deepcopy(refined_selected_methods[project])\n",
        "\n",
        "  random.shuffle(training_set)\n",
        "  random.shuffle(test_set)\n",
        "\n",
        "  training_set_true = []\n",
        "  training_set_false = []\n",
        "  for test_method in training_set:\n",
        "    if test_method['Detected'] == True or test_method['Detected'] == 'True':\n",
        "      training_set_true.append(test_method)\n",
        "    else:\n",
        "      training_set_false.append(test_method)\n",
        "\n",
        "  training_set_true_size = len(training_set_true)\n",
        "  training_set_false_size = len(training_set_false)\n",
        "\n",
        "  print(f\"Test Project - {test_project}: Training set size: {len(training_set)}, Test set size: {len(test_set)}\")\n",
        "  print(f\"Training set true size: {training_set_true_size}, Training set false size: {training_set_false_size}\")\n",
        "\n",
        "  balanced_training_set = []\n",
        "  if training_set_true_size > training_set_false_size:\n",
        "    training_set_false_new = deepcopy(training_set_false)\n",
        "    while training_set_true_size - len(training_set_false_new) > training_set_false_size:\n",
        "      training_set_false_new += deepcopy(training_set_false)\n",
        "    training_set_false_new += random.sample(deepcopy(training_set_false), training_set_true_size - len(training_set_false_new))\n",
        "    balanced_training_set = training_set_true + training_set_false_new\n",
        "    random.shuffle(balanced_training_set)\n",
        "    print(f\"Balanced training set size: {len(balanced_training_set)}\")\n",
        "    print(f\"Balanced training set true size: {len(training_set_true)}, Balanced training set false size: {len(training_set_false_new)}\")\n",
        "  elif training_set_true_size < training_set_false_size:\n",
        "    training_set_true_new = deepcopy(training_set_true)\n",
        "    while training_set_false_size - len(training_set_true_new) > training_set_true_size:\n",
        "      training_set_true_new += deepcopy(training_set_true)\n",
        "    training_set_true_new += random.sample(deepcopy(training_set_true), training_set_false_size - len(training_set_true_new))\n",
        "    balanced_training_set = training_set_true_new + training_set_false\n",
        "    random.shuffle(balanced_training_set)\n",
        "    print(f\"Balanced training set size: {len(balanced_training_set)}\")\n",
        "    print(f\"Balanced training set true size: {len(training_set_true_new)}, Balanced training set false size: {len(training_set_false)}\")\n",
        "  else:\n",
        "    balanced_training_set = training_set\n",
        "\n",
        "  random.shuffle(balanced_training_set)\n",
        "\n",
        "  training_messages_list = []\n",
        "  for test_method in balanced_training_set:\n",
        "    messages = [\n",
        "        {\"role\": \"system\", \"content\": \"You need to identify flaky tests.\"},\n",
        "        {\"role\": \"user\", \"content\": f\"Is this a flaky test? Only answer True or False.\\n{test_method['Content']}\"},\n",
        "        {\"role\": \"assistant\", \"content\": str(test_method['Detected'])}\n",
        "    ]\n",
        "    training_messages_list.append({\"messages\": messages})\n",
        "\n",
        "  with open(f\"data/{test_project}/training_set.jsonl\", 'w') as jsonl_file:\n",
        "    for entry in training_messages_list:\n",
        "      jsonl_file.write(json.dumps(entry) + \"\\n\")\n",
        "\n",
        "  test_messages_list = []\n",
        "  for test_method in test_set:\n",
        "    messages = [\n",
        "        {\"role\": \"system\", \"content\": \"You need to identify flaky tests.\"},\n",
        "        {\"role\": \"user\", \"content\": f\"Is this a flaky test? Only answer True or False.\\n{test_method['Content']}\"},\n",
        "        {\"role\": \"assistant\", \"content\": str(test_method['Detected'])}\n",
        "    ]\n",
        "    test_messages_list.append({\"messages\": messages})\n",
        "\n",
        "  with open(f\"data/{test_project}/test_set.jsonl\", 'w') as jsonl_file:\n",
        "    for entry in test_messages_list:\n",
        "      jsonl_file.write(json.dumps(entry) + \"\\n\")\n",
        "\n",
        "  print(\"------------------------\")"
      ]
    },
    {
      "cell_type": "code",
      "execution_count": null,
      "metadata": {
        "id": "7vbMPjDjt13O",
        "colab": {
          "base_uri": "https://localhost:8080/"
        },
        "outputId": "88ff6423-7f68-448a-93cc-41bf4b54b978"
      },
      "outputs": [
        {
          "output_type": "stream",
          "name": "stdout",
          "text": [
            "  adding: content/data/ (stored 0%)\n",
            "  adding: content/data/pykicad/ (stored 0%)\n",
            "  adding: content/data/pykicad/test_set.jsonl (deflated 89%)\n",
            "  adding: content/data/pykicad/training_set.jsonl (deflated 83%)\n",
            "  adding: content/data/centreon-sdk-python/ (stored 0%)\n",
            "  adding: content/data/centreon-sdk-python/test_set.jsonl (deflated 93%)\n",
            "  adding: content/data/centreon-sdk-python/training_set.jsonl (deflated 83%)\n",
            "  adding: content/data/eppy/ (stored 0%)\n",
            "  adding: content/data/eppy/test_set.jsonl (deflated 85%)\n",
            "  adding: content/data/eppy/training_set.jsonl (deflated 85%)\n",
            "  adding: content/data/reframe/ (stored 0%)\n",
            "  adding: content/data/reframe/test_set.jsonl (deflated 85%)\n",
            "  adding: content/data/reframe/training_set.jsonl (deflated 84%)\n",
            "  adding: content/data/cloudnetpy/ (stored 0%)\n",
            "  adding: content/data/cloudnetpy/test_set.jsonl (deflated 88%)\n",
            "  adding: content/data/cloudnetpy/training_set.jsonl (deflated 83%)\n",
            "  adding: content/data/flask-multi-redis/ (stored 0%)\n",
            "  adding: content/data/flask-multi-redis/test_set.jsonl (deflated 86%)\n",
            "  adding: content/data/flask-multi-redis/training_set.jsonl (deflated 84%)\n",
            "  adding: content/data/crom/ (stored 0%)\n",
            "  adding: content/data/crom/test_set.jsonl (deflated 84%)\n",
            "  adding: content/data/crom/training_set.jsonl (deflated 84%)\n",
            "  adding: content/data/Butter.MAS.PythonAPI/ (stored 0%)\n",
            "  adding: content/data/Butter.MAS.PythonAPI/test_set.jsonl (deflated 95%)\n",
            "  adding: content/data/Butter.MAS.PythonAPI/training_set.jsonl (deflated 83%)\n",
            "  adding: content/data/webssh/ (stored 0%)\n",
            "  adding: content/data/webssh/test_set.jsonl (deflated 90%)\n",
            "  adding: content/data/webssh/training_set.jsonl (deflated 83%)\n",
            "  adding: content/data/easypy/ (stored 0%)\n",
            "  adding: content/data/easypy/test_set.jsonl (deflated 87%)\n",
            "  adding: content/data/easypy/training_set.jsonl (deflated 83%)\n"
          ]
        }
      ],
      "source": [
        "!zip -r /content/data.zip /content/data"
      ]
    }
  ],
  "metadata": {
    "accelerator": "GPU",
    "colab": {
      "collapsed_sections": [
        "caRHs9lgqJGC",
        "Sd9c7_eXqYBV"
      ],
      "gpuType": "A100",
      "machine_shape": "hm",
      "provenance": [],
      "include_colab_link": true
    },
    "kernelspec": {
      "display_name": "Python 3",
      "name": "python3"
    },
    "language_info": {
      "name": "python"
    }
  },
  "nbformat": 4,
  "nbformat_minor": 0
}