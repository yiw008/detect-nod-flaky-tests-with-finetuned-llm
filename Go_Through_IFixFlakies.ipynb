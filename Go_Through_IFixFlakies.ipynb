{
  "nbformat": 4,
  "nbformat_minor": 0,
  "metadata": {
    "colab": {
      "provenance": [],
      "machine_shape": "hm",
      "gpuType": "A100",
      "include_colab_link": true
    },
    "kernelspec": {
      "name": "python3",
      "display_name": "Python 3"
    },
    "language_info": {
      "name": "python"
    },
    "accelerator": "GPU"
  },
  "cells": [
    {
      "cell_type": "markdown",
      "metadata": {
        "id": "view-in-github",
        "colab_type": "text"
      },
      "source": [
        "<a href=\"https://colab.research.google.com/github/yiw008/nondet-project/blob/main/Go_Through_IFixFlakies.ipynb\" target=\"_parent\"><img src=\"https://colab.research.google.com/assets/colab-badge.svg\" alt=\"Open In Colab\"/></a>"
      ]
    },
    {
      "cell_type": "code",
      "source": [
        "import pandas as pd\n",
        "import os\n",
        "import requests\n",
        "import csv\n",
        "import random\n",
        "from copy import deepcopy\n",
        "import json"
      ],
      "metadata": {
        "id": "br6HjLhjXTBh"
      },
      "execution_count": null,
      "outputs": []
    },
    {
      "cell_type": "code",
      "source": [
        "# URL of the CSV file: iPFlakies\n",
        "url = \"https://zenodo.org/records/6176417/files/Test_Status.csv\""
      ],
      "metadata": {
        "id": "tHKJYrdSXcjv"
      },
      "execution_count": null,
      "outputs": []
    },
    {
      "cell_type": "code",
      "source": [
        "# Read the CSV file from the URL\n",
        "data = pd.read_csv(url)"
      ],
      "metadata": {
        "id": "HIw2gt8GXl70"
      },
      "execution_count": null,
      "outputs": []
    },
    {
      "cell_type": "code",
      "source": [
        "# Display the first few rows of the data\n",
        "print(data.head())"
      ],
      "metadata": {
        "colab": {
          "base_uri": "https://localhost:8080/"
        },
        "id": "FNefrgh2XoVZ",
        "outputId": "f2c68c12-6162-4e18-fa94-dd3974f50840"
      },
      "execution_count": null,
      "outputs": [
        {
          "output_type": "stream",
          "name": "stdout",
          "text": [
            "  Project_Name                               Project_URL  \\\n",
            "0   BT-Tracker  https://github.com/nordwind80/BT-Tracker   \n",
            "1      Breathe         https://github.com/mrob95/Breathe   \n",
            "2      Breathe         https://github.com/mrob95/Breathe   \n",
            "3      Breathe         https://github.com/mrob95/Breathe   \n",
            "4      Breathe         https://github.com/mrob95/Breathe   \n",
            "\n",
            "                               Project_Hash  \\\n",
            "0  558c15b399871c1ca11d0c4ae1eb598e3060931e   \n",
            "1  4600818e24f4156cd7bb8cc0f43886b27323968e   \n",
            "2  4600818e24f4156cd7bb8cc0f43886b27323968e   \n",
            "3  4600818e24f4156cd7bb8cc0f43886b27323968e   \n",
            "4  4600818e24f4156cd7bb8cc0f43886b27323968e   \n",
            "\n",
            "                                             Test_id  Detected  Have_Patch  \\\n",
            "0  Tracker/tests/test_event.py::TestEvent::test_o...      True        True   \n",
            "1  tests/test_command_context.py::test_manual_con...      True       False   \n",
            "2                tests/test_loading.py::test_loading      True        True   \n",
            "3        tests/test_loading.py::test_loading_failure      True        True   \n",
            "4              tests/test_loading.py::test_reloading      True        True   \n",
            "\n",
            "   OD_Type  Polluter_or_Setter Cleaner  \n",
            "0  brittle                True     NaN  \n",
            "1  brittle                True     NaN  \n",
            "2  brittle                True     NaN  \n",
            "3   victim                True    True  \n",
            "4  brittle                True     NaN  \n"
          ]
        }
      ]
    },
    {
      "cell_type": "code",
      "source": [
        "def match_class(content, class_name):\n",
        "  start_index = content.find(f\"class {class_name}\")\n",
        "  if start_index == -1:\n",
        "    return None\n",
        "  return content[start_index:]"
      ],
      "metadata": {
        "id": "d1CjBbmkdwG2"
      },
      "execution_count": null,
      "outputs": []
    },
    {
      "cell_type": "code",
      "source": [
        "def match_method(content, test_name):\n",
        "  start_index = content.find(f\"def {test_name}\")\n",
        "  if start_index == -1:\n",
        "    return None\n",
        "\n",
        "  end_index = -1\n",
        "  next_def_index = content.find(\"def \", start_index + len(test_name))\n",
        "  main_block_index = content.find(\"if __name__ == '__main__':\", start_index)\n",
        "\n",
        "  if next_def_index != -1:\n",
        "    end_index = next_def_index\n",
        "  elif main_block_index != -1:\n",
        "    end_index = main_block_index\n",
        "  else:\n",
        "    end_index = len(content)\n",
        "\n",
        "  return content[start_index:end_index]"
      ],
      "metadata": {
        "id": "t9j0PH9-eAcR"
      },
      "execution_count": null,
      "outputs": []
    },
    {
      "cell_type": "code",
      "source": [
        "def remove_square_brackets(test_name):\n",
        "  start_index = test_name.find('[')\n",
        "  end_index = test_name.find(']')\n",
        "\n",
        "  if start_index != -1 and end_index != -1:\n",
        "    new_test_name = test_name[:start_index]\n",
        "    return new_test_name\n",
        "  else:\n",
        "    return test_name"
      ],
      "metadata": {
        "id": "B7ECrfO1oYYN"
      },
      "execution_count": null,
      "outputs": []
    },
    {
      "cell_type": "code",
      "source": [
        "def read_python_file(url):\n",
        "  try:\n",
        "    response = requests.get(url)\n",
        "    response.raise_for_status()  # Check for HTTP errors\n",
        "    # The content of the file is in response.text\n",
        "    python_code = response.text\n",
        "    return python_code\n",
        "  except requests.exceptions.RequestException as e:\n",
        "    print(f\"Error fetching the file: {e}\")\n",
        "    return None"
      ],
      "metadata": {
        "id": "VHFoylAnr5MO"
      },
      "execution_count": null,
      "outputs": []
    },
    {
      "cell_type": "code",
      "source": [
        "def special_cases(project_name, repo_url, commit_hash, test_file_path, class_name, test_name):\n",
        "  if project_name == 'Butter.MAS.PythonAPI' and commit_hash == 'f86ebe75df3826f62a268645cdbe4400b43fab07' and test_file_path.startswith('butter/mas/tests/clients/'):\n",
        "    test_file_path = 'butter/mas/tests/clients/client_test.py'\n",
        "    class_name = ''\n",
        "\n",
        "  if project_name == 'SNData' and commit_hash == 'e4854f0dc357484b437b15f9dac15f7c589eff58' and (class_name == 'Sako18Parsing' or class_name == 'DR1Parsing'):\n",
        "    test_file_path = 'tests/data_parsing_template_tests.py'\n",
        "    class_name = ''\n",
        "    if test_name == 'test_standard_column_names':\n",
        "      class_name = 'PhotometricDataParsing'\n",
        "\n",
        "  if project_name == 'bootstrap_env' and commit_hash == 'ab68025d8f6b9a17d8feeed83e8aae26e3f28769' and test_file_path.startswith('bootstrap_env/tests/'):\n",
        "    test_file_path = 'bootstrap_env/tests/base.py'\n",
        "\n",
        "  if repo_url.endswith('.git'):\n",
        "    repo_url = repo_url[:-4]\n",
        "\n",
        "  if project_name == 'data-pypes' and test_name == 'pypes.logsetup.get_logconfig':\n",
        "    test_name = 'get_logconfig'\n",
        "\n",
        "  if project_name == 'elife-tools':\n",
        "    end_index = test_name.find('_1_elife_02833_v2_xml')\n",
        "    test_name = test_name[:end_index]\n",
        "\n",
        "  if project_name == 'noipy':\n",
        "    repo_url = 'https://github.com/pv8/noipy'\n",
        "\n",
        "  if project_name == 'pymq' and commit_hash == '101857bca2b705c328d3bda3b26797b51e8ffb70':\n",
        "    if class_name == 'SimplePubSubTest':\n",
        "      test_file_path = 'tests/base/pubsub.py'\n",
        "      class_name = 'AbstractPubSubTest'\n",
        "    if class_name == 'IpcQueueTest':\n",
        "      test_file_path = 'tests/base/queue.py'\n",
        "      class_name = 'AbstractQueueTest'\n",
        "    if class_name == 'IpcRpcTest' or class_name == 'SimpleRpcTest':\n",
        "      test_file_path = 'tests/base/rpc.py'\n",
        "      class_name = 'AbstractRpcTest'\n",
        "\n",
        "  if project_name == 'pyswarms' and commit_hash == '08756526f39699eef28e515cac2ead17cef55710' and class_name == 'TestLocalBestOptimizer' and test_name == 'test_obj_with_kwargs':\n",
        "    test_file_path = 'tests/optimizers/abc_test_optimizer.py'\n",
        "    class_name = 'ABCTestOptimizer'\n",
        "\n",
        "  if project_name == 'python-openflow' and commit_hash == 'a3387a7b28d529a3605aa1506a028e03394e4526' and class_name == 'TestFlowMod' and test_name == 'test_minimum_size':\n",
        "    test_file_path = 'tests/unit/test_struct.py'\n",
        "    class_name = 'TestStruct'\n",
        "\n",
        "  return project_name, repo_url, commit_hash, test_file_path, class_name, test_name"
      ],
      "metadata": {
        "id": "bppHB4Ss5O37"
      },
      "execution_count": null,
      "outputs": []
    },
    {
      "cell_type": "code",
      "source": [
        "all_test_methods = []\n",
        "print('The indices below corresponds to the row number in the csv file shown on https://sites.google.com/view/ipflakies.')\n",
        "\n",
        "for index, row in data.iterrows():\n",
        "  row_in_csv = index + 2\n",
        "  project_name = row['Project_Name']\n",
        "  repo_url = row['Project_URL']\n",
        "  commit_hash = row['Project_Hash']\n",
        "  if len(row['Test_id'].split('::')) > 2:\n",
        "    test_file_path = row['Test_id'].split('::')[0]\n",
        "    class_name = row['Test_id'].split('::')[1]\n",
        "    test_name = row['Test_id'].split('::')[2]\n",
        "  else:\n",
        "    test_file_path = row['Test_id'].split('::')[0]\n",
        "    class_name = ''\n",
        "    test_name = row['Test_id'].split('::')[1]\n",
        "  test_name = remove_square_brackets(test_name)\n",
        "  detected = row['Detected']\n",
        "\n",
        "  test_file_path_rec = test_file_path\n",
        "  class_name_rec = class_name\n",
        "  test_name_rec = test_name\n",
        "\n",
        "  project_name, repo_url, commit_hash, test_file_path, class_name, test_name = special_cases(project_name, repo_url, commit_hash, test_file_path, class_name, test_name)\n",
        "\n",
        "  new_url = repo_url.replace('github.com', 'raw.githubusercontent.com')\n",
        "  new_url += '/' + commit_hash + '/' + test_file_path\n",
        "\n",
        "  content = read_python_file(new_url)\n",
        "  if content is None:\n",
        "    print(f\"Row {row_in_csv}: {repo_url}/blob/{commit_hash}/{test_file_path}, Error fetching the file\\n\")\n",
        "    continue\n",
        "\n",
        "  # Class content\n",
        "  if class_name != '':\n",
        "    content = match_class(content, class_name)\n",
        "    if content is None:\n",
        "      print(f\"Row {row_in_csv}: In {repo_url}/blob/{commit_hash}/{test_file_path}, Class '{class_name}' not found.\")\n",
        "      continue\n",
        "\n",
        "  # Test method content\n",
        "  content = match_method(content, test_name)\n",
        "  if content is None:\n",
        "    print(f\"Row {row_in_csv}: In {repo_url}/blob/{commit_hash}/{test_file_path}, Class '{class_name}' , Test function '{test_name}' not found.\")\n",
        "    continue\n",
        "\n",
        "  test_method = {}\n",
        "  test_method['Row'] = row_in_csv\n",
        "  test_method['URL'] = repo_url + '/blob/' + commit_hash + '/' + test_file_path_rec\n",
        "  test_method['Class'] = class_name_rec\n",
        "  test_method['Test'] = test_name_rec\n",
        "  test_method['Content'] = content\n",
        "  test_method['Detected'] = detected\n",
        "  all_test_methods.append(test_method)"
      ],
      "metadata": {
        "colab": {
          "base_uri": "https://localhost:8080/"
        },
        "id": "gi9YCcA7Xru4",
        "outputId": "05df8d71-464f-4c92-f788-85e5228b146a",
        "collapsed": true
      },
      "execution_count": null,
      "outputs": [
        {
          "output_type": "stream",
          "name": "stdout",
          "text": [
            "The indices below corresponds to the row number in the csv file shown on https://sites.google.com/view/ipflakies.\n",
            "Error fetching the file: 404 Client Error: Not Found for url: https://raw.githubusercontent.com/AshtonUPS/Py-MI-PS/2d22327c75bac1b58a4804a61e7a703ecc5ba978/src/PyMIPS/tests/register_test.py\n",
            "Row 135: https://github.com/AshtonUPS/Py-MI-PS/blob/2d22327c75bac1b58a4804a61e7a703ecc5ba978/src/PyMIPS/tests/register_test.py, Error fetching the file\n",
            "\n",
            "Error fetching the file: 404 Client Error: Not Found for url: https://raw.githubusercontent.com/cryptowatch/cw-sdk-python/92bd90db16dfc116c0708d19d27208d9bfc990c1/tests/test_api.py\n",
            "Row 516: https://github.com/cryptowatch/cw-sdk-python/blob/92bd90db16dfc116c0708d19d27208d9bfc990c1/tests/test_api.py, Error fetching the file\n",
            "\n",
            "Error fetching the file: 404 Client Error: Not Found for url: https://raw.githubusercontent.com/cryptowatch/cw-sdk-python/92bd90db16dfc116c0708d19d27208d9bfc990c1/tests/test_api.py\n",
            "Row 517: https://github.com/cryptowatch/cw-sdk-python/blob/92bd90db16dfc116c0708d19d27208d9bfc990c1/tests/test_api.py, Error fetching the file\n",
            "\n",
            "Error fetching the file: 404 Client Error: Not Found for url: https://raw.githubusercontent.com/cryptowatch/cw-sdk-python/92bd90db16dfc116c0708d19d27208d9bfc990c1/tests/test_api.py\n",
            "Row 518: https://github.com/cryptowatch/cw-sdk-python/blob/92bd90db16dfc116c0708d19d27208d9bfc990c1/tests/test_api.py, Error fetching the file\n",
            "\n",
            "Error fetching the file: 404 Client Error: Not Found for url: https://raw.githubusercontent.com/cryptowatch/cw-sdk-python/92bd90db16dfc116c0708d19d27208d9bfc990c1/tests/test_api.py\n",
            "Row 519: https://github.com/cryptowatch/cw-sdk-python/blob/92bd90db16dfc116c0708d19d27208d9bfc990c1/tests/test_api.py, Error fetching the file\n",
            "\n",
            "Error fetching the file: 404 Client Error: Not Found for url: https://raw.githubusercontent.com/ElementAI/greensim/f160e8b57d69f6ef469f2e991cc07b7721e08a91/tests/test_logging.py\n",
            "Row 884: https://github.com/ElementAI/greensim/blob/f160e8b57d69f6ef469f2e991cc07b7721e08a91/tests/test_logging.py, Error fetching the file\n",
            "\n",
            "Error fetching the file: 404 Client Error: Not Found for url: https://raw.githubusercontent.com/ElementAI/greensim/f160e8b57d69f6ef469f2e991cc07b7721e08a91/tests/test_logging.py\n",
            "Row 885: https://github.com/ElementAI/greensim/blob/f160e8b57d69f6ef469f2e991cc07b7721e08a91/tests/test_logging.py, Error fetching the file\n",
            "\n",
            "Error fetching the file: 404 Client Error: Not Found for url: https://raw.githubusercontent.com/ElementAI/greensim/f160e8b57d69f6ef469f2e991cc07b7721e08a91/tests/test_logging.py\n",
            "Row 886: https://github.com/ElementAI/greensim/blob/f160e8b57d69f6ef469f2e991cc07b7721e08a91/tests/test_logging.py, Error fetching the file\n",
            "\n",
            "Error fetching the file: 404 Client Error: Not Found for url: https://raw.githubusercontent.com/ElementAI/greensim/f160e8b57d69f6ef469f2e991cc07b7721e08a91/tests/test_logging.py\n",
            "Row 887: https://github.com/ElementAI/greensim/blob/f160e8b57d69f6ef469f2e991cc07b7721e08a91/tests/test_logging.py, Error fetching the file\n",
            "\n",
            "Error fetching the file: 404 Client Error: Not Found for url: https://raw.githubusercontent.com/ElementAI/greensim/f160e8b57d69f6ef469f2e991cc07b7721e08a91/tests/test_logging.py\n",
            "Row 888: https://github.com/ElementAI/greensim/blob/f160e8b57d69f6ef469f2e991cc07b7721e08a91/tests/test_logging.py, Error fetching the file\n",
            "\n",
            "Error fetching the file: 404 Client Error: Not Found for url: https://raw.githubusercontent.com/ElementAI/greensim/f160e8b57d69f6ef469f2e991cc07b7721e08a91/tests/test_sim.py\n",
            "Row 889: https://github.com/ElementAI/greensim/blob/f160e8b57d69f6ef469f2e991cc07b7721e08a91/tests/test_sim.py, Error fetching the file\n",
            "\n",
            "Error fetching the file: 404 Client Error: Not Found for url: https://raw.githubusercontent.com/jerodg/jgutils/6c8ed6aca37d509af8ce1b57635fad62f1c846b4/jgutils/tests/test_persistentdict.py\n",
            "Row 991: https://github.com/jerodg/jgutils/blob/6c8ed6aca37d509af8ce1b57635fad62f1c846b4/jgutils/tests/test_persistentdict.py, Error fetching the file\n",
            "\n",
            "Error fetching the file: 404 Client Error: Not Found for url: https://raw.githubusercontent.com/gmggroup/omf/bf0cfaa4d05c438606d7b4561166bf12d2c1be74/tests/test_base.py\n",
            "Row 1156: https://github.com/gmggroup/omf/blob/bf0cfaa4d05c438606d7b4561166bf12d2c1be74/tests/test_base.py, Error fetching the file\n",
            "\n",
            "Error fetching the file: 404 Client Error: Not Found for url: https://raw.githubusercontent.com/optiflows/tukio/116b35dbceae899d7996b1788449a6e31e3f4512/tests/test_task.py\n",
            "Row 1838: https://github.com/optiflows/tukio/blob/116b35dbceae899d7996b1788449a6e31e3f4512/tests/test_task.py, Error fetching the file\n",
            "\n",
            "Error fetching the file: 404 Client Error: Not Found for url: https://raw.githubusercontent.com/optiflows/tukio/116b35dbceae899d7996b1788449a6e31e3f4512/tests/test_task.py\n",
            "Row 1839: https://github.com/optiflows/tukio/blob/116b35dbceae899d7996b1788449a6e31e3f4512/tests/test_task.py, Error fetching the file\n",
            "\n",
            "Error fetching the file: 404 Client Error: Not Found for url: https://raw.githubusercontent.com/optiflows/tukio/116b35dbceae899d7996b1788449a6e31e3f4512/tests/test_task.py\n",
            "Row 1840: https://github.com/optiflows/tukio/blob/116b35dbceae899d7996b1788449a6e31e3f4512/tests/test_task.py, Error fetching the file\n",
            "\n",
            "Error fetching the file: 404 Client Error: Not Found for url: https://raw.githubusercontent.com/optiflows/tukio/116b35dbceae899d7996b1788449a6e31e3f4512/tests/test_task.py\n",
            "Row 1841: https://github.com/optiflows/tukio/blob/116b35dbceae899d7996b1788449a6e31e3f4512/tests/test_task.py, Error fetching the file\n",
            "\n",
            "Error fetching the file: 404 Client Error: Not Found for url: https://raw.githubusercontent.com/optiflows/tukio/116b35dbceae899d7996b1788449a6e31e3f4512/tests/test_task.py\n",
            "Row 1842: https://github.com/optiflows/tukio/blob/116b35dbceae899d7996b1788449a6e31e3f4512/tests/test_task.py, Error fetching the file\n",
            "\n",
            "Error fetching the file: 404 Client Error: Not Found for url: https://raw.githubusercontent.com/optiflows/tukio/116b35dbceae899d7996b1788449a6e31e3f4512/tests/test_task.py\n",
            "Row 1843: https://github.com/optiflows/tukio/blob/116b35dbceae899d7996b1788449a6e31e3f4512/tests/test_task.py, Error fetching the file\n",
            "\n",
            "Error fetching the file: 404 Client Error: Not Found for url: https://raw.githubusercontent.com/optiflows/tukio/116b35dbceae899d7996b1788449a6e31e3f4512/tests/test_task.py\n",
            "Row 1844: https://github.com/optiflows/tukio/blob/116b35dbceae899d7996b1788449a6e31e3f4512/tests/test_task.py, Error fetching the file\n",
            "\n",
            "Error fetching the file: 404 Client Error: Not Found for url: https://raw.githubusercontent.com/optiflows/tukio/116b35dbceae899d7996b1788449a6e31e3f4512/tests/test_task.py\n",
            "Row 1845: https://github.com/optiflows/tukio/blob/116b35dbceae899d7996b1788449a6e31e3f4512/tests/test_task.py, Error fetching the file\n",
            "\n",
            "Error fetching the file: 404 Client Error: Not Found for url: https://raw.githubusercontent.com/optiflows/tukio/116b35dbceae899d7996b1788449a6e31e3f4512/tests/test_task.py\n",
            "Row 1846: https://github.com/optiflows/tukio/blob/116b35dbceae899d7996b1788449a6e31e3f4512/tests/test_task.py, Error fetching the file\n",
            "\n",
            "Error fetching the file: 404 Client Error: Not Found for url: https://raw.githubusercontent.com/optiflows/tukio/116b35dbceae899d7996b1788449a6e31e3f4512/tests/test_task.py\n",
            "Row 1847: https://github.com/optiflows/tukio/blob/116b35dbceae899d7996b1788449a6e31e3f4512/tests/test_task.py, Error fetching the file\n",
            "\n",
            "Error fetching the file: 404 Client Error: Not Found for url: https://raw.githubusercontent.com/optiflows/tukio/116b35dbceae899d7996b1788449a6e31e3f4512/tests/test_task.py\n",
            "Row 1848: https://github.com/optiflows/tukio/blob/116b35dbceae899d7996b1788449a6e31e3f4512/tests/test_task.py, Error fetching the file\n",
            "\n",
            "Error fetching the file: 404 Client Error: Not Found for url: https://raw.githubusercontent.com/optiflows/tukio/116b35dbceae899d7996b1788449a6e31e3f4512/tests/test_task.py\n",
            "Row 1849: https://github.com/optiflows/tukio/blob/116b35dbceae899d7996b1788449a6e31e3f4512/tests/test_task.py, Error fetching the file\n",
            "\n",
            "Error fetching the file: 404 Client Error: Not Found for url: https://raw.githubusercontent.com/optiflows/tukio/116b35dbceae899d7996b1788449a6e31e3f4512/tests/test_task.py\n",
            "Row 1850: https://github.com/optiflows/tukio/blob/116b35dbceae899d7996b1788449a6e31e3f4512/tests/test_task.py, Error fetching the file\n",
            "\n",
            "Error fetching the file: 404 Client Error: Not Found for url: https://raw.githubusercontent.com/optiflows/tukio/116b35dbceae899d7996b1788449a6e31e3f4512/tests/test_task.py\n",
            "Row 1851: https://github.com/optiflows/tukio/blob/116b35dbceae899d7996b1788449a6e31e3f4512/tests/test_task.py, Error fetching the file\n",
            "\n",
            "Error fetching the file: 404 Client Error: Not Found for url: https://raw.githubusercontent.com/optiflows/tukio/116b35dbceae899d7996b1788449a6e31e3f4512/tests/test_task.py\n",
            "Row 1852: https://github.com/optiflows/tukio/blob/116b35dbceae899d7996b1788449a6e31e3f4512/tests/test_task.py, Error fetching the file\n",
            "\n",
            "Error fetching the file: 404 Client Error: Not Found for url: https://raw.githubusercontent.com/optiflows/tukio/116b35dbceae899d7996b1788449a6e31e3f4512/tests/test_task.py\n",
            "Row 1853: https://github.com/optiflows/tukio/blob/116b35dbceae899d7996b1788449a6e31e3f4512/tests/test_task.py, Error fetching the file\n",
            "\n",
            "Error fetching the file: 404 Client Error: Not Found for url: https://raw.githubusercontent.com/surycat/tukio/116b35dbceae899d7996b1788449a6e31e3f4512/tests/test_task.py\n",
            "Row 1854: https://github.com/surycat/tukio/blob/116b35dbceae899d7996b1788449a6e31e3f4512/tests/test_task.py, Error fetching the file\n",
            "\n",
            "Error fetching the file: 404 Client Error: Not Found for url: https://raw.githubusercontent.com/surycat/tukio/116b35dbceae899d7996b1788449a6e31e3f4512/tests/test_task.py\n",
            "Row 1855: https://github.com/surycat/tukio/blob/116b35dbceae899d7996b1788449a6e31e3f4512/tests/test_task.py, Error fetching the file\n",
            "\n",
            "Error fetching the file: 404 Client Error: Not Found for url: https://raw.githubusercontent.com/surycat/tukio/116b35dbceae899d7996b1788449a6e31e3f4512/tests/test_task.py\n",
            "Row 1856: https://github.com/surycat/tukio/blob/116b35dbceae899d7996b1788449a6e31e3f4512/tests/test_task.py, Error fetching the file\n",
            "\n",
            "Error fetching the file: 404 Client Error: Not Found for url: https://raw.githubusercontent.com/surycat/tukio/116b35dbceae899d7996b1788449a6e31e3f4512/tests/test_task.py\n",
            "Row 1857: https://github.com/surycat/tukio/blob/116b35dbceae899d7996b1788449a6e31e3f4512/tests/test_task.py, Error fetching the file\n",
            "\n",
            "Error fetching the file: 404 Client Error: Not Found for url: https://raw.githubusercontent.com/surycat/tukio/116b35dbceae899d7996b1788449a6e31e3f4512/tests/test_task.py\n",
            "Row 1858: https://github.com/surycat/tukio/blob/116b35dbceae899d7996b1788449a6e31e3f4512/tests/test_task.py, Error fetching the file\n",
            "\n",
            "Error fetching the file: 404 Client Error: Not Found for url: https://raw.githubusercontent.com/surycat/tukio/116b35dbceae899d7996b1788449a6e31e3f4512/tests/test_task.py\n",
            "Row 1859: https://github.com/surycat/tukio/blob/116b35dbceae899d7996b1788449a6e31e3f4512/tests/test_task.py, Error fetching the file\n",
            "\n",
            "Error fetching the file: 404 Client Error: Not Found for url: https://raw.githubusercontent.com/surycat/tukio/116b35dbceae899d7996b1788449a6e31e3f4512/tests/test_task.py\n",
            "Row 1860: https://github.com/surycat/tukio/blob/116b35dbceae899d7996b1788449a6e31e3f4512/tests/test_task.py, Error fetching the file\n",
            "\n",
            "Error fetching the file: 404 Client Error: Not Found for url: https://raw.githubusercontent.com/surycat/tukio/116b35dbceae899d7996b1788449a6e31e3f4512/tests/test_task.py\n",
            "Row 1861: https://github.com/surycat/tukio/blob/116b35dbceae899d7996b1788449a6e31e3f4512/tests/test_task.py, Error fetching the file\n",
            "\n",
            "Error fetching the file: 404 Client Error: Not Found for url: https://raw.githubusercontent.com/surycat/tukio/116b35dbceae899d7996b1788449a6e31e3f4512/tests/test_task.py\n",
            "Row 1862: https://github.com/surycat/tukio/blob/116b35dbceae899d7996b1788449a6e31e3f4512/tests/test_task.py, Error fetching the file\n",
            "\n",
            "Error fetching the file: 404 Client Error: Not Found for url: https://raw.githubusercontent.com/surycat/tukio/116b35dbceae899d7996b1788449a6e31e3f4512/tests/test_task.py\n",
            "Row 1863: https://github.com/surycat/tukio/blob/116b35dbceae899d7996b1788449a6e31e3f4512/tests/test_task.py, Error fetching the file\n",
            "\n",
            "Error fetching the file: 404 Client Error: Not Found for url: https://raw.githubusercontent.com/surycat/tukio/116b35dbceae899d7996b1788449a6e31e3f4512/tests/test_task.py\n",
            "Row 1864: https://github.com/surycat/tukio/blob/116b35dbceae899d7996b1788449a6e31e3f4512/tests/test_task.py, Error fetching the file\n",
            "\n",
            "Error fetching the file: 404 Client Error: Not Found for url: https://raw.githubusercontent.com/surycat/tukio/116b35dbceae899d7996b1788449a6e31e3f4512/tests/test_task.py\n",
            "Row 1865: https://github.com/surycat/tukio/blob/116b35dbceae899d7996b1788449a6e31e3f4512/tests/test_task.py, Error fetching the file\n",
            "\n",
            "Error fetching the file: 404 Client Error: Not Found for url: https://raw.githubusercontent.com/surycat/tukio/116b35dbceae899d7996b1788449a6e31e3f4512/tests/test_task.py\n",
            "Row 1866: https://github.com/surycat/tukio/blob/116b35dbceae899d7996b1788449a6e31e3f4512/tests/test_task.py, Error fetching the file\n",
            "\n",
            "Error fetching the file: 404 Client Error: Not Found for url: https://raw.githubusercontent.com/surycat/tukio/116b35dbceae899d7996b1788449a6e31e3f4512/tests/test_task.py\n",
            "Row 1867: https://github.com/surycat/tukio/blob/116b35dbceae899d7996b1788449a6e31e3f4512/tests/test_task.py, Error fetching the file\n",
            "\n",
            "Error fetching the file: 404 Client Error: Not Found for url: https://raw.githubusercontent.com/surycat/tukio/116b35dbceae899d7996b1788449a6e31e3f4512/tests/test_task.py\n",
            "Row 1868: https://github.com/surycat/tukio/blob/116b35dbceae899d7996b1788449a6e31e3f4512/tests/test_task.py, Error fetching the file\n",
            "\n",
            "Error fetching the file: 404 Client Error: Not Found for url: https://raw.githubusercontent.com/surycat/tukio/116b35dbceae899d7996b1788449a6e31e3f4512/tests/test_task.py\n",
            "Row 1869: https://github.com/surycat/tukio/blob/116b35dbceae899d7996b1788449a6e31e3f4512/tests/test_task.py, Error fetching the file\n",
            "\n",
            "Error fetching the file: 404 Client Error: Not Found for url: https://raw.githubusercontent.com/upday7/web_dict/c7be8a69028b1fa8be61417b25e322083e2dd2a7/web_dict/tests/test_ub.py\n",
            "Row 1895: https://github.com/upday7/web_dict/blob/c7be8a69028b1fa8be61417b25e322083e2dd2a7/web_dict/tests/test_ub.py, Error fetching the file\n",
            "\n",
            "Error fetching the file: 404 Client Error: Not Found for url: https://raw.githubusercontent.com/efe/zula/6328eb9c0e18debaaa769b7ac0d05a4a472f4746/neurodsp/tests/aperiodic/test_dfa.py\n",
            "Row 1980: https://github.com/efe/zula/blob/6328eb9c0e18debaaa769b7ac0d05a4a472f4746/neurodsp/tests/aperiodic/test_dfa.py, Error fetching the file\n",
            "\n",
            "Error fetching the file: 404 Client Error: Not Found for url: https://raw.githubusercontent.com/efe/zula/6328eb9c0e18debaaa769b7ac0d05a4a472f4746/neurodsp/tests/aperiodic/test_irasa.py\n",
            "Row 1981: https://github.com/efe/zula/blob/6328eb9c0e18debaaa769b7ac0d05a4a472f4746/neurodsp/tests/aperiodic/test_irasa.py, Error fetching the file\n",
            "\n",
            "Error fetching the file: 404 Client Error: Not Found for url: https://raw.githubusercontent.com/efe/zula/6328eb9c0e18debaaa769b7ac0d05a4a472f4746/tests/test_report.py\n",
            "Row 1982: https://github.com/efe/zula/blob/6328eb9c0e18debaaa769b7ac0d05a4a472f4746/tests/test_report.py, Error fetching the file\n",
            "\n",
            "Error fetching the file: 404 Client Error: Not Found for url: https://raw.githubusercontent.com/efe/zula/6328eb9c0e18debaaa769b7ac0d05a4a472f4746/tests/test_posts.py\n",
            "Row 1983: https://github.com/efe/zula/blob/6328eb9c0e18debaaa769b7ac0d05a4a472f4746/tests/test_posts.py, Error fetching the file\n",
            "\n",
            "Error fetching the file: 404 Client Error: Not Found for url: https://raw.githubusercontent.com/efe/zula/6328eb9c0e18debaaa769b7ac0d05a4a472f4746/tests/test_posts.py\n",
            "Row 1984: https://github.com/efe/zula/blob/6328eb9c0e18debaaa769b7ac0d05a4a472f4746/tests/test_posts.py, Error fetching the file\n",
            "\n",
            "Error fetching the file: 404 Client Error: Not Found for url: https://raw.githubusercontent.com/efe/zula/6328eb9c0e18debaaa769b7ac0d05a4a472f4746/plcx/tests/comm/test_server.py\n",
            "Row 1985: https://github.com/efe/zula/blob/6328eb9c0e18debaaa769b7ac0d05a4a472f4746/plcx/tests/comm/test_server.py, Error fetching the file\n",
            "\n",
            "Error fetching the file: 404 Client Error: Not Found for url: https://raw.githubusercontent.com/efe/zula/6328eb9c0e18debaaa769b7ac0d05a4a472f4746/plcx/tests/comm/test_server.py\n",
            "Row 1986: https://github.com/efe/zula/blob/6328eb9c0e18debaaa769b7ac0d05a4a472f4746/plcx/tests/comm/test_server.py, Error fetching the file\n",
            "\n",
            "Error fetching the file: 404 Client Error: Not Found for url: https://raw.githubusercontent.com/efe/zula/6328eb9c0e18debaaa769b7ac0d05a4a472f4746/tests/test_provider_ipc.py\n",
            "Row 1987: https://github.com/efe/zula/blob/6328eb9c0e18debaaa769b7ac0d05a4a472f4746/tests/test_provider_ipc.py, Error fetching the file\n",
            "\n",
            "Error fetching the file: 404 Client Error: Not Found for url: https://raw.githubusercontent.com/efe/zula/6328eb9c0e18debaaa769b7ac0d05a4a472f4746/tests/test_provider_ipc.py\n",
            "Row 1988: https://github.com/efe/zula/blob/6328eb9c0e18debaaa769b7ac0d05a4a472f4746/tests/test_provider_ipc.py, Error fetching the file\n",
            "\n",
            "Error fetching the file: 404 Client Error: Not Found for url: https://raw.githubusercontent.com/efe/zula/6328eb9c0e18debaaa769b7ac0d05a4a472f4746/authnzerver/tests/test_auth_permissions.py\n",
            "Row 1989: https://github.com/efe/zula/blob/6328eb9c0e18debaaa769b7ac0d05a4a472f4746/authnzerver/tests/test_auth_permissions.py, Error fetching the file\n",
            "\n",
            "Error fetching the file: 404 Client Error: Not Found for url: https://raw.githubusercontent.com/efe/zula/6328eb9c0e18debaaa769b7ac0d05a4a472f4746/tests/test_real_conditions.py\n",
            "Row 1990: https://github.com/efe/zula/blob/6328eb9c0e18debaaa769b7ac0d05a4a472f4746/tests/test_real_conditions.py, Error fetching the file\n",
            "\n",
            "Error fetching the file: 404 Client Error: Not Found for url: https://raw.githubusercontent.com/efe/zula/6328eb9c0e18debaaa769b7ac0d05a4a472f4746/tests/test_real_conditions.py\n",
            "Row 1991: https://github.com/efe/zula/blob/6328eb9c0e18debaaa769b7ac0d05a4a472f4746/tests/test_real_conditions.py, Error fetching the file\n",
            "\n",
            "Error fetching the file: 404 Client Error: Not Found for url: https://raw.githubusercontent.com/efe/zula/6328eb9c0e18debaaa769b7ac0d05a4a472f4746/pynoorm/tests/test_pynoorm.py\n",
            "Row 1992: https://github.com/efe/zula/blob/6328eb9c0e18debaaa769b7ac0d05a4a472f4746/pynoorm/tests/test_pynoorm.py, Error fetching the file\n",
            "\n",
            "Error fetching the file: 404 Client Error: Not Found for url: https://raw.githubusercontent.com/efe/zula/6328eb9c0e18debaaa769b7ac0d05a4a472f4746/pynoorm/tests/test_pynoorm.py\n",
            "Row 1993: https://github.com/efe/zula/blob/6328eb9c0e18debaaa769b7ac0d05a4a472f4746/pynoorm/tests/test_pynoorm.py, Error fetching the file\n",
            "\n",
            "Error fetching the file: 404 Client Error: Not Found for url: https://raw.githubusercontent.com/efe/zula/6328eb9c0e18debaaa769b7ac0d05a4a472f4746/test/pyiosxr/test_iosxr.py\n",
            "Row 1994: https://github.com/efe/zula/blob/6328eb9c0e18debaaa769b7ac0d05a4a472f4746/test/pyiosxr/test_iosxr.py, Error fetching the file\n",
            "\n",
            "Error fetching the file: 404 Client Error: Not Found for url: https://raw.githubusercontent.com/efe/zula/6328eb9c0e18debaaa769b7ac0d05a4a472f4746/test/pyiosxr/test_iosxr.py\n",
            "Row 1995: https://github.com/efe/zula/blob/6328eb9c0e18debaaa769b7ac0d05a4a472f4746/test/pyiosxr/test_iosxr.py, Error fetching the file\n",
            "\n",
            "Error fetching the file: 404 Client Error: Not Found for url: https://raw.githubusercontent.com/efe/zula/6328eb9c0e18debaaa769b7ac0d05a4a472f4746/test/pyiosxr/test_iosxr.py\n",
            "Row 1996: https://github.com/efe/zula/blob/6328eb9c0e18debaaa769b7ac0d05a4a472f4746/test/pyiosxr/test_iosxr.py, Error fetching the file\n",
            "\n",
            "Error fetching the file: 404 Client Error: Not Found for url: https://raw.githubusercontent.com/efe/zula/6328eb9c0e18debaaa769b7ac0d05a4a472f4746/test/pyiosxr/test_iosxr.py\n",
            "Row 1997: https://github.com/efe/zula/blob/6328eb9c0e18debaaa769b7ac0d05a4a472f4746/test/pyiosxr/test_iosxr.py, Error fetching the file\n",
            "\n",
            "Error fetching the file: 404 Client Error: Not Found for url: https://raw.githubusercontent.com/efe/zula/6328eb9c0e18debaaa769b7ac0d05a4a472f4746/tests/test_ticking.py\n",
            "Row 1998: https://github.com/efe/zula/blob/6328eb9c0e18debaaa769b7ac0d05a4a472f4746/tests/test_ticking.py, Error fetching the file\n",
            "\n",
            "Error fetching the file: 404 Client Error: Not Found for url: https://raw.githubusercontent.com/efe/zula/6328eb9c0e18debaaa769b7ac0d05a4a472f4746/tests/test_ticking.py\n",
            "Row 1999: https://github.com/efe/zula/blob/6328eb9c0e18debaaa769b7ac0d05a4a472f4746/tests/test_ticking.py, Error fetching the file\n",
            "\n",
            "Error fetching the file: 404 Client Error: Not Found for url: https://raw.githubusercontent.com/efe/zula/6328eb9c0e18debaaa769b7ac0d05a4a472f4746/tests/test_ticking.py\n",
            "Row 2000: https://github.com/efe/zula/blob/6328eb9c0e18debaaa769b7ac0d05a4a472f4746/tests/test_ticking.py, Error fetching the file\n",
            "\n",
            "Error fetching the file: 404 Client Error: Not Found for url: https://raw.githubusercontent.com/efe/zula/6328eb9c0e18debaaa769b7ac0d05a4a472f4746/tests/test_uuid.py\n",
            "Row 2001: https://github.com/efe/zula/blob/6328eb9c0e18debaaa769b7ac0d05a4a472f4746/tests/test_uuid.py, Error fetching the file\n",
            "\n",
            "Error fetching the file: 404 Client Error: Not Found for url: https://raw.githubusercontent.com/efe/zula/6328eb9c0e18debaaa769b7ac0d05a4a472f4746/tests/test_xml.py\n",
            "Row 2002: https://github.com/efe/zula/blob/6328eb9c0e18debaaa769b7ac0d05a4a472f4746/tests/test_xml.py, Error fetching the file\n",
            "\n",
            "Error fetching the file: 404 Client Error: Not Found for url: https://raw.githubusercontent.com/efe/zula/6328eb9c0e18debaaa769b7ac0d05a4a472f4746/torchpwl/pwl_test.py\n",
            "Row 2003: https://github.com/efe/zula/blob/6328eb9c0e18debaaa769b7ac0d05a4a472f4746/torchpwl/pwl_test.py, Error fetching the file\n",
            "\n",
            "Error fetching the file: 404 Client Error: Not Found for url: https://raw.githubusercontent.com/efe/zula/6328eb9c0e18debaaa769b7ac0d05a4a472f4746/torchpwl/pwl_test.py\n",
            "Row 2004: https://github.com/efe/zula/blob/6328eb9c0e18debaaa769b7ac0d05a4a472f4746/torchpwl/pwl_test.py, Error fetching the file\n",
            "\n",
            "Error fetching the file: 404 Client Error: Not Found for url: https://raw.githubusercontent.com/efe/zula/6328eb9c0e18debaaa769b7ac0d05a4a472f4746/torchpwl/pwl_test.py\n",
            "Row 2005: https://github.com/efe/zula/blob/6328eb9c0e18debaaa769b7ac0d05a4a472f4746/torchpwl/pwl_test.py, Error fetching the file\n",
            "\n",
            "Error fetching the file: 404 Client Error: Not Found for url: https://raw.githubusercontent.com/efe/zula/6328eb9c0e18debaaa769b7ac0d05a4a472f4746/tests/test_database/test_memory_database_hypothesis.py\n",
            "Row 2006: https://github.com/efe/zula/blob/6328eb9c0e18debaaa769b7ac0d05a4a472f4746/tests/test_database/test_memory_database_hypothesis.py, Error fetching the file\n",
            "\n",
            "Error fetching the file: 404 Client Error: Not Found for url: https://raw.githubusercontent.com/efe/zula/6328eb9c0e18debaaa769b7ac0d05a4a472f4746/tests/unit/v0x04/test_controller2switch/test_flow_mod.py\n",
            "Row 2007: https://github.com/efe/zula/blob/6328eb9c0e18debaaa769b7ac0d05a4a472f4746/tests/unit/v0x04/test_controller2switch/test_flow_mod.py, Error fetching the file\n",
            "\n",
            "Error fetching the file: 404 Client Error: Not Found for url: https://raw.githubusercontent.com/efe/zula/6328eb9c0e18debaaa769b7ac0d05a4a472f4746/tests/test_missing_data_imputer.py\n",
            "Row 2008: https://github.com/efe/zula/blob/6328eb9c0e18debaaa769b7ac0d05a4a472f4746/tests/test_missing_data_imputer.py, Error fetching the file\n",
            "\n",
            "Error fetching the file: 404 Client Error: Not Found for url: https://raw.githubusercontent.com/efe/zula/6328eb9c0e18debaaa769b7ac0d05a4a472f4746/tests/test_mudobjects.py\n",
            "Row 2009: https://github.com/efe/zula/blob/6328eb9c0e18debaaa769b7ac0d05a4a472f4746/tests/test_mudobjects.py, Error fetching the file\n",
            "\n"
          ]
        }
      ]
    },
    {
      "cell_type": "code",
      "source": [
        "filename = \"all_test_methods.csv\"\n",
        "with open(filename, mode=\"w\", newline=\"\") as file:\n",
        "  writer = csv.DictWriter(file, fieldnames=all_test_methods[0].keys())\n",
        "  writer.writeheader()\n",
        "  writer.writerows(all_test_methods)"
      ],
      "metadata": {
        "id": "ody7Rbh8Msgq"
      },
      "execution_count": null,
      "outputs": []
    },
    {
      "cell_type": "code",
      "source": [
        "# Only use this code block if you are using Google Colab.\n",
        "# If you are using Jupyter Notebook, please ignore this code block. You can directly upload the file to your Jupyter Notebook file systems.\n",
        "from google.colab import files\n",
        "import pandas as pd\n",
        "import os\n",
        "import requests\n",
        "import csv\n",
        "import random\n",
        "from copy import deepcopy\n",
        "import json\n",
        "\n",
        "if not os.path.exists('all_test_methods.csv'):\n",
        "  ## It will prompt you to select a local file. Click on “Choose Files” then select and upload the file.\n",
        "  ## Wait for the file to be 100% uploaded. You should see the name of the file once Colab has uploaded it.\n",
        "  uploaded = files.upload()\n",
        "  all_test_methods = []\n",
        "  with open('all_test_methods.csv', 'r') as f:\n",
        "    reader = csv.DictReader(f)\n",
        "    for row in reader:\n",
        "      all_test_methods.append(row)"
      ],
      "metadata": {
        "colab": {
          "base_uri": "https://localhost:8080/",
          "height": 77
        },
        "id": "oXsoY3vOtRoN",
        "outputId": "872e520a-6a4f-47bb-a992-e901546e7d0f"
      },
      "execution_count": null,
      "outputs": [
        {
          "output_type": "display_data",
          "data": {
            "text/plain": [
              "<IPython.core.display.HTML object>"
            ],
            "text/html": [
              "\n",
              "     <input type=\"file\" id=\"files-f1ecdc26-b7e9-4229-9950-807571f10776\" name=\"files[]\" multiple disabled\n",
              "        style=\"border:none\" />\n",
              "     <output id=\"result-f1ecdc26-b7e9-4229-9950-807571f10776\">\n",
              "      Upload widget is only available when the cell has been executed in the\n",
              "      current browser session. Please rerun this cell to enable.\n",
              "      </output>\n",
              "      <script>// Copyright 2017 Google LLC\n",
              "//\n",
              "// Licensed under the Apache License, Version 2.0 (the \"License\");\n",
              "// you may not use this file except in compliance with the License.\n",
              "// You may obtain a copy of the License at\n",
              "//\n",
              "//      http://www.apache.org/licenses/LICENSE-2.0\n",
              "//\n",
              "// Unless required by applicable law or agreed to in writing, software\n",
              "// distributed under the License is distributed on an \"AS IS\" BASIS,\n",
              "// WITHOUT WARRANTIES OR CONDITIONS OF ANY KIND, either express or implied.\n",
              "// See the License for the specific language governing permissions and\n",
              "// limitations under the License.\n",
              "\n",
              "/**\n",
              " * @fileoverview Helpers for google.colab Python module.\n",
              " */\n",
              "(function(scope) {\n",
              "function span(text, styleAttributes = {}) {\n",
              "  const element = document.createElement('span');\n",
              "  element.textContent = text;\n",
              "  for (const key of Object.keys(styleAttributes)) {\n",
              "    element.style[key] = styleAttributes[key];\n",
              "  }\n",
              "  return element;\n",
              "}\n",
              "\n",
              "// Max number of bytes which will be uploaded at a time.\n",
              "const MAX_PAYLOAD_SIZE = 100 * 1024;\n",
              "\n",
              "function _uploadFiles(inputId, outputId) {\n",
              "  const steps = uploadFilesStep(inputId, outputId);\n",
              "  const outputElement = document.getElementById(outputId);\n",
              "  // Cache steps on the outputElement to make it available for the next call\n",
              "  // to uploadFilesContinue from Python.\n",
              "  outputElement.steps = steps;\n",
              "\n",
              "  return _uploadFilesContinue(outputId);\n",
              "}\n",
              "\n",
              "// This is roughly an async generator (not supported in the browser yet),\n",
              "// where there are multiple asynchronous steps and the Python side is going\n",
              "// to poll for completion of each step.\n",
              "// This uses a Promise to block the python side on completion of each step,\n",
              "// then passes the result of the previous step as the input to the next step.\n",
              "function _uploadFilesContinue(outputId) {\n",
              "  const outputElement = document.getElementById(outputId);\n",
              "  const steps = outputElement.steps;\n",
              "\n",
              "  const next = steps.next(outputElement.lastPromiseValue);\n",
              "  return Promise.resolve(next.value.promise).then((value) => {\n",
              "    // Cache the last promise value to make it available to the next\n",
              "    // step of the generator.\n",
              "    outputElement.lastPromiseValue = value;\n",
              "    return next.value.response;\n",
              "  });\n",
              "}\n",
              "\n",
              "/**\n",
              " * Generator function which is called between each async step of the upload\n",
              " * process.\n",
              " * @param {string} inputId Element ID of the input file picker element.\n",
              " * @param {string} outputId Element ID of the output display.\n",
              " * @return {!Iterable<!Object>} Iterable of next steps.\n",
              " */\n",
              "function* uploadFilesStep(inputId, outputId) {\n",
              "  const inputElement = document.getElementById(inputId);\n",
              "  inputElement.disabled = false;\n",
              "\n",
              "  const outputElement = document.getElementById(outputId);\n",
              "  outputElement.innerHTML = '';\n",
              "\n",
              "  const pickedPromise = new Promise((resolve) => {\n",
              "    inputElement.addEventListener('change', (e) => {\n",
              "      resolve(e.target.files);\n",
              "    });\n",
              "  });\n",
              "\n",
              "  const cancel = document.createElement('button');\n",
              "  inputElement.parentElement.appendChild(cancel);\n",
              "  cancel.textContent = 'Cancel upload';\n",
              "  const cancelPromise = new Promise((resolve) => {\n",
              "    cancel.onclick = () => {\n",
              "      resolve(null);\n",
              "    };\n",
              "  });\n",
              "\n",
              "  // Wait for the user to pick the files.\n",
              "  const files = yield {\n",
              "    promise: Promise.race([pickedPromise, cancelPromise]),\n",
              "    response: {\n",
              "      action: 'starting',\n",
              "    }\n",
              "  };\n",
              "\n",
              "  cancel.remove();\n",
              "\n",
              "  // Disable the input element since further picks are not allowed.\n",
              "  inputElement.disabled = true;\n",
              "\n",
              "  if (!files) {\n",
              "    return {\n",
              "      response: {\n",
              "        action: 'complete',\n",
              "      }\n",
              "    };\n",
              "  }\n",
              "\n",
              "  for (const file of files) {\n",
              "    const li = document.createElement('li');\n",
              "    li.append(span(file.name, {fontWeight: 'bold'}));\n",
              "    li.append(span(\n",
              "        `(${file.type || 'n/a'}) - ${file.size} bytes, ` +\n",
              "        `last modified: ${\n",
              "            file.lastModifiedDate ? file.lastModifiedDate.toLocaleDateString() :\n",
              "                                    'n/a'} - `));\n",
              "    const percent = span('0% done');\n",
              "    li.appendChild(percent);\n",
              "\n",
              "    outputElement.appendChild(li);\n",
              "\n",
              "    const fileDataPromise = new Promise((resolve) => {\n",
              "      const reader = new FileReader();\n",
              "      reader.onload = (e) => {\n",
              "        resolve(e.target.result);\n",
              "      };\n",
              "      reader.readAsArrayBuffer(file);\n",
              "    });\n",
              "    // Wait for the data to be ready.\n",
              "    let fileData = yield {\n",
              "      promise: fileDataPromise,\n",
              "      response: {\n",
              "        action: 'continue',\n",
              "      }\n",
              "    };\n",
              "\n",
              "    // Use a chunked sending to avoid message size limits. See b/62115660.\n",
              "    let position = 0;\n",
              "    do {\n",
              "      const length = Math.min(fileData.byteLength - position, MAX_PAYLOAD_SIZE);\n",
              "      const chunk = new Uint8Array(fileData, position, length);\n",
              "      position += length;\n",
              "\n",
              "      const base64 = btoa(String.fromCharCode.apply(null, chunk));\n",
              "      yield {\n",
              "        response: {\n",
              "          action: 'append',\n",
              "          file: file.name,\n",
              "          data: base64,\n",
              "        },\n",
              "      };\n",
              "\n",
              "      let percentDone = fileData.byteLength === 0 ?\n",
              "          100 :\n",
              "          Math.round((position / fileData.byteLength) * 100);\n",
              "      percent.textContent = `${percentDone}% done`;\n",
              "\n",
              "    } while (position < fileData.byteLength);\n",
              "  }\n",
              "\n",
              "  // All done.\n",
              "  yield {\n",
              "    response: {\n",
              "      action: 'complete',\n",
              "    }\n",
              "  };\n",
              "}\n",
              "\n",
              "scope.google = scope.google || {};\n",
              "scope.google.colab = scope.google.colab || {};\n",
              "scope.google.colab._files = {\n",
              "  _uploadFiles,\n",
              "  _uploadFilesContinue,\n",
              "};\n",
              "})(self);\n",
              "</script> "
            ]
          },
          "metadata": {}
        },
        {
          "output_type": "stream",
          "name": "stdout",
          "text": [
            "Saving all_test_methods.csv to all_test_methods.csv\n"
          ]
        }
      ]
    },
    {
      "cell_type": "code",
      "source": [
        "all_test_methods[0]"
      ],
      "metadata": {
        "colab": {
          "base_uri": "https://localhost:8080/"
        },
        "id": "11myCu-ztgFp",
        "outputId": "4c5842e5-9fdf-463a-882a-c04fec9c1913"
      },
      "execution_count": null,
      "outputs": [
        {
          "output_type": "execute_result",
          "data": {
            "text/plain": [
              "{'Row': '2',\n",
              " 'URL': 'https://github.com/nordwind80/BT-Tracker/blob/558c15b399871c1ca11d0c4ae1eb598e3060931e/Tracker/tests/test_event.py',\n",
              " 'Class': 'TestEvent',\n",
              " 'Test': 'test_object',\n",
              " 'Content': 'def test_object(self):\\n        assert id(status.state) == id(status.state)\\n\\n    ',\n",
              " 'Detected': 'True'}"
            ]
          },
          "metadata": {},
          "execution_count": 2
        }
      ]
    },
    {
      "cell_type": "code",
      "source": [
        "len(all_test_methods)"
      ],
      "metadata": {
        "colab": {
          "base_uri": "https://localhost:8080/"
        },
        "id": "5ErR_8Pwtgag",
        "outputId": "f6305d77-7af8-4de3-a193-40e090eca04c"
      },
      "execution_count": null,
      "outputs": [
        {
          "output_type": "execute_result",
          "data": {
            "text/plain": [
              "1932"
            ]
          },
          "metadata": {},
          "execution_count": 3
        }
      ]
    },
    {
      "cell_type": "code",
      "source": [
        "true_methods = []\n",
        "false_methods = []\n",
        "true_size = 0\n",
        "false_size = 0\n",
        "\n",
        "for test_method in all_test_methods:\n",
        "  if test_method['Detected'] == 'True':\n",
        "    true_methods.append(test_method)\n",
        "    true_size += 1\n",
        "  else:\n",
        "    false_methods.append(test_method)\n",
        "    false_size += 1"
      ],
      "metadata": {
        "id": "QUwsAl5aszXf"
      },
      "execution_count": null,
      "outputs": []
    },
    {
      "cell_type": "code",
      "source": [
        "total_size = len(all_test_methods)\n",
        "training_and_validation_size = int(total_size * 0.9)\n",
        "validation_size = int(training_and_validation_size * 0.2)\n",
        "test_size = total_size - training_and_validation_size"
      ],
      "metadata": {
        "id": "k8CpT4D1srhZ"
      },
      "execution_count": null,
      "outputs": []
    },
    {
      "cell_type": "code",
      "source": [
        "training_and_validation_set = random.sample(all_test_methods, training_and_validation_size)\n",
        "validation_set = random.sample(training_and_validation_set, validation_size)\n",
        "training_set = [test_method for test_method in training_and_validation_set if test_method not in validation_set]\n",
        "test_set = [test_method for test_method in all_test_methods if test_method not in training_set and test_method not in validation_set]\n",
        "random.shuffle(training_set)\n",
        "random.shuffle(validation_set)\n",
        "random.shuffle(test_set)"
      ],
      "metadata": {
        "id": "NU37TEUdt7hE"
      },
      "execution_count": null,
      "outputs": []
    },
    {
      "cell_type": "code",
      "source": [
        "true_training_set = []\n",
        "false_training_set = []\n",
        "true_validation_set = []\n",
        "false_validation_set = []\n",
        "true_test_size = 0\n",
        "false_test_size = 0\n",
        "\n",
        "for test_method in training_set:\n",
        "  if test_method['Detected'] == 'True':\n",
        "    true_training_set.append(test_method)\n",
        "  else:\n",
        "    false_training_set.append(test_method)\n",
        "\n",
        "for test_method in validation_set:\n",
        "  if test_method['Detected'] == 'True':\n",
        "    true_validation_set.append(test_method)\n",
        "  else:\n",
        "    false_validation_set.append(test_method)\n",
        "\n",
        "for test_method in test_set:\n",
        "  if test_method['Detected'] == 'True':\n",
        "    true_test_size += 1\n",
        "  else:\n",
        "    false_test_size += 1"
      ],
      "metadata": {
        "id": "Hi8kag8VuaDJ"
      },
      "execution_count": null,
      "outputs": []
    },
    {
      "cell_type": "code",
      "source": [
        "print(f'Total in Training set: {len(training_set)}')\n",
        "print(f'True in Training set: {len(true_training_set)}')\n",
        "print(f'False in Training set: {len(false_training_set)}')\n",
        "print(f'Total in Validation set: {len(validation_set)}')\n",
        "print(f'True in Validation set: {len(true_validation_set)}')\n",
        "print(f'False in Validation set: {len(false_validation_set)}')\n",
        "print(f'Total in Test set: {len(test_set)}')\n",
        "print(f'True in Test set: {true_test_size}')\n",
        "print(f'False in Test set: {false_test_size}')\n",
        "print(f'Total: {total_size}')\n",
        "print(f'Total True: {len(true_methods)}')\n",
        "print(f'Total False: {len(false_methods)}')"
      ],
      "metadata": {
        "colab": {
          "base_uri": "https://localhost:8080/"
        },
        "id": "K2lP03BNuBuR",
        "outputId": "96ed1670-9944-4972-ebc6-8db9efc72b13"
      },
      "execution_count": null,
      "outputs": [
        {
          "output_type": "stream",
          "name": "stdout",
          "text": [
            "Total in Training set: 1391\n",
            "True in Training set: 941\n",
            "False in Training set: 450\n",
            "Total in Validation set: 347\n",
            "True in Validation set: 240\n",
            "False in Validation set: 107\n",
            "Total in Test set: 194\n",
            "True in Test set: 129\n",
            "False in Test set: 65\n",
            "Total: 1932\n",
            "Total True: 1310\n",
            "Total False: 622\n"
          ]
        }
      ]
    },
    {
      "cell_type": "code",
      "source": [
        "num_true_training = len(true_training_set)\n",
        "false_training_undersampled = deepcopy(false_training_set)\n",
        "while num_true_training >= 2 * len(false_training_undersampled):\n",
        "  false_training_undersampled += false_training_set\n",
        "false_training_undersampled += random.sample(false_training_set, num_true_training - len(false_training_undersampled))\n",
        "\n",
        "balanced_training_set = true_training_set + false_training_undersampled\n",
        "random.shuffle(balanced_training_set)\n",
        "\n",
        "print(f'True in Balanced Training set: {len(true_training_set)}')\n",
        "print(f'False in Balanced Training set: {len(false_training_undersampled)}')\n",
        "print(f'Total in Balanced Training set: {len(balanced_training_set)}')"
      ],
      "metadata": {
        "colab": {
          "base_uri": "https://localhost:8080/"
        },
        "id": "onAjNKqHur4M",
        "outputId": "cedfbfdf-ce35-4957-9c1d-5407c9b4727f"
      },
      "execution_count": null,
      "outputs": [
        {
          "output_type": "stream",
          "name": "stdout",
          "text": [
            "True in Balanced Training set: 941\n",
            "False in Balanced Training set: 941\n",
            "Total in Balanced Training set: 1882\n"
          ]
        }
      ]
    },
    {
      "cell_type": "code",
      "source": [
        "num_true_validation = len(true_validation_set)\n",
        "false_validation_undersampled = deepcopy(false_validation_set)\n",
        "while num_true_validation >= 2 * len(false_validation_undersampled):\n",
        "  false_validation_undersampled += false_validation_set\n",
        "false_validation_undersampled += random.sample(false_validation_set, num_true_validation - len(false_validation_undersampled))\n",
        "\n",
        "balanced_validation_set = true_validation_set + false_validation_undersampled\n",
        "random.shuffle(balanced_validation_set)\n",
        "\n",
        "print(f'True in Balanced Validation set: {len(true_validation_set)}')\n",
        "print(f'False in Balanced Validation set: {len(false_validation_undersampled)}')\n",
        "print(f'Total in Balanced Validation set: {len(balanced_validation_set)}')"
      ],
      "metadata": {
        "colab": {
          "base_uri": "https://localhost:8080/"
        },
        "id": "Ix4EEvqC9dCT",
        "outputId": "d0698b98-8c7f-4e86-87b1-9bd7b2c102a5"
      },
      "execution_count": null,
      "outputs": [
        {
          "output_type": "stream",
          "name": "stdout",
          "text": [
            "True in Balanced Validation set: 240\n",
            "False in Balanced Validation set: 240\n",
            "Total in Balanced Validation set: 480\n"
          ]
        }
      ]
    },
    {
      "cell_type": "code",
      "source": [
        "training_messages_list = []\n",
        "for test_method in training_set:\n",
        "  messages = [\n",
        "      {\"role\": \"system\", \"content\": \"You need to identify flaky tests.\"},\n",
        "      {\"role\": \"user\", \"content\": f\"Is this a flaky test? Only answer True or False.\\n{test_method['Content']}\"},\n",
        "      {\"role\": \"assistant\", \"content\": test_method['Detected']}\n",
        "  ]\n",
        "  training_messages_list.append({\"messages\": messages})\n",
        "\n",
        "with open('training_set.jsonl', 'w') as jsonl_file:\n",
        "  for entry in training_messages_list:\n",
        "    jsonl_file.write(json.dumps(entry) + \"\\n\")"
      ],
      "metadata": {
        "id": "VT4idxrCqmuu"
      },
      "execution_count": null,
      "outputs": []
    },
    {
      "cell_type": "code",
      "source": [
        "training_messages_list = []\n",
        "for test_method in balanced_training_set:\n",
        "  messages = [\n",
        "      {\"role\": \"system\", \"content\": \"You need to identify flaky tests.\"},\n",
        "      {\"role\": \"user\", \"content\": f\"Is this a flaky test? Only answer True or False.\\n{test_method['Content']}\"},\n",
        "      {\"role\": \"assistant\", \"content\": test_method['Detected']}\n",
        "  ]\n",
        "  training_messages_list.append({\"messages\": messages})\n",
        "\n",
        "with open('balanced_training_set.jsonl', 'w') as jsonl_file:\n",
        "  for entry in training_messages_list:\n",
        "    jsonl_file.write(json.dumps(entry) + \"\\n\")"
      ],
      "metadata": {
        "id": "riovLzt8sitj"
      },
      "execution_count": null,
      "outputs": []
    },
    {
      "cell_type": "code",
      "source": [
        "validation_messages_list = []\n",
        "for test_method in validation_set:\n",
        "  messages = [\n",
        "      {\"role\": \"system\", \"content\": \"You need to identify flaky tests.\"},\n",
        "      {\"role\": \"user\", \"content\": f\"Is this a flaky test? Only answer True or False.\\n{test_method['Content']}\"},\n",
        "      {\"role\": \"assistant\", \"content\": test_method['Detected']}\n",
        "  ]\n",
        "  validation_messages_list.append({\"messages\": messages})\n",
        "\n",
        "with open('validation_set.jsonl', 'w') as jsonl_file:\n",
        "  for entry in validation_messages_list:\n",
        "    jsonl_file.write(json.dumps(entry) + \"\\n\")"
      ],
      "metadata": {
        "id": "AtzDKFwprM4o"
      },
      "execution_count": null,
      "outputs": []
    },
    {
      "cell_type": "code",
      "source": [
        "validation_messages_list = []\n",
        "for test_method in balanced_validation_set:\n",
        "  messages = [\n",
        "      {\"role\": \"system\", \"content\": \"You need to identify flaky tests.\"},\n",
        "      {\"role\": \"user\", \"content\": f\"Is this a flaky test? Only answer True or False.\\n{test_method['Content']}\"},\n",
        "      {\"role\": \"assistant\", \"content\": test_method['Detected']}\n",
        "  ]\n",
        "  validation_messages_list.append({\"messages\": messages})\n",
        "\n",
        "with open('balanced_validation_set.jsonl', 'w') as jsonl_file:\n",
        "  for entry in validation_messages_list:\n",
        "    jsonl_file.write(json.dumps(entry) + \"\\n\")"
      ],
      "metadata": {
        "id": "f7T44KlM9lQc"
      },
      "execution_count": null,
      "outputs": []
    },
    {
      "cell_type": "code",
      "source": [
        "test_messages_list = []\n",
        "for test_method in test_set:\n",
        "  messages = [\n",
        "      {\"role\": \"system\", \"content\": \"You need to identify flaky tests.\"},\n",
        "      {\"role\": \"user\", \"content\": f\"Is this a flaky test? Only answer True or False.\\n{test_method['Content']}\"},\n",
        "      {\"role\": \"assistant\", \"content\": test_method['Detected']}\n",
        "  ]\n",
        "  test_messages_list.append({\"messages\": messages})\n",
        "\n",
        "with open('test_set.jsonl', 'w') as jsonl_file:\n",
        "  for entry in test_messages_list:\n",
        "    jsonl_file.write(json.dumps(entry) + \"\\n\")"
      ],
      "metadata": {
        "id": "mUEj9p1OzsIk"
      },
      "execution_count": null,
      "outputs": []
    }
  ]
}