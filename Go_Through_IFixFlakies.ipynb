{
  "nbformat": 4,
  "nbformat_minor": 0,
  "metadata": {
    "colab": {
      "provenance": [],
      "machine_shape": "hm",
      "gpuType": "A100",
      "include_colab_link": true
    },
    "kernelspec": {
      "name": "python3",
      "display_name": "Python 3"
    },
    "language_info": {
      "name": "python"
    },
    "accelerator": "GPU"
  },
  "cells": [
    {
      "cell_type": "markdown",
      "metadata": {
        "id": "view-in-github",
        "colab_type": "text"
      },
      "source": [
        "<a href=\"https://colab.research.google.com/github/yiw008/nondet-project/blob/main/Go_Through_IFixFlakies.ipynb\" target=\"_parent\"><img src=\"https://colab.research.google.com/assets/colab-badge.svg\" alt=\"Open In Colab\"/></a>"
      ]
    },
    {
      "cell_type": "code",
      "source": [
        "import pandas as pd\n",
        "import os\n",
        "import requests\n",
        "import csv"
      ],
      "metadata": {
        "id": "br6HjLhjXTBh"
      },
      "execution_count": null,
      "outputs": []
    },
    {
      "cell_type": "code",
      "source": [
        "# URL of the CSV file: iPFlakies\n",
        "url = \"https://zenodo.org/records/6176417/files/Test_Status.csv\""
      ],
      "metadata": {
        "id": "tHKJYrdSXcjv"
      },
      "execution_count": null,
      "outputs": []
    },
    {
      "cell_type": "code",
      "source": [
        "# Read the CSV file from the URL\n",
        "data = pd.read_csv(url)"
      ],
      "metadata": {
        "id": "HIw2gt8GXl70"
      },
      "execution_count": null,
      "outputs": []
    },
    {
      "cell_type": "code",
      "source": [
        "# Display the first few rows of the data\n",
        "print(data.head())"
      ],
      "metadata": {
        "colab": {
          "base_uri": "https://localhost:8080/"
        },
        "id": "FNefrgh2XoVZ",
        "outputId": "c2e02768-7e80-49b2-bf9c-d387510822b8"
      },
      "execution_count": null,
      "outputs": [
        {
          "output_type": "stream",
          "name": "stdout",
          "text": [
            "  Project_Name                               Project_URL  \\\n",
            "0   BT-Tracker  https://github.com/nordwind80/BT-Tracker   \n",
            "1      Breathe         https://github.com/mrob95/Breathe   \n",
            "2      Breathe         https://github.com/mrob95/Breathe   \n",
            "3      Breathe         https://github.com/mrob95/Breathe   \n",
            "4      Breathe         https://github.com/mrob95/Breathe   \n",
            "\n",
            "                               Project_Hash  \\\n",
            "0  558c15b399871c1ca11d0c4ae1eb598e3060931e   \n",
            "1  4600818e24f4156cd7bb8cc0f43886b27323968e   \n",
            "2  4600818e24f4156cd7bb8cc0f43886b27323968e   \n",
            "3  4600818e24f4156cd7bb8cc0f43886b27323968e   \n",
            "4  4600818e24f4156cd7bb8cc0f43886b27323968e   \n",
            "\n",
            "                                             Test_id  Detected  Have_Patch  \\\n",
            "0  Tracker/tests/test_event.py::TestEvent::test_o...      True        True   \n",
            "1  tests/test_command_context.py::test_manual_con...      True       False   \n",
            "2                tests/test_loading.py::test_loading      True        True   \n",
            "3        tests/test_loading.py::test_loading_failure      True        True   \n",
            "4              tests/test_loading.py::test_reloading      True        True   \n",
            "\n",
            "   OD_Type  Polluter_or_Setter Cleaner  \n",
            "0  brittle                True     NaN  \n",
            "1  brittle                True     NaN  \n",
            "2  brittle                True     NaN  \n",
            "3   victim                True    True  \n",
            "4  brittle                True     NaN  \n"
          ]
        }
      ]
    },
    {
      "cell_type": "code",
      "source": [
        "def match_class(content, class_name):\n",
        "  start_index = content.find(f\"class {class_name}\")\n",
        "  if start_index == -1:\n",
        "    return None\n",
        "  return content[start_index:]"
      ],
      "metadata": {
        "id": "d1CjBbmkdwG2"
      },
      "execution_count": null,
      "outputs": []
    },
    {
      "cell_type": "code",
      "source": [
        "def match_method(content, test_name):\n",
        "  start_index = content.find(f\"def {test_name}\")\n",
        "  if start_index == -1:\n",
        "    return None\n",
        "\n",
        "  end_index = -1\n",
        "  next_def_index = content.find(\"def \", start_index + len(test_name))\n",
        "  main_block_index = content.find(\"if __name__ == '__main__':\", start_index)\n",
        "\n",
        "  if next_def_index != -1:\n",
        "    end_index = next_def_index\n",
        "  elif main_block_index != -1:\n",
        "    end_index = main_block_index\n",
        "  else:\n",
        "    end_index = len(content)\n",
        "\n",
        "  return content[start_index:end_index]"
      ],
      "metadata": {
        "id": "t9j0PH9-eAcR"
      },
      "execution_count": null,
      "outputs": []
    },
    {
      "cell_type": "code",
      "source": [
        "def remove_square_brackets(test_name):\n",
        "  start_index = test_name.find('[')\n",
        "  end_index = test_name.find(']')\n",
        "\n",
        "  if start_index != -1 and end_index != -1:\n",
        "    new_test_name = test_name[:start_index]\n",
        "    return new_test_name\n",
        "  else:\n",
        "    return test_name"
      ],
      "metadata": {
        "id": "B7ECrfO1oYYN"
      },
      "execution_count": null,
      "outputs": []
    },
    {
      "cell_type": "code",
      "source": [
        "def read_python_file(url):\n",
        "  try:\n",
        "    response = requests.get(url)\n",
        "    response.raise_for_status()  # Check for HTTP errors\n",
        "    # The content of the file is in response.text\n",
        "    python_code = response.text\n",
        "    return python_code\n",
        "  except requests.exceptions.RequestException as e:\n",
        "    print(f\"Error fetching the file: {e}\")\n",
        "    return None"
      ],
      "metadata": {
        "id": "VHFoylAnr5MO"
      },
      "execution_count": null,
      "outputs": []
    },
    {
      "cell_type": "code",
      "source": [
        "def special_cases(project_name, repo_url, commit_hash, test_file_path, class_name, test_name):\n",
        "  if project_name == 'Butter.MAS.PythonAPI' and commit_hash == 'f86ebe75df3826f62a268645cdbe4400b43fab07' and test_file_path.startswith('butter/mas/tests/clients/'):\n",
        "    test_file_path = 'butter/mas/tests/clients/client_test.py'\n",
        "    class_name = ''\n",
        "\n",
        "  if project_name == 'SNData' and commit_hash == 'e4854f0dc357484b437b15f9dac15f7c589eff58' and (class_name == 'Sako18Parsing' or class_name == 'DR1Parsing'):\n",
        "    test_file_path = 'tests/data_parsing_template_tests.py'\n",
        "    class_name = ''\n",
        "    if test_name == 'test_standard_column_names':\n",
        "      class_name = 'PhotometricDataParsing'\n",
        "\n",
        "  if project_name == 'bootstrap_env' and commit_hash == 'ab68025d8f6b9a17d8feeed83e8aae26e3f28769' and test_file_path.startswith('bootstrap_env/tests/'):\n",
        "    test_file_path = 'bootstrap_env/tests/base.py'\n",
        "\n",
        "  if repo_url.endswith('.git'):\n",
        "    repo_url = repo_url[:-4]\n",
        "\n",
        "  if project_name == 'data-pypes' and test_name == 'pypes.logsetup.get_logconfig':\n",
        "    test_name = 'get_logconfig'\n",
        "\n",
        "  if project_name == 'elife-tools':\n",
        "    end_index = test_name.find('_1_elife_02833_v2_xml')\n",
        "    test_name = test_name[:end_index]\n",
        "\n",
        "  if project_name == 'noipy':\n",
        "    repo_url = 'https://github.com/pv8/noipy'\n",
        "\n",
        "  if project_name == 'pymq' and commit_hash == '101857bca2b705c328d3bda3b26797b51e8ffb70':\n",
        "    if class_name == 'SimplePubSubTest':\n",
        "      test_file_path = 'tests/base/pubsub.py'\n",
        "      class_name = 'AbstractPubSubTest'\n",
        "    if class_name == 'IpcQueueTest':\n",
        "      test_file_path = 'tests/base/queue.py'\n",
        "      class_name = 'AbstractQueueTest'\n",
        "    if class_name == 'IpcRpcTest' or class_name == 'SimpleRpcTest':\n",
        "      test_file_path = 'tests/base/rpc.py'\n",
        "      class_name = 'AbstractRpcTest'\n",
        "\n",
        "  if project_name == 'pyswarms' and commit_hash == '08756526f39699eef28e515cac2ead17cef55710' and class_name == 'TestLocalBestOptimizer' and test_name == 'test_obj_with_kwargs':\n",
        "    test_file_path = 'tests/optimizers/abc_test_optimizer.py'\n",
        "    class_name = 'ABCTestOptimizer'\n",
        "\n",
        "  if project_name == 'python-openflow' and commit_hash == 'a3387a7b28d529a3605aa1506a028e03394e4526' and class_name == 'TestFlowMod' and test_name == 'test_minimum_size':\n",
        "    test_file_path = 'tests/unit/test_struct.py'\n",
        "    class_name = 'TestStruct'\n",
        "\n",
        "  return project_name, repo_url, commit_hash, test_file_path, class_name, test_name"
      ],
      "metadata": {
        "id": "bppHB4Ss5O37"
      },
      "execution_count": null,
      "outputs": []
    },
    {
      "cell_type": "code",
      "source": [
        "all_test_methods = []\n",
        "print('The indices below corresponds to the row number in the csv file shown on https://sites.google.com/view/ipflakies.')\n",
        "\n",
        "for index, row in data.iterrows():\n",
        "  row_in_csv = index + 2\n",
        "  project_name = row['Project_Name']\n",
        "  repo_url = row['Project_URL']\n",
        "  commit_hash = row['Project_Hash']\n",
        "  if len(row['Test_id'].split('::')) > 2:\n",
        "    test_file_path = row['Test_id'].split('::')[0]\n",
        "    class_name = row['Test_id'].split('::')[1]\n",
        "    test_name = row['Test_id'].split('::')[2]\n",
        "  else:\n",
        "    test_file_path = row['Test_id'].split('::')[0]\n",
        "    class_name = ''\n",
        "    test_name = row['Test_id'].split('::')[1]\n",
        "  test_name = remove_square_brackets(test_name)\n",
        "\n",
        "  test_file_path_rec = test_file_path\n",
        "  class_name_rec = class_name\n",
        "  test_name_rec = test_name\n",
        "\n",
        "  project_name, repo_url, commit_hash, test_file_path, class_name, test_name = special_cases(project_name, repo_url, commit_hash, test_file_path, class_name, test_name)\n",
        "\n",
        "  new_url = repo_url.replace('github.com', 'raw.githubusercontent.com')\n",
        "  new_url += '/' + commit_hash + '/' + test_file_path\n",
        "\n",
        "  content = read_python_file(new_url)\n",
        "  if content is None:\n",
        "    print(f\"Row {row_in_csv}: {repo_url}/blob/{commit_hash}/{test_file_path}, Error fetching the file\\n\")\n",
        "    continue\n",
        "\n",
        "  # Class content\n",
        "  if class_name != '':\n",
        "    content = match_class(content, class_name)\n",
        "    if content is None:\n",
        "      print(f\"Row {row_in_csv}: In {repo_url}/blob/{commit_hash}/{test_file_path}, Class '{class_name}' not found.\")\n",
        "      continue\n",
        "\n",
        "  # Test method content\n",
        "  content = match_method(content, test_name)\n",
        "  if content is None:\n",
        "    print(f\"Row {row_in_csv}: In {repo_url}/blob/{commit_hash}/{test_file_path}, Class '{class_name}' , Test function '{test_name}' not found.\")\n",
        "    continue\n",
        "\n",
        "  test_method = {}\n",
        "  test_method['Row'] = row_in_csv\n",
        "  test_method['URL'] = repo_url + '/blob/' + commit_hash + '/' + test_file_path_rec\n",
        "  test_method['Class'] = class_name_rec\n",
        "  test_method['Test'] = test_name_rec\n",
        "  test_method['Content'] = content\n",
        "  all_test_methods.append(test_method)"
      ],
      "metadata": {
        "colab": {
          "base_uri": "https://localhost:8080/"
        },
        "id": "gi9YCcA7Xru4",
        "outputId": "ba58145c-a68d-41ad-c467-abad6d178261"
      },
      "execution_count": null,
      "outputs": [
        {
          "output_type": "stream",
          "name": "stdout",
          "text": [
            "The indices below corresponds to the row number in the csv file shown on https://sites.google.com/view/ipflakies.\n",
            "Error fetching the file: 404 Client Error: Not Found for url: https://raw.githubusercontent.com/AshtonUPS/Py-MI-PS/2d22327c75bac1b58a4804a61e7a703ecc5ba978/src/PyMIPS/tests/register_test.py\n",
            "Row 135: https://github.com/AshtonUPS/Py-MI-PS/blob/2d22327c75bac1b58a4804a61e7a703ecc5ba978/src/PyMIPS/tests/register_test.py, Error fetching the file\n",
            "\n",
            "Error fetching the file: 404 Client Error: Not Found for url: https://raw.githubusercontent.com/cryptowatch/cw-sdk-python/92bd90db16dfc116c0708d19d27208d9bfc990c1/tests/test_api.py\n",
            "Row 516: https://github.com/cryptowatch/cw-sdk-python/blob/92bd90db16dfc116c0708d19d27208d9bfc990c1/tests/test_api.py, Error fetching the file\n",
            "\n",
            "Error fetching the file: 404 Client Error: Not Found for url: https://raw.githubusercontent.com/cryptowatch/cw-sdk-python/92bd90db16dfc116c0708d19d27208d9bfc990c1/tests/test_api.py\n",
            "Row 517: https://github.com/cryptowatch/cw-sdk-python/blob/92bd90db16dfc116c0708d19d27208d9bfc990c1/tests/test_api.py, Error fetching the file\n",
            "\n",
            "Error fetching the file: 404 Client Error: Not Found for url: https://raw.githubusercontent.com/cryptowatch/cw-sdk-python/92bd90db16dfc116c0708d19d27208d9bfc990c1/tests/test_api.py\n",
            "Row 518: https://github.com/cryptowatch/cw-sdk-python/blob/92bd90db16dfc116c0708d19d27208d9bfc990c1/tests/test_api.py, Error fetching the file\n",
            "\n",
            "Error fetching the file: 404 Client Error: Not Found for url: https://raw.githubusercontent.com/cryptowatch/cw-sdk-python/92bd90db16dfc116c0708d19d27208d9bfc990c1/tests/test_api.py\n",
            "Row 519: https://github.com/cryptowatch/cw-sdk-python/blob/92bd90db16dfc116c0708d19d27208d9bfc990c1/tests/test_api.py, Error fetching the file\n",
            "\n",
            "Error fetching the file: 404 Client Error: Not Found for url: https://raw.githubusercontent.com/ElementAI/greensim/f160e8b57d69f6ef469f2e991cc07b7721e08a91/tests/test_logging.py\n",
            "Row 884: https://github.com/ElementAI/greensim/blob/f160e8b57d69f6ef469f2e991cc07b7721e08a91/tests/test_logging.py, Error fetching the file\n",
            "\n",
            "Error fetching the file: 404 Client Error: Not Found for url: https://raw.githubusercontent.com/ElementAI/greensim/f160e8b57d69f6ef469f2e991cc07b7721e08a91/tests/test_logging.py\n",
            "Row 885: https://github.com/ElementAI/greensim/blob/f160e8b57d69f6ef469f2e991cc07b7721e08a91/tests/test_logging.py, Error fetching the file\n",
            "\n",
            "Error fetching the file: 404 Client Error: Not Found for url: https://raw.githubusercontent.com/ElementAI/greensim/f160e8b57d69f6ef469f2e991cc07b7721e08a91/tests/test_logging.py\n",
            "Row 886: https://github.com/ElementAI/greensim/blob/f160e8b57d69f6ef469f2e991cc07b7721e08a91/tests/test_logging.py, Error fetching the file\n",
            "\n",
            "Error fetching the file: 404 Client Error: Not Found for url: https://raw.githubusercontent.com/ElementAI/greensim/f160e8b57d69f6ef469f2e991cc07b7721e08a91/tests/test_logging.py\n",
            "Row 887: https://github.com/ElementAI/greensim/blob/f160e8b57d69f6ef469f2e991cc07b7721e08a91/tests/test_logging.py, Error fetching the file\n",
            "\n",
            "Error fetching the file: 404 Client Error: Not Found for url: https://raw.githubusercontent.com/ElementAI/greensim/f160e8b57d69f6ef469f2e991cc07b7721e08a91/tests/test_logging.py\n",
            "Row 888: https://github.com/ElementAI/greensim/blob/f160e8b57d69f6ef469f2e991cc07b7721e08a91/tests/test_logging.py, Error fetching the file\n",
            "\n",
            "Error fetching the file: 404 Client Error: Not Found for url: https://raw.githubusercontent.com/ElementAI/greensim/f160e8b57d69f6ef469f2e991cc07b7721e08a91/tests/test_sim.py\n",
            "Row 889: https://github.com/ElementAI/greensim/blob/f160e8b57d69f6ef469f2e991cc07b7721e08a91/tests/test_sim.py, Error fetching the file\n",
            "\n",
            "Error fetching the file: 404 Client Error: Not Found for url: https://raw.githubusercontent.com/jerodg/jgutils/6c8ed6aca37d509af8ce1b57635fad62f1c846b4/jgutils/tests/test_persistentdict.py\n",
            "Row 991: https://github.com/jerodg/jgutils/blob/6c8ed6aca37d509af8ce1b57635fad62f1c846b4/jgutils/tests/test_persistentdict.py, Error fetching the file\n",
            "\n",
            "Error fetching the file: 404 Client Error: Not Found for url: https://raw.githubusercontent.com/gmggroup/omf/bf0cfaa4d05c438606d7b4561166bf12d2c1be74/tests/test_base.py\n",
            "Row 1156: https://github.com/gmggroup/omf/blob/bf0cfaa4d05c438606d7b4561166bf12d2c1be74/tests/test_base.py, Error fetching the file\n",
            "\n",
            "Error fetching the file: 404 Client Error: Not Found for url: https://raw.githubusercontent.com/optiflows/tukio/116b35dbceae899d7996b1788449a6e31e3f4512/tests/test_task.py\n",
            "Row 1838: https://github.com/optiflows/tukio/blob/116b35dbceae899d7996b1788449a6e31e3f4512/tests/test_task.py, Error fetching the file\n",
            "\n",
            "Error fetching the file: 404 Client Error: Not Found for url: https://raw.githubusercontent.com/optiflows/tukio/116b35dbceae899d7996b1788449a6e31e3f4512/tests/test_task.py\n",
            "Row 1839: https://github.com/optiflows/tukio/blob/116b35dbceae899d7996b1788449a6e31e3f4512/tests/test_task.py, Error fetching the file\n",
            "\n",
            "Error fetching the file: 404 Client Error: Not Found for url: https://raw.githubusercontent.com/optiflows/tukio/116b35dbceae899d7996b1788449a6e31e3f4512/tests/test_task.py\n",
            "Row 1840: https://github.com/optiflows/tukio/blob/116b35dbceae899d7996b1788449a6e31e3f4512/tests/test_task.py, Error fetching the file\n",
            "\n",
            "Error fetching the file: 404 Client Error: Not Found for url: https://raw.githubusercontent.com/optiflows/tukio/116b35dbceae899d7996b1788449a6e31e3f4512/tests/test_task.py\n",
            "Row 1841: https://github.com/optiflows/tukio/blob/116b35dbceae899d7996b1788449a6e31e3f4512/tests/test_task.py, Error fetching the file\n",
            "\n",
            "Error fetching the file: 404 Client Error: Not Found for url: https://raw.githubusercontent.com/optiflows/tukio/116b35dbceae899d7996b1788449a6e31e3f4512/tests/test_task.py\n",
            "Row 1842: https://github.com/optiflows/tukio/blob/116b35dbceae899d7996b1788449a6e31e3f4512/tests/test_task.py, Error fetching the file\n",
            "\n",
            "Error fetching the file: 404 Client Error: Not Found for url: https://raw.githubusercontent.com/optiflows/tukio/116b35dbceae899d7996b1788449a6e31e3f4512/tests/test_task.py\n",
            "Row 1843: https://github.com/optiflows/tukio/blob/116b35dbceae899d7996b1788449a6e31e3f4512/tests/test_task.py, Error fetching the file\n",
            "\n",
            "Error fetching the file: 404 Client Error: Not Found for url: https://raw.githubusercontent.com/optiflows/tukio/116b35dbceae899d7996b1788449a6e31e3f4512/tests/test_task.py\n",
            "Row 1844: https://github.com/optiflows/tukio/blob/116b35dbceae899d7996b1788449a6e31e3f4512/tests/test_task.py, Error fetching the file\n",
            "\n",
            "Error fetching the file: 404 Client Error: Not Found for url: https://raw.githubusercontent.com/optiflows/tukio/116b35dbceae899d7996b1788449a6e31e3f4512/tests/test_task.py\n",
            "Row 1845: https://github.com/optiflows/tukio/blob/116b35dbceae899d7996b1788449a6e31e3f4512/tests/test_task.py, Error fetching the file\n",
            "\n",
            "Error fetching the file: 404 Client Error: Not Found for url: https://raw.githubusercontent.com/optiflows/tukio/116b35dbceae899d7996b1788449a6e31e3f4512/tests/test_task.py\n",
            "Row 1846: https://github.com/optiflows/tukio/blob/116b35dbceae899d7996b1788449a6e31e3f4512/tests/test_task.py, Error fetching the file\n",
            "\n",
            "Error fetching the file: 404 Client Error: Not Found for url: https://raw.githubusercontent.com/optiflows/tukio/116b35dbceae899d7996b1788449a6e31e3f4512/tests/test_task.py\n",
            "Row 1847: https://github.com/optiflows/tukio/blob/116b35dbceae899d7996b1788449a6e31e3f4512/tests/test_task.py, Error fetching the file\n",
            "\n",
            "Error fetching the file: 404 Client Error: Not Found for url: https://raw.githubusercontent.com/optiflows/tukio/116b35dbceae899d7996b1788449a6e31e3f4512/tests/test_task.py\n",
            "Row 1848: https://github.com/optiflows/tukio/blob/116b35dbceae899d7996b1788449a6e31e3f4512/tests/test_task.py, Error fetching the file\n",
            "\n",
            "Error fetching the file: 404 Client Error: Not Found for url: https://raw.githubusercontent.com/optiflows/tukio/116b35dbceae899d7996b1788449a6e31e3f4512/tests/test_task.py\n",
            "Row 1849: https://github.com/optiflows/tukio/blob/116b35dbceae899d7996b1788449a6e31e3f4512/tests/test_task.py, Error fetching the file\n",
            "\n",
            "Error fetching the file: 404 Client Error: Not Found for url: https://raw.githubusercontent.com/optiflows/tukio/116b35dbceae899d7996b1788449a6e31e3f4512/tests/test_task.py\n",
            "Row 1850: https://github.com/optiflows/tukio/blob/116b35dbceae899d7996b1788449a6e31e3f4512/tests/test_task.py, Error fetching the file\n",
            "\n",
            "Error fetching the file: 404 Client Error: Not Found for url: https://raw.githubusercontent.com/optiflows/tukio/116b35dbceae899d7996b1788449a6e31e3f4512/tests/test_task.py\n",
            "Row 1851: https://github.com/optiflows/tukio/blob/116b35dbceae899d7996b1788449a6e31e3f4512/tests/test_task.py, Error fetching the file\n",
            "\n",
            "Error fetching the file: 404 Client Error: Not Found for url: https://raw.githubusercontent.com/optiflows/tukio/116b35dbceae899d7996b1788449a6e31e3f4512/tests/test_task.py\n",
            "Row 1852: https://github.com/optiflows/tukio/blob/116b35dbceae899d7996b1788449a6e31e3f4512/tests/test_task.py, Error fetching the file\n",
            "\n",
            "Error fetching the file: 404 Client Error: Not Found for url: https://raw.githubusercontent.com/optiflows/tukio/116b35dbceae899d7996b1788449a6e31e3f4512/tests/test_task.py\n",
            "Row 1853: https://github.com/optiflows/tukio/blob/116b35dbceae899d7996b1788449a6e31e3f4512/tests/test_task.py, Error fetching the file\n",
            "\n",
            "Error fetching the file: 404 Client Error: Not Found for url: https://raw.githubusercontent.com/surycat/tukio/116b35dbceae899d7996b1788449a6e31e3f4512/tests/test_task.py\n",
            "Row 1854: https://github.com/surycat/tukio/blob/116b35dbceae899d7996b1788449a6e31e3f4512/tests/test_task.py, Error fetching the file\n",
            "\n",
            "Error fetching the file: 404 Client Error: Not Found for url: https://raw.githubusercontent.com/surycat/tukio/116b35dbceae899d7996b1788449a6e31e3f4512/tests/test_task.py\n",
            "Row 1855: https://github.com/surycat/tukio/blob/116b35dbceae899d7996b1788449a6e31e3f4512/tests/test_task.py, Error fetching the file\n",
            "\n",
            "Error fetching the file: 404 Client Error: Not Found for url: https://raw.githubusercontent.com/surycat/tukio/116b35dbceae899d7996b1788449a6e31e3f4512/tests/test_task.py\n",
            "Row 1856: https://github.com/surycat/tukio/blob/116b35dbceae899d7996b1788449a6e31e3f4512/tests/test_task.py, Error fetching the file\n",
            "\n",
            "Error fetching the file: 404 Client Error: Not Found for url: https://raw.githubusercontent.com/surycat/tukio/116b35dbceae899d7996b1788449a6e31e3f4512/tests/test_task.py\n",
            "Row 1857: https://github.com/surycat/tukio/blob/116b35dbceae899d7996b1788449a6e31e3f4512/tests/test_task.py, Error fetching the file\n",
            "\n",
            "Error fetching the file: 404 Client Error: Not Found for url: https://raw.githubusercontent.com/surycat/tukio/116b35dbceae899d7996b1788449a6e31e3f4512/tests/test_task.py\n",
            "Row 1858: https://github.com/surycat/tukio/blob/116b35dbceae899d7996b1788449a6e31e3f4512/tests/test_task.py, Error fetching the file\n",
            "\n",
            "Error fetching the file: 404 Client Error: Not Found for url: https://raw.githubusercontent.com/surycat/tukio/116b35dbceae899d7996b1788449a6e31e3f4512/tests/test_task.py\n",
            "Row 1859: https://github.com/surycat/tukio/blob/116b35dbceae899d7996b1788449a6e31e3f4512/tests/test_task.py, Error fetching the file\n",
            "\n",
            "Error fetching the file: 404 Client Error: Not Found for url: https://raw.githubusercontent.com/surycat/tukio/116b35dbceae899d7996b1788449a6e31e3f4512/tests/test_task.py\n",
            "Row 1860: https://github.com/surycat/tukio/blob/116b35dbceae899d7996b1788449a6e31e3f4512/tests/test_task.py, Error fetching the file\n",
            "\n",
            "Error fetching the file: 404 Client Error: Not Found for url: https://raw.githubusercontent.com/surycat/tukio/116b35dbceae899d7996b1788449a6e31e3f4512/tests/test_task.py\n",
            "Row 1861: https://github.com/surycat/tukio/blob/116b35dbceae899d7996b1788449a6e31e3f4512/tests/test_task.py, Error fetching the file\n",
            "\n",
            "Error fetching the file: 404 Client Error: Not Found for url: https://raw.githubusercontent.com/surycat/tukio/116b35dbceae899d7996b1788449a6e31e3f4512/tests/test_task.py\n",
            "Row 1862: https://github.com/surycat/tukio/blob/116b35dbceae899d7996b1788449a6e31e3f4512/tests/test_task.py, Error fetching the file\n",
            "\n",
            "Error fetching the file: 404 Client Error: Not Found for url: https://raw.githubusercontent.com/surycat/tukio/116b35dbceae899d7996b1788449a6e31e3f4512/tests/test_task.py\n",
            "Row 1863: https://github.com/surycat/tukio/blob/116b35dbceae899d7996b1788449a6e31e3f4512/tests/test_task.py, Error fetching the file\n",
            "\n",
            "Error fetching the file: 404 Client Error: Not Found for url: https://raw.githubusercontent.com/surycat/tukio/116b35dbceae899d7996b1788449a6e31e3f4512/tests/test_task.py\n",
            "Row 1864: https://github.com/surycat/tukio/blob/116b35dbceae899d7996b1788449a6e31e3f4512/tests/test_task.py, Error fetching the file\n",
            "\n",
            "Error fetching the file: 404 Client Error: Not Found for url: https://raw.githubusercontent.com/surycat/tukio/116b35dbceae899d7996b1788449a6e31e3f4512/tests/test_task.py\n",
            "Row 1865: https://github.com/surycat/tukio/blob/116b35dbceae899d7996b1788449a6e31e3f4512/tests/test_task.py, Error fetching the file\n",
            "\n",
            "Error fetching the file: 404 Client Error: Not Found for url: https://raw.githubusercontent.com/surycat/tukio/116b35dbceae899d7996b1788449a6e31e3f4512/tests/test_task.py\n",
            "Row 1866: https://github.com/surycat/tukio/blob/116b35dbceae899d7996b1788449a6e31e3f4512/tests/test_task.py, Error fetching the file\n",
            "\n",
            "Error fetching the file: 404 Client Error: Not Found for url: https://raw.githubusercontent.com/surycat/tukio/116b35dbceae899d7996b1788449a6e31e3f4512/tests/test_task.py\n",
            "Row 1867: https://github.com/surycat/tukio/blob/116b35dbceae899d7996b1788449a6e31e3f4512/tests/test_task.py, Error fetching the file\n",
            "\n",
            "Error fetching the file: 404 Client Error: Not Found for url: https://raw.githubusercontent.com/surycat/tukio/116b35dbceae899d7996b1788449a6e31e3f4512/tests/test_task.py\n",
            "Row 1868: https://github.com/surycat/tukio/blob/116b35dbceae899d7996b1788449a6e31e3f4512/tests/test_task.py, Error fetching the file\n",
            "\n",
            "Error fetching the file: 404 Client Error: Not Found for url: https://raw.githubusercontent.com/surycat/tukio/116b35dbceae899d7996b1788449a6e31e3f4512/tests/test_task.py\n",
            "Row 1869: https://github.com/surycat/tukio/blob/116b35dbceae899d7996b1788449a6e31e3f4512/tests/test_task.py, Error fetching the file\n",
            "\n",
            "Error fetching the file: 404 Client Error: Not Found for url: https://raw.githubusercontent.com/upday7/web_dict/c7be8a69028b1fa8be61417b25e322083e2dd2a7/web_dict/tests/test_ub.py\n",
            "Row 1895: https://github.com/upday7/web_dict/blob/c7be8a69028b1fa8be61417b25e322083e2dd2a7/web_dict/tests/test_ub.py, Error fetching the file\n",
            "\n",
            "Error fetching the file: 404 Client Error: Not Found for url: https://raw.githubusercontent.com/efe/zula/6328eb9c0e18debaaa769b7ac0d05a4a472f4746/neurodsp/tests/aperiodic/test_dfa.py\n",
            "Row 1980: https://github.com/efe/zula/blob/6328eb9c0e18debaaa769b7ac0d05a4a472f4746/neurodsp/tests/aperiodic/test_dfa.py, Error fetching the file\n",
            "\n",
            "Error fetching the file: 404 Client Error: Not Found for url: https://raw.githubusercontent.com/efe/zula/6328eb9c0e18debaaa769b7ac0d05a4a472f4746/neurodsp/tests/aperiodic/test_irasa.py\n",
            "Row 1981: https://github.com/efe/zula/blob/6328eb9c0e18debaaa769b7ac0d05a4a472f4746/neurodsp/tests/aperiodic/test_irasa.py, Error fetching the file\n",
            "\n",
            "Error fetching the file: 404 Client Error: Not Found for url: https://raw.githubusercontent.com/efe/zula/6328eb9c0e18debaaa769b7ac0d05a4a472f4746/tests/test_report.py\n",
            "Row 1982: https://github.com/efe/zula/blob/6328eb9c0e18debaaa769b7ac0d05a4a472f4746/tests/test_report.py, Error fetching the file\n",
            "\n",
            "Error fetching the file: 404 Client Error: Not Found for url: https://raw.githubusercontent.com/efe/zula/6328eb9c0e18debaaa769b7ac0d05a4a472f4746/tests/test_posts.py\n",
            "Row 1983: https://github.com/efe/zula/blob/6328eb9c0e18debaaa769b7ac0d05a4a472f4746/tests/test_posts.py, Error fetching the file\n",
            "\n",
            "Error fetching the file: 404 Client Error: Not Found for url: https://raw.githubusercontent.com/efe/zula/6328eb9c0e18debaaa769b7ac0d05a4a472f4746/tests/test_posts.py\n",
            "Row 1984: https://github.com/efe/zula/blob/6328eb9c0e18debaaa769b7ac0d05a4a472f4746/tests/test_posts.py, Error fetching the file\n",
            "\n",
            "Error fetching the file: 404 Client Error: Not Found for url: https://raw.githubusercontent.com/efe/zula/6328eb9c0e18debaaa769b7ac0d05a4a472f4746/plcx/tests/comm/test_server.py\n",
            "Row 1985: https://github.com/efe/zula/blob/6328eb9c0e18debaaa769b7ac0d05a4a472f4746/plcx/tests/comm/test_server.py, Error fetching the file\n",
            "\n",
            "Error fetching the file: 404 Client Error: Not Found for url: https://raw.githubusercontent.com/efe/zula/6328eb9c0e18debaaa769b7ac0d05a4a472f4746/plcx/tests/comm/test_server.py\n",
            "Row 1986: https://github.com/efe/zula/blob/6328eb9c0e18debaaa769b7ac0d05a4a472f4746/plcx/tests/comm/test_server.py, Error fetching the file\n",
            "\n",
            "Error fetching the file: 404 Client Error: Not Found for url: https://raw.githubusercontent.com/efe/zula/6328eb9c0e18debaaa769b7ac0d05a4a472f4746/tests/test_provider_ipc.py\n",
            "Row 1987: https://github.com/efe/zula/blob/6328eb9c0e18debaaa769b7ac0d05a4a472f4746/tests/test_provider_ipc.py, Error fetching the file\n",
            "\n",
            "Error fetching the file: 404 Client Error: Not Found for url: https://raw.githubusercontent.com/efe/zula/6328eb9c0e18debaaa769b7ac0d05a4a472f4746/tests/test_provider_ipc.py\n",
            "Row 1988: https://github.com/efe/zula/blob/6328eb9c0e18debaaa769b7ac0d05a4a472f4746/tests/test_provider_ipc.py, Error fetching the file\n",
            "\n",
            "Error fetching the file: 404 Client Error: Not Found for url: https://raw.githubusercontent.com/efe/zula/6328eb9c0e18debaaa769b7ac0d05a4a472f4746/authnzerver/tests/test_auth_permissions.py\n",
            "Row 1989: https://github.com/efe/zula/blob/6328eb9c0e18debaaa769b7ac0d05a4a472f4746/authnzerver/tests/test_auth_permissions.py, Error fetching the file\n",
            "\n",
            "Error fetching the file: 404 Client Error: Not Found for url: https://raw.githubusercontent.com/efe/zula/6328eb9c0e18debaaa769b7ac0d05a4a472f4746/tests/test_real_conditions.py\n",
            "Row 1990: https://github.com/efe/zula/blob/6328eb9c0e18debaaa769b7ac0d05a4a472f4746/tests/test_real_conditions.py, Error fetching the file\n",
            "\n",
            "Error fetching the file: 404 Client Error: Not Found for url: https://raw.githubusercontent.com/efe/zula/6328eb9c0e18debaaa769b7ac0d05a4a472f4746/tests/test_real_conditions.py\n",
            "Row 1991: https://github.com/efe/zula/blob/6328eb9c0e18debaaa769b7ac0d05a4a472f4746/tests/test_real_conditions.py, Error fetching the file\n",
            "\n",
            "Error fetching the file: 404 Client Error: Not Found for url: https://raw.githubusercontent.com/efe/zula/6328eb9c0e18debaaa769b7ac0d05a4a472f4746/pynoorm/tests/test_pynoorm.py\n",
            "Row 1992: https://github.com/efe/zula/blob/6328eb9c0e18debaaa769b7ac0d05a4a472f4746/pynoorm/tests/test_pynoorm.py, Error fetching the file\n",
            "\n",
            "Error fetching the file: 404 Client Error: Not Found for url: https://raw.githubusercontent.com/efe/zula/6328eb9c0e18debaaa769b7ac0d05a4a472f4746/pynoorm/tests/test_pynoorm.py\n",
            "Row 1993: https://github.com/efe/zula/blob/6328eb9c0e18debaaa769b7ac0d05a4a472f4746/pynoorm/tests/test_pynoorm.py, Error fetching the file\n",
            "\n",
            "Error fetching the file: 404 Client Error: Not Found for url: https://raw.githubusercontent.com/efe/zula/6328eb9c0e18debaaa769b7ac0d05a4a472f4746/test/pyiosxr/test_iosxr.py\n",
            "Row 1994: https://github.com/efe/zula/blob/6328eb9c0e18debaaa769b7ac0d05a4a472f4746/test/pyiosxr/test_iosxr.py, Error fetching the file\n",
            "\n",
            "Error fetching the file: 404 Client Error: Not Found for url: https://raw.githubusercontent.com/efe/zula/6328eb9c0e18debaaa769b7ac0d05a4a472f4746/test/pyiosxr/test_iosxr.py\n",
            "Row 1995: https://github.com/efe/zula/blob/6328eb9c0e18debaaa769b7ac0d05a4a472f4746/test/pyiosxr/test_iosxr.py, Error fetching the file\n",
            "\n",
            "Error fetching the file: 404 Client Error: Not Found for url: https://raw.githubusercontent.com/efe/zula/6328eb9c0e18debaaa769b7ac0d05a4a472f4746/test/pyiosxr/test_iosxr.py\n",
            "Row 1996: https://github.com/efe/zula/blob/6328eb9c0e18debaaa769b7ac0d05a4a472f4746/test/pyiosxr/test_iosxr.py, Error fetching the file\n",
            "\n",
            "Error fetching the file: 404 Client Error: Not Found for url: https://raw.githubusercontent.com/efe/zula/6328eb9c0e18debaaa769b7ac0d05a4a472f4746/test/pyiosxr/test_iosxr.py\n",
            "Row 1997: https://github.com/efe/zula/blob/6328eb9c0e18debaaa769b7ac0d05a4a472f4746/test/pyiosxr/test_iosxr.py, Error fetching the file\n",
            "\n",
            "Error fetching the file: 404 Client Error: Not Found for url: https://raw.githubusercontent.com/efe/zula/6328eb9c0e18debaaa769b7ac0d05a4a472f4746/tests/test_ticking.py\n",
            "Row 1998: https://github.com/efe/zula/blob/6328eb9c0e18debaaa769b7ac0d05a4a472f4746/tests/test_ticking.py, Error fetching the file\n",
            "\n",
            "Error fetching the file: 404 Client Error: Not Found for url: https://raw.githubusercontent.com/efe/zula/6328eb9c0e18debaaa769b7ac0d05a4a472f4746/tests/test_ticking.py\n",
            "Row 1999: https://github.com/efe/zula/blob/6328eb9c0e18debaaa769b7ac0d05a4a472f4746/tests/test_ticking.py, Error fetching the file\n",
            "\n",
            "Error fetching the file: 404 Client Error: Not Found for url: https://raw.githubusercontent.com/efe/zula/6328eb9c0e18debaaa769b7ac0d05a4a472f4746/tests/test_ticking.py\n",
            "Row 2000: https://github.com/efe/zula/blob/6328eb9c0e18debaaa769b7ac0d05a4a472f4746/tests/test_ticking.py, Error fetching the file\n",
            "\n",
            "Error fetching the file: 404 Client Error: Not Found for url: https://raw.githubusercontent.com/efe/zula/6328eb9c0e18debaaa769b7ac0d05a4a472f4746/tests/test_uuid.py\n",
            "Row 2001: https://github.com/efe/zula/blob/6328eb9c0e18debaaa769b7ac0d05a4a472f4746/tests/test_uuid.py, Error fetching the file\n",
            "\n",
            "Error fetching the file: 404 Client Error: Not Found for url: https://raw.githubusercontent.com/efe/zula/6328eb9c0e18debaaa769b7ac0d05a4a472f4746/tests/test_xml.py\n",
            "Row 2002: https://github.com/efe/zula/blob/6328eb9c0e18debaaa769b7ac0d05a4a472f4746/tests/test_xml.py, Error fetching the file\n",
            "\n",
            "Error fetching the file: 404 Client Error: Not Found for url: https://raw.githubusercontent.com/efe/zula/6328eb9c0e18debaaa769b7ac0d05a4a472f4746/torchpwl/pwl_test.py\n",
            "Row 2003: https://github.com/efe/zula/blob/6328eb9c0e18debaaa769b7ac0d05a4a472f4746/torchpwl/pwl_test.py, Error fetching the file\n",
            "\n",
            "Error fetching the file: 404 Client Error: Not Found for url: https://raw.githubusercontent.com/efe/zula/6328eb9c0e18debaaa769b7ac0d05a4a472f4746/torchpwl/pwl_test.py\n",
            "Row 2004: https://github.com/efe/zula/blob/6328eb9c0e18debaaa769b7ac0d05a4a472f4746/torchpwl/pwl_test.py, Error fetching the file\n",
            "\n",
            "Error fetching the file: 404 Client Error: Not Found for url: https://raw.githubusercontent.com/efe/zula/6328eb9c0e18debaaa769b7ac0d05a4a472f4746/torchpwl/pwl_test.py\n",
            "Row 2005: https://github.com/efe/zula/blob/6328eb9c0e18debaaa769b7ac0d05a4a472f4746/torchpwl/pwl_test.py, Error fetching the file\n",
            "\n",
            "Error fetching the file: 404 Client Error: Not Found for url: https://raw.githubusercontent.com/efe/zula/6328eb9c0e18debaaa769b7ac0d05a4a472f4746/tests/test_database/test_memory_database_hypothesis.py\n",
            "Row 2006: https://github.com/efe/zula/blob/6328eb9c0e18debaaa769b7ac0d05a4a472f4746/tests/test_database/test_memory_database_hypothesis.py, Error fetching the file\n",
            "\n",
            "Error fetching the file: 404 Client Error: Not Found for url: https://raw.githubusercontent.com/efe/zula/6328eb9c0e18debaaa769b7ac0d05a4a472f4746/tests/unit/v0x04/test_controller2switch/test_flow_mod.py\n",
            "Row 2007: https://github.com/efe/zula/blob/6328eb9c0e18debaaa769b7ac0d05a4a472f4746/tests/unit/v0x04/test_controller2switch/test_flow_mod.py, Error fetching the file\n",
            "\n",
            "Error fetching the file: 404 Client Error: Not Found for url: https://raw.githubusercontent.com/efe/zula/6328eb9c0e18debaaa769b7ac0d05a4a472f4746/tests/test_missing_data_imputer.py\n",
            "Row 2008: https://github.com/efe/zula/blob/6328eb9c0e18debaaa769b7ac0d05a4a472f4746/tests/test_missing_data_imputer.py, Error fetching the file\n",
            "\n",
            "Error fetching the file: 404 Client Error: Not Found for url: https://raw.githubusercontent.com/efe/zula/6328eb9c0e18debaaa769b7ac0d05a4a472f4746/tests/test_mudobjects.py\n",
            "Row 2009: https://github.com/efe/zula/blob/6328eb9c0e18debaaa769b7ac0d05a4a472f4746/tests/test_mudobjects.py, Error fetching the file\n",
            "\n"
          ]
        }
      ]
    },
    {
      "cell_type": "code",
      "source": [
        "all_test_methods[0]"
      ],
      "metadata": {
        "colab": {
          "base_uri": "https://localhost:8080/"
        },
        "id": "_KdYGLS_KRmV",
        "outputId": "d720beda-c2a2-4253-919a-7191f32c79c4"
      },
      "execution_count": null,
      "outputs": [
        {
          "output_type": "execute_result",
          "data": {
            "text/plain": [
              "{'Row': 2,\n",
              " 'URL': 'https://github.com/nordwind80/BT-Tracker/blob/558c15b399871c1ca11d0c4ae1eb598e3060931e/Tracker/tests/test_event.py',\n",
              " 'Class': 'TestEvent',\n",
              " 'Test': 'test_object',\n",
              " 'Content': 'def test_object(self):\\n        assert id(status.state) == id(status.state)\\n\\n    '}"
            ]
          },
          "metadata": {},
          "execution_count": 11
        }
      ]
    },
    {
      "cell_type": "code",
      "source": [
        "len(all_test_methods)"
      ],
      "metadata": {
        "colab": {
          "base_uri": "https://localhost:8080/"
        },
        "id": "BQ3ZubCaMqHf",
        "outputId": "9efe3172-022a-4f9d-cd0a-2a264f91d99e"
      },
      "execution_count": null,
      "outputs": [
        {
          "output_type": "execute_result",
          "data": {
            "text/plain": [
              "1932"
            ]
          },
          "metadata": {},
          "execution_count": 12
        }
      ]
    },
    {
      "cell_type": "code",
      "source": [
        "filename = \"all_test_methods.csv\"\n",
        "with open(filename, mode=\"w\", newline=\"\") as file:\n",
        "  writer = csv.DictWriter(file, fieldnames=all_test_methods[0].keys())\n",
        "  writer.writeheader()\n",
        "  writer.writerows(all_test_methods)"
      ],
      "metadata": {
        "id": "ody7Rbh8Msgq"
      },
      "execution_count": null,
      "outputs": []
    }
  ]
}