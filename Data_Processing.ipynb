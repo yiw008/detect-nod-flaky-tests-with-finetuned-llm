{
  "nbformat": 4,
  "nbformat_minor": 0,
  "metadata": {
    "colab": {
      "provenance": [],
      "authorship_tag": "ABX9TyPB7PdxtDosbs7pTL0Otuud",
      "include_colab_link": true
    },
    "kernelspec": {
      "name": "python3",
      "display_name": "Python 3"
    },
    "language_info": {
      "name": "python"
    }
  },
  "cells": [
    {
      "cell_type": "markdown",
      "metadata": {
        "id": "view-in-github",
        "colab_type": "text"
      },
      "source": [
        "<a href=\"https://colab.research.google.com/github/yiw008/nondet-project/blob/main/Data_Processing.ipynb\" target=\"_parent\"><img src=\"https://colab.research.google.com/assets/colab-badge.svg\" alt=\"Open In Colab\"/></a>"
      ]
    },
    {
      "cell_type": "markdown",
      "source": [
        "# Data Processing"
      ],
      "metadata": {
        "id": "rnQ8pqo8sxoG"
      }
    },
    {
      "cell_type": "code",
      "execution_count": null,
      "metadata": {
        "id": "kMuJJfjGswEQ"
      },
      "outputs": [],
      "source": [
        "# Only use this code block if you are using Google Colab.\n",
        "# If you are using Jupyter Notebook, please ignore this code block. You can directly upload the file to your Jupyter Notebook file systems.\n",
        "from google.colab import files\n",
        "\n",
        "## It will prompt you to select a local file. Click on “Choose Files” then select and upload the file.\n",
        "## Wait for the file to be 100% uploaded. You should see the name of the file once Colab has uploaded it.\n",
        "uploaded = files.upload()"
      ]
    },
    {
      "cell_type": "code",
      "source": [
        "import json\n",
        "\n",
        "input_file = 'mydata.jsonl'\n",
        "\n",
        "with open(input_file, 'r') as file:\n",
        "  lines = file.readlines()\n",
        "\n",
        "cleaned_lines = []\n",
        "rec = ''\n",
        "for line in lines:\n",
        "  if line == '}\\n' or line == '}':\n",
        "    rec += line\n",
        "    cleaned_lines.append(rec)\n",
        "    rec = ''\n",
        "  elif line.endswith(']}\\n'):\n",
        "    cleaned_lines.append(line)\n",
        "  else:\n",
        "    rec += line.replace('\\n', '')"
      ],
      "metadata": {
        "id": "XCCQOENRtZ3B"
      },
      "execution_count": null,
      "outputs": []
    },
    {
      "cell_type": "code",
      "source": [
        "true_lines = []\n",
        "false_lines = []\n",
        "\n",
        "for line in cleaned_lines:\n",
        "  data = json.loads(line)\n",
        "  for message in data['messages']:\n",
        "    if message['role'] == 'assistant':\n",
        "      if message['content'] == 'True':\n",
        "        true_lines.append(json.dumps(data) + '\\n')\n",
        "      elif message['content'] == 'False':\n",
        "        false_lines.append(json.dumps(data) + '\\n')"
      ],
      "metadata": {
        "id": "uv3Zi9TwudtZ"
      },
      "execution_count": null,
      "outputs": []
    },
    {
      "cell_type": "code",
      "source": [
        "true_size = len(true_lines)\n",
        "false_size = len(false_lines)\n",
        "total_size = true_size + false_size\n",
        "half_training_size = min(int(total_size * 0.8 / 2), true_size, false_size)\n",
        "training_size = half_training_size * 2\n",
        "test_size = total_size - training_size"
      ],
      "metadata": {
        "id": "HnrT3zIdzGiu"
      },
      "execution_count": null,
      "outputs": []
    },
    {
      "cell_type": "code",
      "source": [
        "import random\n",
        "\n",
        "true_training_set = random.sample(true_lines, half_training_size)\n",
        "false_training_set = random.sample(false_lines, half_training_size)\n",
        "true_test_set = [line for line in true_lines if line not in true_training_set]\n",
        "false_test_set = [line for line in false_lines if line not in false_training_set]\n",
        "training_set = true_training_set + false_training_set\n",
        "test_set = true_test_set + false_test_set\n",
        "\n",
        "print(f'True in Training set: {len(true_training_set)}')\n",
        "print(f'False in Training set: {len(false_training_set)}')\n",
        "print(f'True in Test set: {len(true_test_set)}')\n",
        "print(f'False in Test set: {len(false_test_set)}')\n",
        "print(f'Total in Training set: {len(training_set)}')\n",
        "print(f'Total in Test set: {len(test_set)}')\n",
        "print(f'Total True: {len(true_lines)}')\n",
        "print(f'Total False: {len(false_lines)}')\n",
        "print(f'Total: {total_size}')"
      ],
      "metadata": {
        "colab": {
          "base_uri": "https://localhost:8080/"
        },
        "id": "U7IYA4_j2K7-",
        "outputId": "2722ab83-2672-4105-ab26-8b2e1aff7129"
      },
      "execution_count": null,
      "outputs": [
        {
          "output_type": "stream",
          "name": "stdout",
          "text": [
            "True in Training set: 5\n",
            "False in Training set: 5\n",
            "True in Test set: 5\n",
            "False in Test set: 0\n",
            "Total in Training set: 10\n",
            "Total in Test set: 5\n",
            "Total True: 10\n",
            "Total False: 5\n",
            "Total: 15\n"
          ]
        }
      ]
    },
    {
      "cell_type": "code",
      "source": [
        "with open('training_set.jsonl', 'w') as file:\n",
        "  file.writelines(training_set)\n",
        "\n",
        "with open('test_set.jsonl', 'w') as file:\n",
        "  file.writelines(test_set)"
      ],
      "metadata": {
        "id": "fWbS89-JE0Jq"
      },
      "execution_count": null,
      "outputs": []
    }
  ]
}