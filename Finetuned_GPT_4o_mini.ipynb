{
  "cells": [
    {
      "cell_type": "markdown",
      "metadata": {
        "id": "Vzsbbe12_bPz"
      },
      "source": [
        "# Finetuned GPT-4o-mini"
      ]
    },
    {
      "cell_type": "markdown",
      "source": [
        "## Preparation"
      ],
      "metadata": {
        "id": "x885odBj5Ilc"
      }
    },
    {
      "cell_type": "code",
      "execution_count": 1,
      "metadata": {
        "colab": {
          "base_uri": "https://localhost:8080/"
        },
        "collapsed": true,
        "id": "OxbHh80-_XaE",
        "outputId": "d96e913f-6595-430c-9420-ff5e31c9e9e6"
      },
      "outputs": [
        {
          "output_type": "stream",
          "name": "stdout",
          "text": [
            "Requirement already satisfied: openai in /usr/local/lib/python3.10/dist-packages (1.54.4)\n",
            "Collecting openai\n",
            "  Downloading openai-1.55.0-py3-none-any.whl.metadata (24 kB)\n",
            "Requirement already satisfied: anyio<5,>=3.5.0 in /usr/local/lib/python3.10/dist-packages (from openai) (3.7.1)\n",
            "Requirement already satisfied: distro<2,>=1.7.0 in /usr/local/lib/python3.10/dist-packages (from openai) (1.9.0)\n",
            "Requirement already satisfied: httpx<1,>=0.23.0 in /usr/local/lib/python3.10/dist-packages (from openai) (0.27.2)\n",
            "Requirement already satisfied: jiter<1,>=0.4.0 in /usr/local/lib/python3.10/dist-packages (from openai) (0.7.1)\n",
            "Requirement already satisfied: pydantic<3,>=1.9.0 in /usr/local/lib/python3.10/dist-packages (from openai) (2.9.2)\n",
            "Requirement already satisfied: sniffio in /usr/local/lib/python3.10/dist-packages (from openai) (1.3.1)\n",
            "Requirement already satisfied: tqdm>4 in /usr/local/lib/python3.10/dist-packages (from openai) (4.66.6)\n",
            "Requirement already satisfied: typing-extensions<5,>=4.11 in /usr/local/lib/python3.10/dist-packages (from openai) (4.12.2)\n",
            "Requirement already satisfied: idna>=2.8 in /usr/local/lib/python3.10/dist-packages (from anyio<5,>=3.5.0->openai) (3.10)\n",
            "Requirement already satisfied: exceptiongroup in /usr/local/lib/python3.10/dist-packages (from anyio<5,>=3.5.0->openai) (1.2.2)\n",
            "Requirement already satisfied: certifi in /usr/local/lib/python3.10/dist-packages (from httpx<1,>=0.23.0->openai) (2024.8.30)\n",
            "Requirement already satisfied: httpcore==1.* in /usr/local/lib/python3.10/dist-packages (from httpx<1,>=0.23.0->openai) (1.0.7)\n",
            "Requirement already satisfied: h11<0.15,>=0.13 in /usr/local/lib/python3.10/dist-packages (from httpcore==1.*->httpx<1,>=0.23.0->openai) (0.14.0)\n",
            "Requirement already satisfied: annotated-types>=0.6.0 in /usr/local/lib/python3.10/dist-packages (from pydantic<3,>=1.9.0->openai) (0.7.0)\n",
            "Requirement already satisfied: pydantic-core==2.23.4 in /usr/local/lib/python3.10/dist-packages (from pydantic<3,>=1.9.0->openai) (2.23.4)\n",
            "Downloading openai-1.55.0-py3-none-any.whl (389 kB)\n",
            "\u001b[2K   \u001b[90m━━━━━━━━━━━━━━━━━━━━━━━━━━━━━━━━━━━━━━━━\u001b[0m \u001b[32m389.5/389.5 kB\u001b[0m \u001b[31m4.2 MB/s\u001b[0m eta \u001b[36m0:00:00\u001b[0m\n",
            "\u001b[?25hInstalling collected packages: openai\n",
            "  Attempting uninstall: openai\n",
            "    Found existing installation: openai 1.54.4\n",
            "    Uninstalling openai-1.54.4:\n",
            "      Successfully uninstalled openai-1.54.4\n",
            "Successfully installed openai-1.55.0\n"
          ]
        }
      ],
      "source": [
        "!pip install --upgrade openai"
      ]
    },
    {
      "cell_type": "code",
      "execution_count": 2,
      "metadata": {
        "id": "QxKJgwWE_eWh"
      },
      "outputs": [],
      "source": [
        "import time\n",
        "import json\n",
        "import os\n",
        "from openai import OpenAI\n",
        "from sklearn.metrics import confusion_matrix, accuracy_score, precision_score, f1_score, recall_score"
      ]
    },
    {
      "cell_type": "code",
      "source": [
        "if not os.path.exists(\"data\"):\n",
        "  !pip install github-clone\n",
        "  !ghclone https://github.com/yiw008/nondet-project/tree/main/data"
      ],
      "metadata": {
        "id": "x6yMhZPAx56a",
        "colab": {
          "base_uri": "https://localhost:8080/"
        },
        "outputId": "d799ebd3-4c60-4d2c-bf5c-a6c4bdffa2a5"
      },
      "execution_count": 3,
      "outputs": [
        {
          "output_type": "stream",
          "name": "stdout",
          "text": [
            "Collecting github-clone\n",
            "  Downloading github_clone-1.2.0-py3-none-any.whl.metadata (3.7 kB)\n",
            "Requirement already satisfied: requests>=2.20.0 in /usr/local/lib/python3.10/dist-packages (from github-clone) (2.32.3)\n",
            "Collecting docopt>=0.6.2 (from github-clone)\n",
            "  Downloading docopt-0.6.2.tar.gz (25 kB)\n",
            "  Preparing metadata (setup.py) ... \u001b[?25l\u001b[?25hdone\n",
            "Requirement already satisfied: charset-normalizer<4,>=2 in /usr/local/lib/python3.10/dist-packages (from requests>=2.20.0->github-clone) (3.4.0)\n",
            "Requirement already satisfied: idna<4,>=2.5 in /usr/local/lib/python3.10/dist-packages (from requests>=2.20.0->github-clone) (3.10)\n",
            "Requirement already satisfied: urllib3<3,>=1.21.1 in /usr/local/lib/python3.10/dist-packages (from requests>=2.20.0->github-clone) (2.2.3)\n",
            "Requirement already satisfied: certifi>=2017.4.17 in /usr/local/lib/python3.10/dist-packages (from requests>=2.20.0->github-clone) (2024.8.30)\n",
            "Downloading github_clone-1.2.0-py3-none-any.whl (9.1 kB)\n",
            "Building wheels for collected packages: docopt\n",
            "  Building wheel for docopt (setup.py) ... \u001b[?25l\u001b[?25hdone\n",
            "  Created wheel for docopt: filename=docopt-0.6.2-py2.py3-none-any.whl size=13706 sha256=459559035a5643e2b7de5f8265fa34857264ffc898cc7a2526729a2e7b8e611a\n",
            "  Stored in directory: /root/.cache/pip/wheels/fc/ab/d4/5da2067ac95b36618c629a5f93f809425700506f72c9732fac\n",
            "Successfully built docopt\n",
            "Installing collected packages: docopt, github-clone\n",
            "Successfully installed docopt-0.6.2 github-clone-1.2.0\n",
            "Cloning into 'data'...\n",
            "done.\n"
          ]
        }
      ]
    },
    {
      "cell_type": "code",
      "execution_count": 4,
      "metadata": {
        "id": "mZjHL_5oDdOD"
      },
      "outputs": [],
      "source": [
        "def str_to_bool(string):\n",
        "  if string == \"True\":\n",
        "    return True\n",
        "  elif string == \"False\":\n",
        "    return False\n",
        "  return False"
      ]
    },
    {
      "cell_type": "code",
      "execution_count": 5,
      "metadata": {
        "id": "GmQl17p7_l6F"
      },
      "outputs": [],
      "source": [
        "api_key = \"\" # TODO\n",
        "os.environ['OPENAI_API_KEY'] = api_key"
      ]
    },
    {
      "cell_type": "code",
      "execution_count": 6,
      "metadata": {
        "id": "S88BK4IN_mPB"
      },
      "outputs": [],
      "source": [
        "client = OpenAI()\n",
        "our_model = \"gpt-4o-mini-2024-07-18\""
      ]
    },
    {
      "cell_type": "code",
      "source": [
        "def test_project(project_name):\n",
        "  print(f\"Test project: {project_name}\")\n",
        "  test_set = []\n",
        "  y_test = []\n",
        "  with open(f\"data/{project_name}/test_set.jsonl\", \"r\") as file:\n",
        "    for line in file:\n",
        "      data = json.loads(line)\n",
        "      test_set.append(data['messages'])\n",
        "      y_test.append(str_to_bool(data['messages'][2]['content']))\n",
        "\n",
        "  training_response = client.files.create(\n",
        "    file=open(f\"data/{project_name}/training_set.jsonl\", \"rb\"),\n",
        "    purpose=\"fine-tune\"\n",
        "  )\n",
        "  training_file_id = training_response.id\n",
        "\n",
        "  validation_response = client.files.create(\n",
        "    file=open(f\"data/{project_name}/validation_set.jsonl\", \"rb\"),\n",
        "    purpose=\"fine-tune\"\n",
        "  )\n",
        "  validation_file_id = validation_response.id\n",
        "\n",
        "  start = time.time()\n",
        "\n",
        "  fine_tuning_job_response = client.fine_tuning.jobs.create(\n",
        "    training_file=training_file_id,\n",
        "    validation_file=validation_file_id,\n",
        "    model=our_model\n",
        "  )\n",
        "\n",
        "  fine_tuning_job_id = fine_tuning_job_response.id\n",
        "  print(f\"Fine tuning job ID: {fine_tuning_job_id}\")\n",
        "\n",
        "  status = client.fine_tuning.jobs.retrieve(fine_tuning_job_id)\n",
        "  while status.status not in [\"succeeded\", \"failed\"]:\n",
        "    time.sleep(1)\n",
        "    status = client.fine_tuning.jobs.retrieve(fine_tuning_job_id)\n",
        "\n",
        "  end = time.time()\n",
        "  print(f\"Finetuning time (Not accurate): {end - start:.4f} seconds\")\n",
        "\n",
        "  status = client.fine_tuning.jobs.retrieve(fine_tuning_job_id)\n",
        "  print(f\"Status: {status}\")\n",
        "  print(f\"Created at: {status.created_at}\")\n",
        "  print(f\"Finished at: {status.finished_at}\")\n",
        "  print(f\"Hyperparams: {status.hyperparameters}\")\n",
        "\n",
        "  fine_tuned_model = status.fine_tuned_model\n",
        "\n",
        "  y_pred = []\n",
        "  start = time.time()\n",
        "\n",
        "  for i in range(len(test_set)):\n",
        "    completion = client.chat.completions.create(\n",
        "      model=fine_tuned_model,\n",
        "      messages=test_set[i]\n",
        "    )\n",
        "    y_pred.append(str_to_bool(completion.choices[0].message.content))\n",
        "\n",
        "  end = time.time()\n",
        "  print(f\"Testing time: {end - start:.4f} seconds\")\n",
        "\n",
        "  print(\"Y_test:\")\n",
        "  print(y_test)\n",
        "  print(\"Y_pred:\")\n",
        "  print(y_pred)\n",
        "\n",
        "  confusion_matrix_res = confusion_matrix(y_test, y_pred, labels=[False, True])\n",
        "  print(\"Confusion Matrix:\")\n",
        "  print(confusion_matrix_res)\n",
        "\n",
        "  accuracy = accuracy_score(y_test, y_pred)\n",
        "  print(f\"Accuracy: {accuracy}\")\n",
        "\n",
        "  precision = precision_score(y_test, y_pred)\n",
        "  print(f\"Precision: {precision}\")\n",
        "\n",
        "  f1 = f1_score(y_test, y_pred)\n",
        "  print(f\"F1 Score: {f1}\")\n",
        "\n",
        "  recall = recall_score(y_test, y_pred)\n",
        "  print(f\"Recall: {recall}\")"
      ],
      "metadata": {
        "id": "ndlH4nrsyev9"
      },
      "execution_count": 7,
      "outputs": []
    },
    {
      "cell_type": "markdown",
      "source": [
        "## Let's Go"
      ],
      "metadata": {
        "id": "3bvbWdun4CHc"
      }
    },
    {
      "cell_type": "code",
      "source": [
        "test_project(\"Butter.MAS.PythonAPI\")"
      ],
      "metadata": {
        "colab": {
          "base_uri": "https://localhost:8080/"
        },
        "id": "c2k2gEam2hHt",
        "outputId": "5cbb37e4-e499-413a-e819-8a3c48f47025"
      },
      "execution_count": 8,
      "outputs": [
        {
          "output_type": "stream",
          "name": "stdout",
          "text": [
            "Test project: Butter.MAS.PythonAPI\n",
            "Fine tuning job ID: ftjob-7yHUjnEilc8IPH4E0tIgCQyB\n",
            "Finetuning time (Not accurate): 2804.7684 seconds\n",
            "Status: FineTuningJob(id='ftjob-7yHUjnEilc8IPH4E0tIgCQyB', created_at=1732168457, error=Error(code=None, message=None, param=None), fine_tuned_model='ft:gpt-4o-mini-2024-07-18:personal::AVv9xOpN', finished_at=1732171251, hyperparameters=Hyperparameters(n_epochs=3, batch_size=1, learning_rate_multiplier=1.8), model='gpt-4o-mini-2024-07-18', object='fine_tuning.job', organization_id='org-tI0WpKootnbW2KXQbHxLn75u', result_files=['file-vaBmMlmDPam16AGEsONhdkRL'], seed=601102525, status='succeeded', trained_tokens=294717, training_file='file-JnNiarLmzoW0tuwY7GpIJcEC', validation_file='file-s2SuhUhH2vonFTLQ4FIRBLTm', estimated_finish=None, integrations=[], user_provided_suffix=None)\n",
            "Created at: 1732168457\n",
            "Finished at: 1732171251\n",
            "Hyperparams: Hyperparameters(n_epochs=3, batch_size=1, learning_rate_multiplier=1.8)\n",
            "Testing time: 93.3191 seconds\n",
            "Y_test:\n",
            "[True, True, True, True, True, True, True, True, True, True, True, True, True, True, True, True, True, True, True, True, True, True, True, True, True, True, True, True, True, True, True, True, True, True, True, True, True, True, True, True, True, True, True, True, True, True, True, True, True, True, True, True, True]\n",
            "Y_pred:\n",
            "[True, True, True, True, True, True, True, True, True, True, True, True, True, True, True, True, True, True, True, True, True, True, True, True, True, True, True, True, True, True, True, True, True, True, True, True, True, True, True, True, True, True, True, True, True, True, True, True, True, True, True, True, True]\n",
            "Confusion Matrix:\n",
            "[[ 0  0]\n",
            " [ 0 53]]\n",
            "Accuracy: 1.0\n",
            "Precision: 1.0\n",
            "F1 Score: 1.0\n",
            "Recall: 1.0\n"
          ]
        }
      ]
    },
    {
      "cell_type": "code",
      "source": [
        "test_project(\"centreon-sdk-python\")"
      ],
      "metadata": {
        "colab": {
          "base_uri": "https://localhost:8080/"
        },
        "id": "onZormhr2lVw",
        "outputId": "ba43250d-b696-4425-dbf3-377fd7ff95f6"
      },
      "execution_count": 9,
      "outputs": [
        {
          "output_type": "stream",
          "name": "stdout",
          "text": [
            "Test project: centreon-sdk-python\n",
            "Fine tuning job ID: ftjob-W5jvFbS0W1rijcFw8T29BpR4\n",
            "Finetuning time (Not accurate): 2528.4124 seconds\n",
            "Status: FineTuningJob(id='ftjob-W5jvFbS0W1rijcFw8T29BpR4', created_at=1732171363, error=Error(code=None, message=None, param=None), fine_tuned_model='ft:gpt-4o-mini-2024-07-18:personal::AVvqOUMR', finished_at=1732173883, hyperparameters=Hyperparameters(n_epochs=3, batch_size=1, learning_rate_multiplier=1.8), model='gpt-4o-mini-2024-07-18', object='fine_tuning.job', organization_id='org-tI0WpKootnbW2KXQbHxLn75u', result_files=['file-j0Z8jK9IuthgVBQscpF0wqT1'], seed=201443963, status='succeeded', trained_tokens=289179, training_file='file-OprmnZoIaVAhfSnJnGYm9K2p', validation_file='file-vXYaY0gc1iGfLxhgHORtmMOR', estimated_finish=None, integrations=[], user_provided_suffix=None)\n",
            "Created at: 1732171363\n",
            "Finished at: 1732173883\n",
            "Hyperparams: Hyperparameters(n_epochs=3, batch_size=1, learning_rate_multiplier=1.8)\n",
            "Testing time: 77.1901 seconds\n",
            "Y_test:\n",
            "[True, True, True, True, True, True, True, True, True, True, True, True, True, True, True, True, True, True, True, True, True, True, True, True, True, True, True, True, True, True, True, True, True, True, True, True, True, True, True, True, True]\n",
            "Y_pred:\n",
            "[True, True, False, True, True, True, True, True, True, True, True, True, True, True, True, True, True, True, True, True, True, True, True, True, True, True, True, True, True, True, True, True, True, False, True, True, True, True, False, True, True]\n",
            "Confusion Matrix:\n",
            "[[ 0  0]\n",
            " [ 3 38]]\n",
            "Accuracy: 0.926829268292683\n",
            "Precision: 1.0\n",
            "F1 Score: 0.9620253164556962\n",
            "Recall: 0.926829268292683\n"
          ]
        }
      ]
    },
    {
      "cell_type": "code",
      "source": [
        "test_project(\"cloudnetpy\")"
      ],
      "metadata": {
        "colab": {
          "base_uri": "https://localhost:8080/"
        },
        "id": "nJxoyNrf2yHC",
        "outputId": "cddb5380-9a41-4cdf-e931-76e6e2147d50"
      },
      "execution_count": 10,
      "outputs": [
        {
          "output_type": "stream",
          "name": "stdout",
          "text": [
            "Test project: cloudnetpy\n",
            "Fine tuning job ID: ftjob-00Ps7cdUyyQY8hfZChXJ1QMJ\n",
            "Finetuning time (Not accurate): 2442.3035 seconds\n",
            "Status: FineTuningJob(id='ftjob-00Ps7cdUyyQY8hfZChXJ1QMJ', created_at=1732173970, error=Error(code=None, message=None, param=None), fine_tuned_model='ft:gpt-4o-mini-2024-07-18:personal::AVwV2kcT', finished_at=1732176402, hyperparameters=Hyperparameters(n_epochs=3, batch_size=1, learning_rate_multiplier=1.8), model='gpt-4o-mini-2024-07-18', object='fine_tuning.job', organization_id='org-tI0WpKootnbW2KXQbHxLn75u', result_files=['file-7DFHL46jiI00zlZIKBSu9gyf'], seed=1690680030, status='succeeded', trained_tokens=284091, training_file='file-aMO0mFiRSe8PAKx86lJoxqfZ', validation_file='file-X1y58cSQ6PmFDJMUTPRKXAHC', estimated_finish=None, integrations=[], user_provided_suffix=None)\n",
            "Created at: 1732173970\n",
            "Finished at: 1732176402\n",
            "Hyperparams: Hyperparameters(n_epochs=3, batch_size=1, learning_rate_multiplier=1.8)\n",
            "Testing time: 74.3200 seconds\n",
            "Y_test:\n",
            "[True, True, True, True, True, True, True, True, True, True, True, True, True, True, True, True, True, True, True, True, True, True, True, True, True, True, True, True, True, True, True, True, True, True, True, True, True, True, True, True, True, True, True, True, True, True, True, True, True, True, True]\n",
            "Y_pred:\n",
            "[True, True, True, True, True, True, True, True, True, True, True, True, True, True, True, True, True, True, True, True, True, True, True, True, True, True, True, True, True, True, True, True, True, True, True, True, True, True, True, True, True, True, True, True, True, True, True, True, True, True, True]\n",
            "Confusion Matrix:\n",
            "[[ 0  0]\n",
            " [ 0 51]]\n",
            "Accuracy: 1.0\n",
            "Precision: 1.0\n",
            "F1 Score: 1.0\n",
            "Recall: 1.0\n"
          ]
        }
      ]
    },
    {
      "cell_type": "code",
      "source": [
        "test_project(\"crom\")"
      ],
      "metadata": {
        "colab": {
          "base_uri": "https://localhost:8080/"
        },
        "id": "_2s4iQym20jO",
        "outputId": "150056f7-c56d-4792-f1c1-28352617f34f"
      },
      "execution_count": 11,
      "outputs": [
        {
          "output_type": "stream",
          "name": "stdout",
          "text": [
            "Test project: crom\n",
            "Fine tuning job ID: ftjob-75TCWATlBiDek1kUs7Y5hGhz\n",
            "Finetuning time (Not accurate): 2555.8389 seconds\n",
            "Status: FineTuningJob(id='ftjob-75TCWATlBiDek1kUs7Y5hGhz', created_at=1732176488, error=Error(code=None, message=None, param=None), fine_tuned_model='ft:gpt-4o-mini-2024-07-18:personal::AVxBUEos', finished_at=1732179035, hyperparameters=Hyperparameters(n_epochs=3, batch_size=1, learning_rate_multiplier=1.8), model='gpt-4o-mini-2024-07-18', object='fine_tuning.job', organization_id='org-tI0WpKootnbW2KXQbHxLn75u', result_files=['file-RCRgE4Z3S4zWwxbwoVxdYRup'], seed=1135616795, status='succeeded', trained_tokens=283569, training_file='file-kykOzvvwttp47Hn5AcRPomGg', validation_file='file-Gu69RFZZ6aJrZebefcG8UPA5', estimated_finish=None, integrations=[], user_provided_suffix=None)\n",
            "Created at: 1732176488\n",
            "Finished at: 1732179035\n",
            "Hyperparams: Hyperparameters(n_epochs=3, batch_size=1, learning_rate_multiplier=1.8)\n",
            "Testing time: 83.2016 seconds\n",
            "Y_test:\n",
            "[True, True, True, True, True, True, True, True, True, True, True, True, True, True, True, True, True, True, True, True, True, True, True, True, True, True, True, True, True, True, True, True, True, True, True, True, True, True]\n",
            "Y_pred:\n",
            "[True, True, True, True, True, True, True, True, True, True, True, True, True, True, True, True, True, True, True, True, True, True, True, True, True, True, True, True, True, True, True, True, True, True, True, True, True, True]\n",
            "Confusion Matrix:\n",
            "[[ 0  0]\n",
            " [ 0 38]]\n",
            "Accuracy: 1.0\n",
            "Precision: 1.0\n",
            "F1 Score: 1.0\n",
            "Recall: 1.0\n"
          ]
        }
      ]
    },
    {
      "cell_type": "code",
      "source": [
        "test_project(\"easypy\")"
      ],
      "metadata": {
        "colab": {
          "base_uri": "https://localhost:8080/"
        },
        "id": "x4qlFACs22V8",
        "outputId": "bdf93723-0141-44c2-ea56-7c9024ac9cb5"
      },
      "execution_count": 12,
      "outputs": [
        {
          "output_type": "stream",
          "name": "stdout",
          "text": [
            "Test project: easypy\n",
            "Fine tuning job ID: ftjob-d7xVHZ9PFvow8pQ85tiJ7yug\n",
            "Finetuning time (Not accurate): 2552.7743 seconds\n",
            "Status: FineTuningJob(id='ftjob-d7xVHZ9PFvow8pQ85tiJ7yug', created_at=1732179129, error=Error(code=None, message=None, param=None), fine_tuned_model='ft:gpt-4o-mini-2024-07-18:personal::AVxs1lZn', finished_at=1732181671, hyperparameters=Hyperparameters(n_epochs=3, batch_size=1, learning_rate_multiplier=1.8), model='gpt-4o-mini-2024-07-18', object='fine_tuning.job', organization_id='org-tI0WpKootnbW2KXQbHxLn75u', result_files=['file-dqqSa1EdqwXthNW1K3rS5d6h'], seed=1903473815, status='succeeded', trained_tokens=295728, training_file='file-El53NfJim5olnWpgEb6ay6D6', validation_file='file-V8ibALyUaTQhkl4Ao3Y8tyfU', estimated_finish=None, integrations=[], user_provided_suffix=None)\n",
            "Created at: 1732179129\n",
            "Finished at: 1732181671\n",
            "Hyperparams: Hyperparameters(n_epochs=3, batch_size=1, learning_rate_multiplier=1.8)\n",
            "Testing time: 76.2123 seconds\n",
            "Y_test:\n",
            "[True, True, True, True, True, True, True, True, True, True, True, True, True, True, True, True, True, True, True, True, True, True, True, True, True, True, True, True, True, True, True, True, True, True, True, True, True, True, True, True, True, True, True, True]\n",
            "Y_pred:\n",
            "[False, True, False, False, False, True, True, True, True, True, False, True, False, True, False, False, False, True, True, False, True, True, True, True, False, False, False, False, False, False, False, True, True, True, True, True, True, True, True, True, False, True, True, True]\n",
            "Confusion Matrix:\n",
            "[[ 0  0]\n",
            " [18 26]]\n",
            "Accuracy: 0.5909090909090909\n",
            "Precision: 1.0\n",
            "F1 Score: 0.7428571428571429\n",
            "Recall: 0.5909090909090909\n"
          ]
        }
      ]
    },
    {
      "cell_type": "code",
      "source": [
        "test_project(\"eppy\")"
      ],
      "metadata": {
        "colab": {
          "base_uri": "https://localhost:8080/"
        },
        "id": "kBB_nmRz24BR",
        "outputId": "fc34284d-ab88-4fec-8c8b-31fdc4ecbdcb"
      },
      "execution_count": 13,
      "outputs": [
        {
          "output_type": "stream",
          "name": "stdout",
          "text": [
            "Test project: eppy\n",
            "Fine tuning job ID: ftjob-jKUWMTmPgaCHp9gx7ncO3v2c\n",
            "Finetuning time (Not accurate): 2261.1824 seconds\n",
            "Status: FineTuningJob(id='ftjob-jKUWMTmPgaCHp9gx7ncO3v2c', created_at=1732181760, error=Error(code=None, message=None, param=None), fine_tuned_model='ft:gpt-4o-mini-2024-07-18:personal::AVyTl1hu', finished_at=1732184011, hyperparameters=Hyperparameters(n_epochs=3, batch_size=1, learning_rate_multiplier=1.8), model='gpt-4o-mini-2024-07-18', object='fine_tuning.job', organization_id='org-tI0WpKootnbW2KXQbHxLn75u', result_files=['file-dcpFtN7YQa3qgsQd7KVZZ0lE'], seed=1816702908, status='succeeded', trained_tokens=229578, training_file='file-SoZDe9KcVudGTYUFXTONkg2V', validation_file='file-fTiE0GHe75nPaI2ExJJoh5I4', estimated_finish=None, integrations=[], user_provided_suffix=None)\n",
            "Created at: 1732181760\n",
            "Finished at: 1732184011\n",
            "Hyperparams: Hyperparameters(n_epochs=3, batch_size=1, learning_rate_multiplier=1.8)\n",
            "Testing time: 105.0615 seconds\n",
            "Y_test:\n",
            "[True, True, True, True, True, True, True, True, True, True, True, True, True, True, True, True, True, True, True, True, True, True, True, True, True, True, True, True, True, True, True, True, True, True, True, True, True, True, True, True, True, True, True, True, True, True, True, True, True, True, True, True, True, True, True, True, True, True, True, True, True, True, True, True, True, True, True, True, True, True, True, True, True, True, True, True, True, True, True, True, True, True, True, True]\n",
            "Y_pred:\n",
            "[True, True, True, True, True, True, True, True, True, True, True, True, True, True, True, True, True, True, True, True, True, True, True, True, True, True, True, True, True, True, True, True, True, True, True, True, True, True, True, True, True, True, True, True, True, True, True, True, True, False, True, True, True, True, True, True, False, False, False, False, True, True, True, True, True, True, True, True, True, True, True, True, True, True, True, True, True, True, True, True, True, True, True, True]\n",
            "Confusion Matrix:\n",
            "[[ 0  0]\n",
            " [ 5 79]]\n",
            "Accuracy: 0.9404761904761905\n",
            "Precision: 1.0\n",
            "F1 Score: 0.9693251533742331\n",
            "Recall: 0.9404761904761905\n"
          ]
        }
      ]
    },
    {
      "cell_type": "code",
      "source": [
        "test_project(\"reframe\")"
      ],
      "metadata": {
        "colab": {
          "base_uri": "https://localhost:8080/"
        },
        "id": "yGR4iPBS25sS",
        "outputId": "2c927d6a-c3d2-4b39-f6f7-ccb8f444a9bd"
      },
      "execution_count": 14,
      "outputs": [
        {
          "output_type": "stream",
          "name": "stdout",
          "text": [
            "Test project: reframe\n",
            "Fine tuning job ID: ftjob-cqg49ZGiMy1wZLaDlKGqiBVp\n",
            "Finetuning time (Not accurate): 2601.3983 seconds\n",
            "Status: FineTuningJob(id='ftjob-cqg49ZGiMy1wZLaDlKGqiBVp', created_at=1732184127, error=Error(code=None, message=None, param=None), fine_tuned_model='ft:gpt-4o-mini-2024-07-18:personal::AVzBQunL', finished_at=1732186719, hyperparameters=Hyperparameters(n_epochs=3, batch_size=1, learning_rate_multiplier=1.8), model='gpt-4o-mini-2024-07-18', object='fine_tuning.job', organization_id='org-tI0WpKootnbW2KXQbHxLn75u', result_files=['file-5YFO520cGqmDFTbl88gL7EHq'], seed=1326295836, status='succeeded', trained_tokens=219150, training_file='file-Vw3TC5pGxFnQ67iUIK4xZ2DR', validation_file='file-0h2YU2LA4oEg5ME5ZQsKeBSO', estimated_finish=None, integrations=[], user_provided_suffix=None)\n",
            "Created at: 1732184127\n",
            "Finished at: 1732186719\n",
            "Hyperparams: Hyperparameters(n_epochs=3, batch_size=1, learning_rate_multiplier=1.8)\n",
            "Testing time: 168.6802 seconds\n",
            "Y_test:\n",
            "[True, True, True, True, True, True, True, True, False, False, False, False, True, False, False, False, False, False, False, False, False, False, True, False, False, False, False, False, False, False, False, True, False, False, False, False, False, True, False, False, False, False, True, True, True, True, True, True, True, True, True, True, True, True, True, True, False, False, True, True, True, True, True, True, True, True, False, True, False, True, True, False, True, True, True, False, False, False, True, True, True, True, True, True, False, True, True, True, True, True, True, False, False, True, True, True, True, False, True, True, True, True, True, True, True, True, True, True, True, False, True, True, True, True, True, True, True, True, True, True, True, True, True, False, True, False, True, True, True, True, True, True, False, True, True, True, True, True, False, True, True, True, False, True, True, True, True, True, True, True, True, True, True, True, False, False, True, True, True, True, True, True, True, False, True, True, True, True, True, True, True, True, True, True, True, True, False, True, True, True, False, True, True, True, True, True, True, True, True]\n",
            "Y_pred:\n",
            "[True, True, True, True, True, True, True, True, True, True, True, True, False, True, True, True, True, True, True, True, True, True, True, True, False, False, True, True, True, True, True, True, True, True, True, True, True, True, True, True, True, True, True, True, True, True, True, True, True, True, True, True, True, True, True, True, True, False, True, True, True, True, True, True, True, True, True, True, True, True, True, True, True, True, True, True, True, True, True, True, True, True, True, True, False, True, True, True, True, True, True, True, True, True, True, True, True, True, True, True, True, True, True, True, True, True, True, True, True, True, True, True, True, True, True, True, True, True, True, True, True, True, True, True, True, True, True, True, True, True, True, True, True, True, True, True, True, True, True, True, True, True, True, True, True, True, True, True, True, True, True, True, True, True, True, True, True, True, True, True, True, True, True, False, True, True, True, True, True, True, True, True, True, True, True, True, False, True, True, True, False, True, True, True, True, True, True, True, True]\n",
            "Confusion Matrix:\n",
            "[[  7  46]\n",
            " [  1 135]]\n",
            "Accuracy: 0.7513227513227513\n",
            "Precision: 0.7458563535911602\n",
            "F1 Score: 0.8517350157728707\n",
            "Recall: 0.9926470588235294\n"
          ]
        }
      ]
    },
    {
      "cell_type": "code",
      "source": [
        "test_project(\"region_cache\")"
      ],
      "metadata": {
        "colab": {
          "base_uri": "https://localhost:8080/"
        },
        "id": "PWNGsC6d29KH",
        "outputId": "e4955c0f-9e4d-4667-c907-70446198405b"
      },
      "execution_count": 15,
      "outputs": [
        {
          "output_type": "stream",
          "name": "stdout",
          "text": [
            "Test project: region_cache\n",
            "Fine tuning job ID: ftjob-wV63Mgp9iK8kwRLy9CGNLzZS\n",
            "Finetuning time (Not accurate): 3056.8858 seconds\n",
            "Status: FineTuningJob(id='ftjob-wV63Mgp9iK8kwRLy9CGNLzZS', created_at=1732186899, error=Error(code=None, message=None, param=None), fine_tuned_model='ft:gpt-4o-mini-2024-07-18:personal::AW01UyNq', finished_at=1732189946, hyperparameters=Hyperparameters(n_epochs=3, batch_size=1, learning_rate_multiplier=1.8), model='gpt-4o-mini-2024-07-18', object='fine_tuning.job', organization_id='org-tI0WpKootnbW2KXQbHxLn75u', result_files=['file-sgPFnxND8uGLqBIRtdftICKM'], seed=103980102, status='succeeded', trained_tokens=322299, training_file='file-goQryNg1aGEnTPxrsHvuXnRr', validation_file='file-oXawGQZRyeBtzAo5Mk68hO1M', estimated_finish=None, integrations=[], user_provided_suffix=None)\n",
            "Created at: 1732186899\n",
            "Finished at: 1732189946\n",
            "Hyperparams: Hyperparameters(n_epochs=3, batch_size=1, learning_rate_multiplier=1.8)\n",
            "Testing time: 93.1479 seconds\n",
            "Y_test:\n",
            "[False, False, False, False, False, False, False, False, False, False, False, False, False, False, False, False, False, False, False, False, False, False, False, False, False, False, False, False, False, False, False, False, False, False, False, False, False]\n",
            "Y_pred:\n",
            "[True, True, True, True, True, True, True, False, True, True, True, True, False, True, True, True, True, True, True, True, True, True, True, True, True, True, False, True, True, True, False, False, True, True, True, False, False]\n",
            "Confusion Matrix:\n",
            "[[ 7 30]\n",
            " [ 0  0]]\n",
            "Accuracy: 0.1891891891891892\n",
            "Precision: 0.0\n",
            "F1 Score: 0.0\n",
            "Recall: 0.0\n"
          ]
        },
        {
          "output_type": "stream",
          "name": "stderr",
          "text": [
            "/usr/local/lib/python3.10/dist-packages/sklearn/metrics/_classification.py:1531: UndefinedMetricWarning: Recall is ill-defined and being set to 0.0 due to no true samples. Use `zero_division` parameter to control this behavior.\n",
            "  _warn_prf(average, modifier, f\"{metric.capitalize()} is\", len(result))\n"
          ]
        }
      ]
    },
    {
      "cell_type": "code",
      "source": [
        "test_project(\"taxi\")"
      ],
      "metadata": {
        "colab": {
          "base_uri": "https://localhost:8080/"
        },
        "id": "y4sACDHx2_z0",
        "outputId": "c0a5b70e-0e51-4575-cf56-bf6193fed688"
      },
      "execution_count": 16,
      "outputs": [
        {
          "output_type": "stream",
          "name": "stdout",
          "text": [
            "Test project: taxi\n",
            "Fine tuning job ID: ftjob-V2rlWevRrMrQhK5EsOzqENEa\n",
            "Finetuning time (Not accurate): 3105.0516 seconds\n",
            "Status: FineTuningJob(id='ftjob-V2rlWevRrMrQhK5EsOzqENEa', created_at=1732190051, error=Error(code=None, message=None, param=None), fine_tuned_model='ft:gpt-4o-mini-2024-07-18:personal::AW0r6xO7', finished_at=1732193145, hyperparameters=Hyperparameters(n_epochs=3, batch_size=1, learning_rate_multiplier=1.8), model='gpt-4o-mini-2024-07-18', object='fine_tuning.job', organization_id='org-tI0WpKootnbW2KXQbHxLn75u', result_files=['file-rtQu4AGmIv1Mf6XgtfBGAtjy'], seed=475467753, status='succeeded', trained_tokens=327954, training_file='file-kBGQcPmDGlrgMfECHxhcETpM', validation_file='file-oq6kaPBzrYmB1i5cKGLNiYPM', estimated_finish=None, integrations=[], user_provided_suffix=None)\n",
            "Created at: 1732190051\n",
            "Finished at: 1732193145\n",
            "Hyperparams: Hyperparameters(n_epochs=3, batch_size=1, learning_rate_multiplier=1.8)\n",
            "Testing time: 102.2989 seconds\n",
            "Y_test:\n",
            "[False, False, False, False, False, False, False, False, False, False, False, False, False, False, False, False, False, False, False, False, False, False, False, False, False, False, False, False, False, False, False, False, False, False, False, False, False, False, False, False, False, False, False, False, False, False, False, False, False, False, False, False, False, False, False, False, False, False, False, False, False, False, False, False, False, False, False, False, False, False, False, False, False, False, False, False, False]\n",
            "Y_pred:\n",
            "[True, True, True, True, True, True, True, True, True, True, False, True, False, True, True, True, True, False, True, True, True, True, True, False, True, True, False, True, False, False, True, True, False, False, False, False, False, False, True, True, False, True, True, True, True, False, True, True, False, False, True, False, False, True, True, True, False, False, True, True, True, False, True, True, True, True, True, False, True, False, False, True, False, False, False, True, True]\n",
            "Confusion Matrix:\n",
            "[[28 49]\n",
            " [ 0  0]]\n",
            "Accuracy: 0.36363636363636365\n",
            "Precision: 0.0\n",
            "F1 Score: 0.0\n",
            "Recall: 0.0\n"
          ]
        },
        {
          "output_type": "stream",
          "name": "stderr",
          "text": [
            "/usr/local/lib/python3.10/dist-packages/sklearn/metrics/_classification.py:1531: UndefinedMetricWarning: Recall is ill-defined and being set to 0.0 due to no true samples. Use `zero_division` parameter to control this behavior.\n",
            "  _warn_prf(average, modifier, f\"{metric.capitalize()} is\", len(result))\n"
          ]
        }
      ]
    },
    {
      "cell_type": "code",
      "source": [
        "test_project(\"wkr.py\")"
      ],
      "metadata": {
        "colab": {
          "base_uri": "https://localhost:8080/"
        },
        "id": "oO7HHKta3ByJ",
        "outputId": "261e3366-5327-46bf-fa95-5c515e5e42b8"
      },
      "execution_count": 17,
      "outputs": [
        {
          "output_type": "stream",
          "name": "stdout",
          "text": [
            "Test project: wkr.py\n",
            "Fine tuning job ID: ftjob-LVH2umE52I1kLIum4EHvXkGD\n",
            "Finetuning time (Not accurate): 3096.9523 seconds\n",
            "Status: FineTuningJob(id='ftjob-LVH2umE52I1kLIum4EHvXkGD', created_at=1732193261, error=Error(code=None, message=None, param=None), fine_tuned_model='ft:gpt-4o-mini-2024-07-18:personal::AW1gi3yt', finished_at=1732196347, hyperparameters=Hyperparameters(n_epochs=3, batch_size=1, learning_rate_multiplier=1.8), model='gpt-4o-mini-2024-07-18', object='fine_tuning.job', organization_id='org-tI0WpKootnbW2KXQbHxLn75u', result_files=['file-u49sg36LOj6DlSWeVaDtwLMB'], seed=1511335162, status='succeeded', trained_tokens=309702, training_file='file-ocWJCHDoM4OQ7BPL2mkydmeg', validation_file='file-QEMb1hQOZzKh7Jipr3PL7Czn', estimated_finish=None, integrations=[], user_provided_suffix=None)\n",
            "Created at: 1732193261\n",
            "Finished at: 1732196347\n",
            "Hyperparams: Hyperparameters(n_epochs=3, batch_size=1, learning_rate_multiplier=1.8)\n",
            "Testing time: 64.6097 seconds\n",
            "Y_test:\n",
            "[False, False, False, False, False, False, False, False, False, False, False, False, False, False, False, False, False, False, False, False, False, False, False, False, False, False, False, False, False, False, False, False, False, False]\n",
            "Y_pred:\n",
            "[True, False, False, True, True, True, True, True, True, True, False, True, True, True, True, True, True, True, True, True, True, False, False, False, True, False, False, True, False, False, False, False, False, True]\n",
            "Confusion Matrix:\n",
            "[[13 21]\n",
            " [ 0  0]]\n",
            "Accuracy: 0.38235294117647056\n",
            "Precision: 0.0\n",
            "F1 Score: 0.0\n",
            "Recall: 0.0\n"
          ]
        },
        {
          "output_type": "stream",
          "name": "stderr",
          "text": [
            "/usr/local/lib/python3.10/dist-packages/sklearn/metrics/_classification.py:1531: UndefinedMetricWarning: Recall is ill-defined and being set to 0.0 due to no true samples. Use `zero_division` parameter to control this behavior.\n",
            "  _warn_prf(average, modifier, f\"{metric.capitalize()} is\", len(result))\n"
          ]
        }
      ]
    }
  ],
  "metadata": {
    "colab": {
      "provenance": [],
      "authorship_tag": "ABX9TyO6F+AX0bar7MNl7SU7aqkI"
    },
    "kernelspec": {
      "display_name": "Python 3",
      "name": "python3"
    },
    "language_info": {
      "name": "python"
    }
  },
  "nbformat": 4,
  "nbformat_minor": 0
}